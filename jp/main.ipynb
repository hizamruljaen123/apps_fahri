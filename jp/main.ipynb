{
 "cells": [
  {
   "cell_type": "code",
   "execution_count": 24,
   "metadata": {},
   "outputs": [
    {
     "name": "stdout",
     "output_type": "stream",
     "text": [
      "Data Loaded:\n"
     ]
    },
    {
     "data": {
      "text/html": [
       "<div>\n",
       "<style scoped>\n",
       "    .dataframe tbody tr th:only-of-type {\n",
       "        vertical-align: middle;\n",
       "    }\n",
       "\n",
       "    .dataframe tbody tr th {\n",
       "        vertical-align: top;\n",
       "    }\n",
       "\n",
       "    .dataframe thead th {\n",
       "        text-align: right;\n",
       "    }\n",
       "</style>\n",
       "<table border=\"1\" class=\"dataframe\">\n",
       "  <thead>\n",
       "    <tr style=\"text-align: right;\">\n",
       "      <th></th>\n",
       "      <th>Nama</th>\n",
       "      <th>L/P</th>\n",
       "      <th>Penghasilan</th>\n",
       "      <th>Status Ekonomi</th>\n",
       "      <th>Jumlah Tanggungan</th>\n",
       "      <th>Layak PIP</th>\n",
       "      <th>Alasan Layak PIP</th>\n",
       "      <th>Tahun Penerimaan</th>\n",
       "      <th>Jumlah Bantuan</th>\n",
       "      <th>Status Bantuan</th>\n",
       "      <th>Status Kesesuaian</th>\n",
       "    </tr>\n",
       "  </thead>\n",
       "  <tbody>\n",
       "    <tr>\n",
       "      <th>0</th>\n",
       "      <td>Aam Garot Hs</td>\n",
       "      <td>P</td>\n",
       "      <td>Rp. 1,000,000 - Rp. 1,999,999</td>\n",
       "      <td>MISKIN</td>\n",
       "      <td>1</td>\n",
       "      <td>Tidak</td>\n",
       "      <td>NaN</td>\n",
       "      <td>2023</td>\n",
       "      <td>0</td>\n",
       "      <td>Diterima</td>\n",
       "      <td>Tidak Layak</td>\n",
       "    </tr>\n",
       "    <tr>\n",
       "      <th>1</th>\n",
       "      <td>Aan Priatna</td>\n",
       "      <td>P</td>\n",
       "      <td>Rp. 500,000 - Rp. 999,999</td>\n",
       "      <td>CUKUP</td>\n",
       "      <td>2</td>\n",
       "      <td>Tidak</td>\n",
       "      <td>NaN</td>\n",
       "      <td>2023</td>\n",
       "      <td>1500000</td>\n",
       "      <td>Diterima</td>\n",
       "      <td>Tidak Layak</td>\n",
       "    </tr>\n",
       "    <tr>\n",
       "      <th>2</th>\n",
       "      <td>Abd Kahar</td>\n",
       "      <td>P</td>\n",
       "      <td>Rp. 500,000 - Rp. 999,999</td>\n",
       "      <td>MISKIN</td>\n",
       "      <td>5</td>\n",
       "      <td>Ya</td>\n",
       "      <td>Siswa Miskin/Rentan Miskin</td>\n",
       "      <td>2023</td>\n",
       "      <td>1500000</td>\n",
       "      <td>Diterima</td>\n",
       "      <td>Sesuai</td>\n",
       "    </tr>\n",
       "    <tr>\n",
       "      <th>3</th>\n",
       "      <td>Abd Kahar</td>\n",
       "      <td>P</td>\n",
       "      <td>Rp. 1,000,000 - Rp. 1,999,999</td>\n",
       "      <td>CUKUP</td>\n",
       "      <td>4</td>\n",
       "      <td>Tidak</td>\n",
       "      <td>NaN</td>\n",
       "      <td>2023</td>\n",
       "      <td>1500000</td>\n",
       "      <td>Diterima</td>\n",
       "      <td>Tidak Layak</td>\n",
       "    </tr>\n",
       "    <tr>\n",
       "      <th>4</th>\n",
       "      <td>Abd Manap</td>\n",
       "      <td>P</td>\n",
       "      <td>Rp. 500,000 - Rp. 999,999</td>\n",
       "      <td>SANGAT MISKIN</td>\n",
       "      <td>3</td>\n",
       "      <td>Ya</td>\n",
       "      <td>Siswa Miskin/Rentan Miskin</td>\n",
       "      <td>2023</td>\n",
       "      <td>0</td>\n",
       "      <td>Diproses</td>\n",
       "      <td>Sesuai</td>\n",
       "    </tr>\n",
       "    <tr>\n",
       "      <th>...</th>\n",
       "      <td>...</td>\n",
       "      <td>...</td>\n",
       "      <td>...</td>\n",
       "      <td>...</td>\n",
       "      <td>...</td>\n",
       "      <td>...</td>\n",
       "      <td>...</td>\n",
       "      <td>...</td>\n",
       "      <td>...</td>\n",
       "      <td>...</td>\n",
       "      <td>...</td>\n",
       "    </tr>\n",
       "    <tr>\n",
       "      <th>630</th>\n",
       "      <td>Zulfiadi</td>\n",
       "      <td>P</td>\n",
       "      <td>Rp. 500,000 - Rp. 999,999</td>\n",
       "      <td>MISKIN</td>\n",
       "      <td>1</td>\n",
       "      <td>Tidak</td>\n",
       "      <td>NaN</td>\n",
       "      <td>2023</td>\n",
       "      <td>0</td>\n",
       "      <td>Diproses</td>\n",
       "      <td>Tidak Layak</td>\n",
       "    </tr>\n",
       "    <tr>\n",
       "      <th>631</th>\n",
       "      <td>Zulfian</td>\n",
       "      <td>P</td>\n",
       "      <td>Rp. 1,000,000 - Rp. 1,999,999</td>\n",
       "      <td>CUKUP</td>\n",
       "      <td>0</td>\n",
       "      <td>Tidak</td>\n",
       "      <td>NaN</td>\n",
       "      <td>2023</td>\n",
       "      <td>0</td>\n",
       "      <td>Diterima</td>\n",
       "      <td>Tidak Layak</td>\n",
       "    </tr>\n",
       "    <tr>\n",
       "      <th>632</th>\n",
       "      <td>Zulkarnain</td>\n",
       "      <td>P</td>\n",
       "      <td>Rp. 500,000 - Rp. 999,999</td>\n",
       "      <td>CUKUP</td>\n",
       "      <td>3</td>\n",
       "      <td>Tidak</td>\n",
       "      <td>NaN</td>\n",
       "      <td>2023</td>\n",
       "      <td>0</td>\n",
       "      <td>Diterima</td>\n",
       "      <td>Tidak Layak</td>\n",
       "    </tr>\n",
       "    <tr>\n",
       "      <th>633</th>\n",
       "      <td>Zulkarnain Nasution</td>\n",
       "      <td>P</td>\n",
       "      <td>Rp. 500,000 - Rp. 999,999</td>\n",
       "      <td>CUKUP</td>\n",
       "      <td>4</td>\n",
       "      <td>Tidak</td>\n",
       "      <td>NaN</td>\n",
       "      <td>2023</td>\n",
       "      <td>0</td>\n",
       "      <td>Diproses</td>\n",
       "      <td>Tidak Layak</td>\n",
       "    </tr>\n",
       "    <tr>\n",
       "      <th>634</th>\n",
       "      <td>Zulkifli</td>\n",
       "      <td>P</td>\n",
       "      <td>Rp. 1,000,000 - Rp. 1,999,999</td>\n",
       "      <td>MISKIN</td>\n",
       "      <td>1</td>\n",
       "      <td>Tidak</td>\n",
       "      <td>NaN</td>\n",
       "      <td>2023</td>\n",
       "      <td>1500000</td>\n",
       "      <td>Diproses</td>\n",
       "      <td>Tidak Layak</td>\n",
       "    </tr>\n",
       "  </tbody>\n",
       "</table>\n",
       "<p>635 rows × 11 columns</p>\n",
       "</div>"
      ],
      "text/plain": [
       "                    Nama L/P                    Penghasilan Status Ekonomi  \\\n",
       "0           Aam Garot Hs   P  Rp. 1,000,000 - Rp. 1,999,999         MISKIN   \n",
       "1            Aan Priatna   P      Rp. 500,000 - Rp. 999,999          CUKUP   \n",
       "2              Abd Kahar   P      Rp. 500,000 - Rp. 999,999         MISKIN   \n",
       "3              Abd Kahar   P  Rp. 1,000,000 - Rp. 1,999,999          CUKUP   \n",
       "4              Abd Manap   P      Rp. 500,000 - Rp. 999,999  SANGAT MISKIN   \n",
       "..                   ...  ..                            ...            ...   \n",
       "630             Zulfiadi   P      Rp. 500,000 - Rp. 999,999         MISKIN   \n",
       "631              Zulfian   P  Rp. 1,000,000 - Rp. 1,999,999          CUKUP   \n",
       "632           Zulkarnain   P      Rp. 500,000 - Rp. 999,999          CUKUP   \n",
       "633  Zulkarnain Nasution   P      Rp. 500,000 - Rp. 999,999          CUKUP   \n",
       "634             Zulkifli   P  Rp. 1,000,000 - Rp. 1,999,999         MISKIN   \n",
       "\n",
       "     Jumlah Tanggungan Layak PIP            Alasan Layak PIP  \\\n",
       "0                    1     Tidak                         NaN   \n",
       "1                    2     Tidak                         NaN   \n",
       "2                    5        Ya  Siswa Miskin/Rentan Miskin   \n",
       "3                    4     Tidak                         NaN   \n",
       "4                    3        Ya  Siswa Miskin/Rentan Miskin   \n",
       "..                 ...       ...                         ...   \n",
       "630                  1     Tidak                         NaN   \n",
       "631                  0     Tidak                         NaN   \n",
       "632                  3     Tidak                         NaN   \n",
       "633                  4     Tidak                         NaN   \n",
       "634                  1     Tidak                         NaN   \n",
       "\n",
       "     Tahun Penerimaan  Jumlah Bantuan Status Bantuan Status Kesesuaian  \n",
       "0                2023               0       Diterima       Tidak Layak  \n",
       "1                2023         1500000       Diterima       Tidak Layak  \n",
       "2                2023         1500000       Diterima            Sesuai  \n",
       "3                2023         1500000       Diterima       Tidak Layak  \n",
       "4                2023               0       Diproses            Sesuai  \n",
       "..                ...             ...            ...               ...  \n",
       "630              2023               0       Diproses       Tidak Layak  \n",
       "631              2023               0       Diterima       Tidak Layak  \n",
       "632              2023               0       Diterima       Tidak Layak  \n",
       "633              2023               0       Diproses       Tidak Layak  \n",
       "634              2023         1500000       Diproses       Tidak Layak  \n",
       "\n",
       "[635 rows x 11 columns]"
      ]
     },
     "metadata": {},
     "output_type": "display_data"
    }
   ],
   "source": [
    "# Load Library atau modul untuk SVM\n",
    "import pandas as pd\n",
    "import numpy as np\n",
    "from sklearn.model_selection import train_test_split\n",
    "from sklearn.preprocessing import LabelEncoder, StandardScaler\n",
    "from sklearn.svm import SVC\n",
    "from sklearn.metrics import classification_report, accuracy_score\n",
    "import joblib\n",
    "import os\n",
    "from IPython.display import display, HTML\n",
    "\n",
    "# Memuat data data latih dan menampilkan data latih\n",
    "data_file_path = \"../data_latih.xlsx\"\n",
    "data = pd.read_excel(data_file_path)\n",
    "print(\"Data Loaded:\")\n",
    "display(data)\n",
    "\n",
    "\n"
   ]
  },
  {
   "cell_type": "code",
   "execution_count": 25,
   "metadata": {},
   "outputs": [
    {
     "name": "stdout",
     "output_type": "stream",
     "text": [
      "Nilai yang hilang diisi:\n"
     ]
    },
    {
     "data": {
      "text/html": [
       "<div>\n",
       "<style scoped>\n",
       "    .dataframe tbody tr th:only-of-type {\n",
       "        vertical-align: middle;\n",
       "    }\n",
       "\n",
       "    .dataframe tbody tr th {\n",
       "        vertical-align: top;\n",
       "    }\n",
       "\n",
       "    .dataframe thead th {\n",
       "        text-align: right;\n",
       "    }\n",
       "</style>\n",
       "<table border=\"1\" class=\"dataframe\">\n",
       "  <thead>\n",
       "    <tr style=\"text-align: right;\">\n",
       "      <th></th>\n",
       "      <th>Nama</th>\n",
       "      <th>L/P</th>\n",
       "      <th>Penghasilan</th>\n",
       "      <th>Status Ekonomi</th>\n",
       "      <th>Jumlah Tanggungan</th>\n",
       "      <th>Layak PIP</th>\n",
       "      <th>Alasan Layak PIP</th>\n",
       "      <th>Tahun Penerimaan</th>\n",
       "      <th>Jumlah Bantuan</th>\n",
       "      <th>Status Bantuan</th>\n",
       "      <th>Status Kesesuaian</th>\n",
       "    </tr>\n",
       "  </thead>\n",
       "  <tbody>\n",
       "    <tr>\n",
       "      <th>0</th>\n",
       "      <td>Aam Garot Hs</td>\n",
       "      <td>P</td>\n",
       "      <td>Rp. 1,000,000 - Rp. 1,999,999</td>\n",
       "      <td>MISKIN</td>\n",
       "      <td>1</td>\n",
       "      <td>Tidak</td>\n",
       "      <td>Tidak Layak</td>\n",
       "      <td>2023</td>\n",
       "      <td>0</td>\n",
       "      <td>Diterima</td>\n",
       "      <td>Tidak Layak</td>\n",
       "    </tr>\n",
       "    <tr>\n",
       "      <th>1</th>\n",
       "      <td>Aan Priatna</td>\n",
       "      <td>P</td>\n",
       "      <td>Rp. 500,000 - Rp. 999,999</td>\n",
       "      <td>CUKUP</td>\n",
       "      <td>2</td>\n",
       "      <td>Tidak</td>\n",
       "      <td>Tidak Layak</td>\n",
       "      <td>2023</td>\n",
       "      <td>1500000</td>\n",
       "      <td>Diterima</td>\n",
       "      <td>Tidak Layak</td>\n",
       "    </tr>\n",
       "    <tr>\n",
       "      <th>2</th>\n",
       "      <td>Abd Kahar</td>\n",
       "      <td>P</td>\n",
       "      <td>Rp. 500,000 - Rp. 999,999</td>\n",
       "      <td>MISKIN</td>\n",
       "      <td>5</td>\n",
       "      <td>Ya</td>\n",
       "      <td>Siswa Miskin/Rentan Miskin</td>\n",
       "      <td>2023</td>\n",
       "      <td>1500000</td>\n",
       "      <td>Diterima</td>\n",
       "      <td>Sesuai</td>\n",
       "    </tr>\n",
       "    <tr>\n",
       "      <th>3</th>\n",
       "      <td>Abd Kahar</td>\n",
       "      <td>P</td>\n",
       "      <td>Rp. 1,000,000 - Rp. 1,999,999</td>\n",
       "      <td>CUKUP</td>\n",
       "      <td>4</td>\n",
       "      <td>Tidak</td>\n",
       "      <td>Tidak Layak</td>\n",
       "      <td>2023</td>\n",
       "      <td>1500000</td>\n",
       "      <td>Diterima</td>\n",
       "      <td>Tidak Layak</td>\n",
       "    </tr>\n",
       "    <tr>\n",
       "      <th>4</th>\n",
       "      <td>Abd Manap</td>\n",
       "      <td>P</td>\n",
       "      <td>Rp. 500,000 - Rp. 999,999</td>\n",
       "      <td>SANGAT MISKIN</td>\n",
       "      <td>3</td>\n",
       "      <td>Ya</td>\n",
       "      <td>Siswa Miskin/Rentan Miskin</td>\n",
       "      <td>2023</td>\n",
       "      <td>0</td>\n",
       "      <td>Diproses</td>\n",
       "      <td>Sesuai</td>\n",
       "    </tr>\n",
       "  </tbody>\n",
       "</table>\n",
       "</div>"
      ],
      "text/plain": [
       "           Nama L/P                    Penghasilan Status Ekonomi  \\\n",
       "0  Aam Garot Hs   P  Rp. 1,000,000 - Rp. 1,999,999         MISKIN   \n",
       "1   Aan Priatna   P      Rp. 500,000 - Rp. 999,999          CUKUP   \n",
       "2     Abd Kahar   P      Rp. 500,000 - Rp. 999,999         MISKIN   \n",
       "3     Abd Kahar   P  Rp. 1,000,000 - Rp. 1,999,999          CUKUP   \n",
       "4     Abd Manap   P      Rp. 500,000 - Rp. 999,999  SANGAT MISKIN   \n",
       "\n",
       "   Jumlah Tanggungan Layak PIP            Alasan Layak PIP  Tahun Penerimaan  \\\n",
       "0                  1     Tidak                 Tidak Layak              2023   \n",
       "1                  2     Tidak                 Tidak Layak              2023   \n",
       "2                  5        Ya  Siswa Miskin/Rentan Miskin              2023   \n",
       "3                  4     Tidak                 Tidak Layak              2023   \n",
       "4                  3        Ya  Siswa Miskin/Rentan Miskin              2023   \n",
       "\n",
       "   Jumlah Bantuan Status Bantuan Status Kesesuaian  \n",
       "0               0       Diterima       Tidak Layak  \n",
       "1         1500000       Diterima       Tidak Layak  \n",
       "2         1500000       Diterima            Sesuai  \n",
       "3         1500000       Diterima       Tidak Layak  \n",
       "4               0       Diproses            Sesuai  "
      ]
     },
     "metadata": {},
     "output_type": "display_data"
    }
   ],
   "source": [
    "# Mengisi nilai yang hilang\n",
    "data['Alasan Layak PIP'].fillna('Tidak Layak', inplace=True)\n",
    "print(\"Nilai yang hilang diisi:\")\n",
    "display(data.head())\n",
    "\n"
   ]
  },
  {
   "cell_type": "code",
   "execution_count": 26,
   "metadata": {},
   "outputs": [
    {
     "name": "stdout",
     "output_type": "stream",
     "text": [
      "Data setelah encoding:\n"
     ]
    },
    {
     "data": {
      "text/html": [
       "<div>\n",
       "<style scoped>\n",
       "    .dataframe tbody tr th:only-of-type {\n",
       "        vertical-align: middle;\n",
       "    }\n",
       "\n",
       "    .dataframe tbody tr th {\n",
       "        vertical-align: top;\n",
       "    }\n",
       "\n",
       "    .dataframe thead th {\n",
       "        text-align: right;\n",
       "    }\n",
       "</style>\n",
       "<table border=\"1\" class=\"dataframe\">\n",
       "  <thead>\n",
       "    <tr style=\"text-align: right;\">\n",
       "      <th></th>\n",
       "      <th>Nama</th>\n",
       "      <th>L/P</th>\n",
       "      <th>Penghasilan</th>\n",
       "      <th>Status Ekonomi</th>\n",
       "      <th>Jumlah Tanggungan</th>\n",
       "      <th>Layak PIP</th>\n",
       "      <th>Alasan Layak PIP</th>\n",
       "      <th>Tahun Penerimaan</th>\n",
       "      <th>Jumlah Bantuan</th>\n",
       "      <th>Status Bantuan</th>\n",
       "      <th>Status Kesesuaian</th>\n",
       "    </tr>\n",
       "  </thead>\n",
       "  <tbody>\n",
       "    <tr>\n",
       "      <th>0</th>\n",
       "      <td>Aam Garot Hs</td>\n",
       "      <td>0</td>\n",
       "      <td>1</td>\n",
       "      <td>1</td>\n",
       "      <td>1</td>\n",
       "      <td>0</td>\n",
       "      <td>1</td>\n",
       "      <td>2023</td>\n",
       "      <td>0</td>\n",
       "      <td>1</td>\n",
       "      <td>1</td>\n",
       "    </tr>\n",
       "    <tr>\n",
       "      <th>1</th>\n",
       "      <td>Aan Priatna</td>\n",
       "      <td>0</td>\n",
       "      <td>3</td>\n",
       "      <td>0</td>\n",
       "      <td>2</td>\n",
       "      <td>0</td>\n",
       "      <td>1</td>\n",
       "      <td>2023</td>\n",
       "      <td>1500000</td>\n",
       "      <td>1</td>\n",
       "      <td>1</td>\n",
       "    </tr>\n",
       "    <tr>\n",
       "      <th>2</th>\n",
       "      <td>Abd Kahar</td>\n",
       "      <td>0</td>\n",
       "      <td>3</td>\n",
       "      <td>1</td>\n",
       "      <td>5</td>\n",
       "      <td>1</td>\n",
       "      <td>0</td>\n",
       "      <td>2023</td>\n",
       "      <td>1500000</td>\n",
       "      <td>1</td>\n",
       "      <td>0</td>\n",
       "    </tr>\n",
       "    <tr>\n",
       "      <th>3</th>\n",
       "      <td>Abd Kahar</td>\n",
       "      <td>0</td>\n",
       "      <td>1</td>\n",
       "      <td>0</td>\n",
       "      <td>4</td>\n",
       "      <td>0</td>\n",
       "      <td>1</td>\n",
       "      <td>2023</td>\n",
       "      <td>1500000</td>\n",
       "      <td>1</td>\n",
       "      <td>1</td>\n",
       "    </tr>\n",
       "    <tr>\n",
       "      <th>4</th>\n",
       "      <td>Abd Manap</td>\n",
       "      <td>0</td>\n",
       "      <td>3</td>\n",
       "      <td>2</td>\n",
       "      <td>3</td>\n",
       "      <td>1</td>\n",
       "      <td>0</td>\n",
       "      <td>2023</td>\n",
       "      <td>0</td>\n",
       "      <td>0</td>\n",
       "      <td>0</td>\n",
       "    </tr>\n",
       "  </tbody>\n",
       "</table>\n",
       "</div>"
      ],
      "text/plain": [
       "           Nama  L/P  Penghasilan  Status Ekonomi  Jumlah Tanggungan  \\\n",
       "0  Aam Garot Hs    0            1               1                  1   \n",
       "1   Aan Priatna    0            3               0                  2   \n",
       "2     Abd Kahar    0            3               1                  5   \n",
       "3     Abd Kahar    0            1               0                  4   \n",
       "4     Abd Manap    0            3               2                  3   \n",
       "\n",
       "   Layak PIP  Alasan Layak PIP  Tahun Penerimaan  Jumlah Bantuan  \\\n",
       "0          0                 1              2023               0   \n",
       "1          0                 1              2023         1500000   \n",
       "2          1                 0              2023         1500000   \n",
       "3          0                 1              2023         1500000   \n",
       "4          1                 0              2023               0   \n",
       "\n",
       "   Status Bantuan  Status Kesesuaian  \n",
       "0               1                  1  \n",
       "1               1                  1  \n",
       "2               1                  0  \n",
       "3               1                  1  \n",
       "4               0                  0  "
      ]
     },
     "metadata": {},
     "output_type": "display_data"
    }
   ],
   "source": [
    "# Encoding label atau konversi string ke numerik untuk memudahkan proses SVM\n",
    "label_cols = ['L/P', 'Penghasilan', 'Status Ekonomi', 'Layak PIP', 'Alasan Layak PIP', 'Status Bantuan', 'Status Kesesuaian']\n",
    "label_encoders = {}\n",
    "for col in label_cols:\n",
    "    le = LabelEncoder()\n",
    "    data[col] = le.fit_transform(data[col])\n",
    "    label_encoders[col] = le\n",
    "\n",
    "print(\"Data setelah encoding:\")\n",
    "display(data.head())\n",
    "\n"
   ]
  },
  {
   "cell_type": "code",
   "execution_count": 27,
   "metadata": {},
   "outputs": [
    {
     "name": "stdout",
     "output_type": "stream",
     "text": [
      "Fitur (X):\n"
     ]
    },
    {
     "data": {
      "text/html": [
       "<div>\n",
       "<style scoped>\n",
       "    .dataframe tbody tr th:only-of-type {\n",
       "        vertical-align: middle;\n",
       "    }\n",
       "\n",
       "    .dataframe tbody tr th {\n",
       "        vertical-align: top;\n",
       "    }\n",
       "\n",
       "    .dataframe thead th {\n",
       "        text-align: right;\n",
       "    }\n",
       "</style>\n",
       "<table border=\"1\" class=\"dataframe\">\n",
       "  <thead>\n",
       "    <tr style=\"text-align: right;\">\n",
       "      <th></th>\n",
       "      <th>L/P</th>\n",
       "      <th>Penghasilan</th>\n",
       "      <th>Status Ekonomi</th>\n",
       "      <th>Jumlah Tanggungan</th>\n",
       "      <th>Layak PIP</th>\n",
       "      <th>Alasan Layak PIP</th>\n",
       "      <th>Tahun Penerimaan</th>\n",
       "      <th>Jumlah Bantuan</th>\n",
       "      <th>Status Bantuan</th>\n",
       "    </tr>\n",
       "  </thead>\n",
       "  <tbody>\n",
       "    <tr>\n",
       "      <th>0</th>\n",
       "      <td>0</td>\n",
       "      <td>1</td>\n",
       "      <td>1</td>\n",
       "      <td>1</td>\n",
       "      <td>0</td>\n",
       "      <td>1</td>\n",
       "      <td>2023</td>\n",
       "      <td>0</td>\n",
       "      <td>1</td>\n",
       "    </tr>\n",
       "    <tr>\n",
       "      <th>1</th>\n",
       "      <td>0</td>\n",
       "      <td>3</td>\n",
       "      <td>0</td>\n",
       "      <td>2</td>\n",
       "      <td>0</td>\n",
       "      <td>1</td>\n",
       "      <td>2023</td>\n",
       "      <td>1500000</td>\n",
       "      <td>1</td>\n",
       "    </tr>\n",
       "    <tr>\n",
       "      <th>2</th>\n",
       "      <td>0</td>\n",
       "      <td>3</td>\n",
       "      <td>1</td>\n",
       "      <td>5</td>\n",
       "      <td>1</td>\n",
       "      <td>0</td>\n",
       "      <td>2023</td>\n",
       "      <td>1500000</td>\n",
       "      <td>1</td>\n",
       "    </tr>\n",
       "    <tr>\n",
       "      <th>3</th>\n",
       "      <td>0</td>\n",
       "      <td>1</td>\n",
       "      <td>0</td>\n",
       "      <td>4</td>\n",
       "      <td>0</td>\n",
       "      <td>1</td>\n",
       "      <td>2023</td>\n",
       "      <td>1500000</td>\n",
       "      <td>1</td>\n",
       "    </tr>\n",
       "    <tr>\n",
       "      <th>4</th>\n",
       "      <td>0</td>\n",
       "      <td>3</td>\n",
       "      <td>2</td>\n",
       "      <td>3</td>\n",
       "      <td>1</td>\n",
       "      <td>0</td>\n",
       "      <td>2023</td>\n",
       "      <td>0</td>\n",
       "      <td>0</td>\n",
       "    </tr>\n",
       "  </tbody>\n",
       "</table>\n",
       "</div>"
      ],
      "text/plain": [
       "   L/P  Penghasilan  Status Ekonomi  Jumlah Tanggungan  Layak PIP  \\\n",
       "0    0            1               1                  1          0   \n",
       "1    0            3               0                  2          0   \n",
       "2    0            3               1                  5          1   \n",
       "3    0            1               0                  4          0   \n",
       "4    0            3               2                  3          1   \n",
       "\n",
       "   Alasan Layak PIP  Tahun Penerimaan  Jumlah Bantuan  Status Bantuan  \n",
       "0                 1              2023               0               1  \n",
       "1                 1              2023         1500000               1  \n",
       "2                 0              2023         1500000               1  \n",
       "3                 1              2023         1500000               1  \n",
       "4                 0              2023               0               0  "
      ]
     },
     "metadata": {},
     "output_type": "display_data"
    },
    {
     "name": "stdout",
     "output_type": "stream",
     "text": [
      "Label (y):\n"
     ]
    },
    {
     "data": {
      "text/plain": [
       "0    1\n",
       "1    1\n",
       "2    0\n",
       "3    1\n",
       "4    0\n",
       "Name: Status Kesesuaian, dtype: int32"
      ]
     },
     "metadata": {},
     "output_type": "display_data"
    }
   ],
   "source": [
    "# Memisahkan fitur dan label\n",
    "X = data.drop(columns=['Status Kesesuaian', 'Nama'])\n",
    "y = data['Status Kesesuaian']\n",
    "\n",
    "print(\"Fitur (X):\")\n",
    "display(X.head())\n",
    "print(\"Label (y):\")\n",
    "display(y.head())\n",
    "\n"
   ]
  },
  {
   "cell_type": "code",
   "execution_count": 28,
   "metadata": {},
   "outputs": [
    {
     "name": "stdout",
     "output_type": "stream",
     "text": [
      "Data pelatihan dan pengujian:\n",
      "X_train shape: (508, 9)\n",
      "X_test shape: (127, 9)\n",
      "y_train shape: (508,)\n",
      "y_test shape: (127,) \n",
      "\n"
     ]
    }
   ],
   "source": [
    "# Pembagian data\n",
    "X_train, X_test, y_train, y_test = train_test_split(X, y, test_size=0.2, random_state=42)\n",
    "\n",
    "print(\"Data pelatihan dan pengujian:\")\n",
    "print(\"X_train shape:\", X_train.shape)\n",
    "print(\"X_test shape:\", X_test.shape)\n",
    "print(\"y_train shape:\", y_train.shape)\n",
    "print(\"y_test shape:\", y_test.shape, \"\\n\")\n",
    "\n"
   ]
  },
  {
   "cell_type": "code",
   "execution_count": 29,
   "metadata": {},
   "outputs": [
    {
     "name": "stdout",
     "output_type": "stream",
     "text": [
      "Fitur setelah standarisasi:\n",
      "X_train:\n",
      "[[ 0.         -1.7893947  -1.22513698 -0.30194393 -0.93516776  0.93516776\n",
      "   0.          1.          1.00394479]\n",
      " [ 0.          1.87967698  1.26434136 -0.90583179 -0.93516776  0.93516776\n",
      "   0.         -1.          1.00394479]\n",
      " [ 0.          0.04514114 -1.22513698  1.50971965 -0.93516776  0.93516776\n",
      "   0.          1.         -0.99607071]\n",
      " [ 0.         -0.87212678 -1.22513698 -0.30194393 -0.93516776  0.93516776\n",
      "   0.          1.          1.00394479]\n",
      " [ 0.          1.87967698 -1.22513698 -0.90583179 -0.93516776  0.93516776\n",
      "   0.         -1.         -0.99607071]]\n",
      "X_test:\n",
      "[[ 0.         -0.87212678  1.26434136  1.50971965  1.06932685 -1.06932685\n",
      "   0.          1.         -0.99607071]\n",
      " [ 0.         -0.87212678 -1.22513698 -0.90583179 -0.93516776  0.93516776\n",
      "   0.          1.          1.00394479]\n",
      " [ 0.          0.96240906  0.01960219  0.90583179  1.06932685 -1.06932685\n",
      "   0.          1.         -0.99607071]\n",
      " [ 0.          0.96240906  1.26434136  0.90583179  1.06932685 -1.06932685\n",
      "   0.         -1.         -0.99607071]\n",
      " [ 0.          0.96240906  1.26434136 -0.30194393  1.06932685 -1.06932685\n",
      "   0.         -1.         -0.99607071]] \n",
      "\n"
     ]
    }
   ],
   "source": [
    "# Standarisasi fitur\n",
    "scaler = StandardScaler()\n",
    "X_train = scaler.fit_transform(X_train)\n",
    "X_test = scaler.transform(X_test)\n",
    "\n",
    "print(\"Fitur setelah standarisasi:\")\n",
    "print(\"X_train:\")\n",
    "print(X_train[:5])\n",
    "print(\"X_test:\")\n",
    "print(X_test[:5], \"\\n\")"
   ]
  },
  {
   "cell_type": "code",
   "execution_count": 30,
   "metadata": {},
   "outputs": [
    {
     "name": "stdout",
     "output_type": "stream",
     "text": [
      "Model SVM dilatih.\n",
      "\n",
      "Model saved to svm_model.joblib\n",
      "Scaler saved to scaler.joblib\n",
      "\n"
     ]
    }
   ],
   "source": [
    "# Melatih model SVM\n",
    "svm_model = SVC(kernel='linear')\n",
    "svm_model.fit(X_train, y_train)\n",
    "\n",
    "print(\"Model SVM dilatih.\\n\")\n",
    "\n",
    "# Menyimpan model dan scaler\n",
    "def save_model_and_scaler(model, scaler, model_filename, scaler_filename):\n",
    "    model_dir = os.path.dirname(model_filename)\n",
    "    scaler_dir = os.path.dirname(scaler_filename)\n",
    "    \n",
    "    if model_dir and not os.path.exists(model_dir):\n",
    "        os.makedirs(model_dir)\n",
    "    \n",
    "    if scaler_dir and not os.path.exists(scaler_dir):\n",
    "        os.makedirs(scaler_dir)\n",
    "    \n",
    "    joblib.dump(model, model_filename)\n",
    "    joblib.dump(scaler, scaler_filename)\n",
    "    print(f\"Model saved to {model_filename}\")\n",
    "    print(f\"Scaler saved to {scaler_filename}\\n\")\n",
    "\n",
    "model_filename = 'svm_model.joblib'\n",
    "scaler_filename = 'scaler.joblib'\n",
    "save_model_and_scaler(svm_model, scaler, model_filename, scaler_filename)\n"
   ]
  },
  {
   "cell_type": "code",
   "execution_count": 31,
   "metadata": {},
   "outputs": [
    {
     "name": "stdout",
     "output_type": "stream",
     "text": [
      "Classification Report:\n",
      "               precision    recall  f1-score   support\n",
      "\n",
      "           0       0.75      0.43      0.55        21\n",
      "           1       1.00      1.00      1.00        62\n",
      "           2       0.77      0.93      0.85        44\n",
      "\n",
      "    accuracy                           0.88       127\n",
      "   macro avg       0.84      0.79      0.80       127\n",
      "weighted avg       0.88      0.88      0.87       127\n",
      "\n",
      "Accuracy Score: 0.8818897637795275 \n",
      "\n"
     ]
    }
   ],
   "source": [
    "# Pengujian Model\n",
    "y_pred = svm_model.predict(X_test)\n",
    "\n",
    "# Evaluasi model\n",
    "print(\"Classification Report:\\n\", classification_report(y_test, y_pred))\n",
    "print(\"Accuracy Score:\", accuracy_score(y_test, y_pred), \"\\n\")\n"
   ]
  },
  {
   "cell_type": "code",
   "execution_count": 34,
   "metadata": {},
   "outputs": [
    {
     "name": "stdout",
     "output_type": "stream",
     "text": [
      "Dimensi X_train: (508, 9)\n",
      "Dimensi decision_function: (508,)\n",
      "Data untuk visualisasi:\n"
     ]
    },
    {
     "data": {
      "text/html": [
       "<div>\n",
       "<style scoped>\n",
       "    .dataframe tbody tr th:only-of-type {\n",
       "        vertical-align: middle;\n",
       "    }\n",
       "\n",
       "    .dataframe tbody tr th {\n",
       "        vertical-align: top;\n",
       "    }\n",
       "\n",
       "    .dataframe thead th {\n",
       "        text-align: right;\n",
       "    }\n",
       "</style>\n",
       "<table border=\"1\" class=\"dataframe\">\n",
       "  <thead>\n",
       "    <tr style=\"text-align: right;\">\n",
       "      <th></th>\n",
       "      <th>PCA1</th>\n",
       "      <th>PCA2</th>\n",
       "      <th>Decision Value</th>\n",
       "      <th>Status Kesesuaian</th>\n",
       "      <th>Nama</th>\n",
       "    </tr>\n",
       "  </thead>\n",
       "  <tbody>\n",
       "    <tr>\n",
       "      <th>0</th>\n",
       "      <td>-1.741353</td>\n",
       "      <td>0.829650</td>\n",
       "      <td>2.222279</td>\n",
       "      <td>1</td>\n",
       "      <td>Muhammad Abdi</td>\n",
       "    </tr>\n",
       "    <tr>\n",
       "      <th>1</th>\n",
       "      <td>-0.855161</td>\n",
       "      <td>-0.544401</td>\n",
       "      <td>2.222255</td>\n",
       "      <td>1</td>\n",
       "      <td>Irwan</td>\n",
       "    </tr>\n",
       "    <tr>\n",
       "      <th>2</th>\n",
       "      <td>-1.078206</td>\n",
       "      <td>1.125374</td>\n",
       "      <td>2.222200</td>\n",
       "      <td>1</td>\n",
       "      <td>Darman Syahputra Hasibuan</td>\n",
       "    </tr>\n",
       "    <tr>\n",
       "      <th>3</th>\n",
       "      <td>-1.727427</td>\n",
       "      <td>1.094940</td>\n",
       "      <td>2.222286</td>\n",
       "      <td>1</td>\n",
       "      <td>Dedi Kurniawan</td>\n",
       "    </tr>\n",
       "    <tr>\n",
       "      <th>4</th>\n",
       "      <td>-1.908374</td>\n",
       "      <td>-0.542496</td>\n",
       "      <td>2.222339</td>\n",
       "      <td>1</td>\n",
       "      <td>Muhammad Nadan</td>\n",
       "    </tr>\n",
       "    <tr>\n",
       "      <th>...</th>\n",
       "      <td>...</td>\n",
       "      <td>...</td>\n",
       "      <td>...</td>\n",
       "      <td>...</td>\n",
       "      <td>...</td>\n",
       "    </tr>\n",
       "    <tr>\n",
       "      <th>503</th>\n",
       "      <td>2.282677</td>\n",
       "      <td>0.344620</td>\n",
       "      <td>2.222221</td>\n",
       "      <td>2</td>\n",
       "      <td>Bahari</td>\n",
       "    </tr>\n",
       "    <tr>\n",
       "      <th>504</th>\n",
       "      <td>1.578898</td>\n",
       "      <td>1.057071</td>\n",
       "      <td>2.190524</td>\n",
       "      <td>0</td>\n",
       "      <td>Daryusman</td>\n",
       "    </tr>\n",
       "    <tr>\n",
       "      <th>505</th>\n",
       "      <td>1.354826</td>\n",
       "      <td>-1.556309</td>\n",
       "      <td>2.270830</td>\n",
       "      <td>0</td>\n",
       "      <td>M Suhartono</td>\n",
       "    </tr>\n",
       "    <tr>\n",
       "      <th>506</th>\n",
       "      <td>-1.767860</td>\n",
       "      <td>0.479142</td>\n",
       "      <td>2.222284</td>\n",
       "      <td>1</td>\n",
       "      <td>Sanja Primaja</td>\n",
       "    </tr>\n",
       "    <tr>\n",
       "      <th>507</th>\n",
       "      <td>-2.175395</td>\n",
       "      <td>-1.465347</td>\n",
       "      <td>2.222350</td>\n",
       "      <td>1</td>\n",
       "      <td>Dariono</td>\n",
       "    </tr>\n",
       "  </tbody>\n",
       "</table>\n",
       "<p>508 rows × 5 columns</p>\n",
       "</div>"
      ],
      "text/plain": [
       "         PCA1      PCA2  Decision Value  Status Kesesuaian  \\\n",
       "0   -1.741353  0.829650        2.222279                  1   \n",
       "1   -0.855161 -0.544401        2.222255                  1   \n",
       "2   -1.078206  1.125374        2.222200                  1   \n",
       "3   -1.727427  1.094940        2.222286                  1   \n",
       "4   -1.908374 -0.542496        2.222339                  1   \n",
       "..        ...       ...             ...                ...   \n",
       "503  2.282677  0.344620        2.222221                  2   \n",
       "504  1.578898  1.057071        2.190524                  0   \n",
       "505  1.354826 -1.556309        2.270830                  0   \n",
       "506 -1.767860  0.479142        2.222284                  1   \n",
       "507 -2.175395 -1.465347        2.222350                  1   \n",
       "\n",
       "                          Nama  \n",
       "0                Muhammad Abdi  \n",
       "1                        Irwan  \n",
       "2    Darman Syahputra Hasibuan  \n",
       "3               Dedi Kurniawan  \n",
       "4               Muhammad Nadan  \n",
       "..                         ...  \n",
       "503                     Bahari  \n",
       "504                  Daryusman  \n",
       "505                M Suhartono  \n",
       "506              Sanja Primaja  \n",
       "507                    Dariono  \n",
       "\n",
       "[508 rows x 5 columns]"
      ]
     },
     "metadata": {},
     "output_type": "display_data"
    },
    {
     "data": {
      "application/vnd.plotly.v1+json": {
       "config": {
        "plotlyServerURL": "https://plot.ly"
       },
       "data": [
        {
         "customdata": [
          [
           "Muhammad Abdi",
           2.222279384697179
          ],
          [
           "Irwan",
           2.222254612007875
          ],
          [
           "Darman Syahputra Hasibuan",
           2.2221998576379387
          ],
          [
           "Dedi Kurniawan",
           2.2222859251412297
          ],
          [
           "Muhammad Nadan",
           2.222339327459395
          ],
          [
           "Juwari",
           2.222269972938418
          ],
          [
           "Junaidi Alamsyah",
           2.2222652628679933
          ],
          [
           "Ismail",
           2.222277859027054
          ],
          [
           "Satiman",
           2.190590376988255
          ],
          [
           "Toni Ramanda",
           2.190523814581661
          ],
          [
           "Samsuri Johan",
           2.2222279431241976
          ],
          [
           "Yahya",
           2.27777238735793
          ],
          [
           "Marianto",
           2.256404094422717
          ],
          [
           "Feri Yulianto",
           2.2500024227056867
          ],
          [
           "Eri Widodo",
           2.2222740224584747
          ],
          [
           "Hermansyah",
           2.2333237273664586
          ],
          [
           "Suherman",
           2.222253907111895
          ],
          [
           "Ahmad Yahya",
           2.222228905553247
          ],
          [
           "Bahlian",
           2.2222231405936994
          ],
          [
           "Sutarno",
           2.222223615344524
          ],
          [
           "Armansyah Syam",
           2.249992567029487
          ],
          [
           "Abdul Khair",
           2.166677889950287
          ],
          [
           "Misdar",
           2.2221986001464473
          ],
          [
           "Tengku Sutan Ahmad",
           2.222270061757947
          ],
          [
           "Kamaruddin",
           2.222223615344524
          ],
          [
           "Suparman",
           2.2222306500629725
          ],
          [
           "Ngateman",
           2.266659736399333
          ],
          [
           "Bambang Rianto",
           2.266659736399333
          ],
          [
           "Mai Rizal",
           2.24242351359385
          ],
          [
           "Paino",
           2.2222749239735604
          ],
          [
           "Bambang Hermanto",
           2.2564065095723738
          ],
          [
           "Adi Sumantri",
           2.1905985551979397
          ],
          [
           "Muliadi",
           2.222323182682456
          ],
          [
           "Misman",
           2.2221986001464473
          ],
          [
           "Muhammad Yusuf",
           2.2222860337798696
          ],
          [
           "Saipul Anwar",
           2.2222253600203805
          ],
          [
           "Rudiyanto",
           2.2564065095723738
          ],
          [
           "Jamin",
           2.222289466809861
          ],
          [
           "Elvin",
           2.222246323911866
          ],
          [
           "Turimin",
           2.2222003456079773
          ],
          [
           "Madio",
           2.222238452866714
          ],
          [
           "Marlansyah",
           2.222259194436548
          ],
          [
           "Abdul Hamid Matondang",
           2.24242351359385
          ],
          [
           "Irwansyah",
           2.2221998576379387
          ],
          [
           "M Yusuf",
           2.2222782376586685
          ],
          [
           "Muhammad Ali",
           2.2222223583906215
          ],
          [
           "Yanto",
           2.222271208965353
          ],
          [
           "Sajuki",
           2.222248067874649
          ],
          [
           "Bambang Sugiarto",
           2.2222740224584747
          ],
          [
           "M. Amin",
           2.2222253600203805
          ],
          [
           "Hermanto",
           2.22228418236692
          ],
          [
           "Marwan",
           2.222334534553454
          ],
          [
           "Jul Fadli Syah",
           2.1666687557171285
          ],
          [
           "Lazuardi",
           2.242422409993676
          ],
          [
           "Afriadi Nur",
           2.222266518851366
          ],
          [
           "Sahrizal",
           2.242420140623558
          ],
          [
           "Heriyanto",
           2.2564058799765467
          ],
          [
           "Mulyanto",
           2.2223025445528894
          ],
          [
           "Giot",
           2.2424190369414827
          ],
          [
           "Bambang",
           2.2424190369414827
          ],
          [
           "Budiman",
           2.22228429100897
          ],
          [
           "Muhammad Adil",
           2.22232108600874
          ],
          [
           "Ayub",
           2.222323182682456
          ],
          [
           "Mansur",
           2.2222908308751426
          ],
          [
           "Sudarman",
           2.2666616711859238
          ],
          [
           "Ikhsan Surya",
           2.2223014747909837
          ],
          [
           "Abdul Samad",
           2.2222397788019985
          ],
          [
           "T Jamaluddin At",
           2.22228418236692
          ],
          [
           "Ishak",
           2.2222036516817605
          ],
          [
           "Basri",
           2.2564066701876824
          ],
          [
           "Supriadi",
           2.2223292543991833
          ],
          [
           "Dedi Rahwanto",
           2.2222912094183105
          ],
          [
           "Sanijar",
           2.2222100052712657
          ],
          [
           "Wahyu Purnama",
           2.2666611982652163
          ],
          [
           "Agus Hermawan",
           2.222213444349971
          ],
          [
           "Aam Garot Hs",
           2.2222782376586685
          ],
          [
           "Zaini Yusuf",
           2.2223292543991833
          ],
          [
           "M Faisal Pohan",
           2.222203986871776
          ],
          [
           "Syamsu Rizal",
           2.2333239988318643
          ],
          [
           "P Juliar",
           2.2666598570526384
          ],
          [
           "Surya Candra",
           2.2223019618690616
          ],
          [
           "Sulaiman Pohan",
           2.261901274622229
          ],
          [
           "Adi Saputra",
           2.2222036516817605
          ],
          [
           "Sujoko",
           2.222364765879583
          ],
          [
           "Dedi Rahmat",
           2.2222669172728895
          ],
          [
           "Boimin",
           2.2222306500629725
          ],
          [
           "Hermansyah",
           2.222289575441571
          ],
          [
           "Kemat",
           2.242420140623558
          ],
          [
           "M Isa",
           2.222308499654128
          ],
          [
           "Abu Yamin",
           2.2333226632461334
          ],
          [
           "Legiman",
           2.2222740224584747
          ],
          [
           "Ngadiman",
           2.222306757588319
          ],
          [
           "Fadly Ikhfandy",
           2.1666695096225865
          ],
          [
           "Sugiandi",
           2.2222718049754913
          ],
          [
           "Supriono",
           2.2222609379952467
          ],
          [
           "Syaifullah",
           2.222266993231571
          ],
          [
           "Sunardi",
           2.2223292543991833
          ],
          [
           "M.Yakub",
           2.2222912094183105
          ],
          [
           "Mahmudin",
           2.222266518851366
          ],
          [
           "Puput Ramadani",
           2.22227186858046
          ],
          [
           "Slamet Riadi",
           2.256406040594485
          ],
          [
           "Hendri Ramansyah",
           2.261903899772782
          ],
          [
           "Andri Kurniawan",
           2.222327512984635
          ],
          [
           "Marhalim",
           2.2222722793105416
          ],
          [
           "Alansyah Putra",
           2.2223014747909837
          ],
          [
           "Budiman",
           2.2222960060664425
          ],
          [
           "Sigit Purwono",
           2.266659736399333
          ],
          [
           "Sapri",
           2.2222064074524472
          ],
          [
           "Dedek Sapaat",
           2.2223215729147716
          ],
          [
           "Rusli",
           2.2223032170225747
          ],
          [
           "Indra Syahputra",
           2.2222367086020176
          ],
          [
           "Zulkifli",
           2.222271208965353
          ],
          [
           "Suprapto",
           2.190515627804728
          ],
          [
           "Suherman",
           2.190518762365525
          ],
          [
           "Jumadi",
           2.22224152297029
          ],
          [
           "Syafruddin Tanjung",
           2.2223014747909837
          ],
          [
           "Samsuri",
           2.266659736399333
          ],
          [
           "Abdi Afnizar Nasution",
           2.266659263451176
          ],
          [
           "Zulkarnain Nasution",
           2.2222419975640393
          ],
          [
           "Selamet Riyadi",
           2.2222271914619536
          ],
          [
           "Mardian",
           2.256404094422717
          ],
          [
           "Julianto",
           2.2222526508432683
          ],
          [
           "Muhammad Saman",
           2.222321464345657
          ],
          [
           "Susanto",
           2.2424199162936747
          ],
          [
           "Azhar",
           2.2221986001464473
          ],
          [
           "M Zaini Pane",
           2.2499889933348256
          ],
          [
           "Suandi",
           2.2223577481351144
          ],
          [
           "Wagiran",
           2.190523814581661
          ],
          [
           "Sukirman",
           2.2223630255790625
          ],
          [
           "Madiono",
           2.2223144411230966
          ],
          [
           "Ferry Kurniawansyah",
           2.2222730608109096
          ],
          [
           "Dodi Helpino Pida",
           2.222346424269777
          ],
          [
           "Suhartono",
           2.2666598570526384
          ],
          [
           "Suriyanto",
           2.190590376988255
          ],
          [
           "Hermanto",
           2.166600042465926
          ],
          [
           "Rismat",
           2.270828949898818
          ],
          [
           "Muchlis Saputra",
           2.222344683393908
          ],
          [
           "Zainal Abidin",
           2.2223577481351144
          ],
          [
           "Teguh",
           2.2564065095723738
          ],
          [
           "Fadli",
           2.22228429100897
          ],
          [
           "Ermansyah Putra",
           2.190590376988255
          ],
          [
           "Muchfriyatna Sihombing",
           2.222195052679091
          ],
          [
           "Achmad Fadly Effendi",
           2.222266518851366
          ],
          [
           "Heri Gusliadi Siregar",
           2.2222794933486165
          ],
          [
           "Sumarwan",
           2.2222064074524472
          ],
          [
           "Sumardi",
           2.222304286750909
          ],
          [
           "Adi Syah Putra",
           2.2223630255790625
          ],
          [
           "Salahuddin",
           2.1904560630117555
          ],
          [
           "Sukarman",
           2.2223215729147716
          ],
          [
           "Suparmin",
           2.2222103404229556
          ],
          [
           "Muhammad Alamsyah",
           2.222258232532177
          ],
          [
           "Junaidi S",
           2.222264666787637
          ],
          [
           "Muslim",
           2.2223327933045716
          ],
          [
           "M Syaharuddin",
           2.1904560630117555
          ],
          [
           "Gusmanto",
           2.222259194436548
          ],
          [
           "Dwi Hartono",
           2.22228418236692
          ],
          [
           "Syamsuri",
           2.2564036254153796
          ],
          [
           "Dedi Irawan",
           2.24999201658698
          ],
          [
           "Misman",
           2.222307904037769
          ],
          [
           "Heri Purnama",
           2.2083247540056163
          ],
          [
           "Ardiansyah",
           2.2222687365454408
          ],
          [
           "Ngadiono",
           2.1668995347038065
          ],
          [
           "Jasiman",
           2.2222783463123505
          ],
          [
           "M.Azmi",
           2.2424226343112537
          ],
          [
           "Abdullah",
           2.222276494643055
          ],
          [
           "Muhammad Jauhari",
           2.166677889950287
          ],
          [
           "Katno",
           2.22228418236692
          ],
          [
           "Susanto",
           2.242422409993676
          ],
          [
           "Wagiran",
           2.22222587810145
          ],
          [
           "Indra Irawan",
           2.222308499654128
          ],
          [
           "Mustafa",
           2.190523814581661
          ],
          [
           "Sutrisno",
           2.222334534553454
          ],
          [
           "Sudarto",
           2.222271208965353
          ],
          [
           "Budiman",
           2.1667156680689903
          ],
          [
           "Herman Felani",
           2.222228905553247
          ],
          [
           "Marianto T",
           2.2222306500629725
          ],
          [
           "Sahriadi",
           2.242422409993676
          ],
          [
           "Suprayetno",
           2.1666800909874966
          ],
          [
           "Nurman",
           2.2222253600203805
          ],
          [
           "Muliya Neshan Rumapea",
           2.2222182477186916
          ],
          [
           "Abd Muis",
           2.2222090266640304
          ],
          [
           "Alansyah Putra",
           2.222272952146885
          ],
          [
           "Muhammad  Yusup",
           2.222276603300147
          ],
          [
           "Sugiono",
           2.2222262131573993
          ],
          [
           "Samsuli",
           2.2500016839194594
          ],
          [
           "Abdullah",
           2.2222100052712657
          ],
          [
           "Alpijam Hajannur",
           2.222213444349971
          ],
          [
           "Wan Jaini Abidin",
           2.24999201658698
          ],
          [
           "T M Fahri",
           2.2222367086020176
          ],
          [
           "Abd Kahar",
           2.2222253600203805
          ],
          [
           "Suradi",
           2.1904560630117555
          ],
          [
           "Musiran",
           2.1905985551979397
          ],
          [
           "Misdian Karim",
           2.2666598570526384
          ],
          [
           "Suriyadi",
           2.222283035427515
          ],
          [
           "Rukiyan",
           2.222297748469659
          ],
          [
           "Suhendrik",
           2.2222609379952467
          ],
          [
           "Muhammad Salim",
           2.22222843084763
          ],
          [
           "Joko Yuwono",
           2.2222860337798696
          ],
          [
           "Adi Syahputra",
           2.2222103404229556
          ],
          [
           "Sugiono",
           2.256403464787356
          ],
          [
           "M Anfal",
           2.2223145497059487
          ],
          [
           "Aminan",
           2.208326840692498
          ],
          [
           "Juhairi Lubis",
           2.222296678615332
          ],
          [
           "Ahmad Albar",
           2.222364279352374
          ],
          [
           "Halomoan Purba",
           2.249991828068495
          ],
          [
           "Jumarno",
           2.190458234824476
          ],
          [
           "Wagiran",
           2.190456617071815
          ],
          [
           "Heriadi",
           2.2222279431241976
          ],
          [
           "Supriadi",
           2.222206895364969
          ],
          [
           "Razali",
           2.222246323911866
          ],
          [
           "Indra Syahputra",
           2.266659736399333
          ],
          [
           "Suprianto",
           2.222316291527243
          ],
          [
           "Ngatirin",
           2.2222279431241976
          ],
          [
           "Waluyo",
           2.1667045239719265
          ],
          [
           "Suratman",
           2.2666611982652163
          ],
          [
           "Asrol",
           2.222369556175171
          ],
          [
           "Nasir",
           2.1666771361206423
          ],
          [
           "Hendri Susanto",
           2.2499889933348256
          ],
          [
           "Tedi Asriadi",
           2.266659736399333
          ],
          [
           "Harianto",
           2.190456617071815
          ],
          [
           "Mesnan",
           2.1904671191401293
          ],
          [
           "Indra Saputra",
           2.2222262131573993
          ],
          [
           "Surimran",
           2.2666616711859238
          ],
          [
           "Rudi Hartono",
           2.222204965567775
          ],
          [
           "Ginanjar Putra",
           2.2223145497059487
          ],
          [
           "Nuriadi",
           2.2564042550481105
          ],
          [
           "Ponijan",
           2.2223149280874193
          ],
          [
           "Joni",
           2.2222783463123505
          ],
          [
           "Paijan",
           2.2223215729147716
          ],
          [
           "Suhendro",
           2.222208152668748
          ],
          [
           "Darma",
           2.2499899208740524
          ],
          [
           "Sarwo Edie",
           2.222266993231571
          ],
          [
           "Bahrin",
           2.2223014747909837
          ],
          [
           "Sugio",
           2.190518762365525
          ],
          [
           "Wahyu Purnama Nst",
           2.2223594886011657
          ],
          [
           "Dedi Saputra",
           2.256406040594485
          ],
          [
           "Sarbaini",
           2.222276494643055
          ],
          [
           "Sudarmin",
           2.233326745027693
          ],
          [
           "Tukino",
           2.222220839837621
          ],
          [
           "Irwansyah",
           2.222283035427515
          ],
          [
           "Suhadi",
           2.222193307051293
          ],
          [
           "Riswanto",
           2.250020901806012
          ],
          [
           "Sipto",
           2.222246323911866
          ],
          [
           "Yusuf Hamdani",
           2.222320129944172
          ],
          [
           "Abdul Halim",
           2.1904671191401293
          ],
          [
           "Tarmin",
           2.2500226211505168
          ],
          [
           "Agustiawan",
           2.2222990037184336
          ],
          [
           "Endi Yuliadi",
           2.2223014747909837
          ],
          [
           "Kasri",
           2.2222960060664425
          ],
          [
           "Marwan",
           2.222319831259201
          ],
          [
           "Taulis Yantoro",
           2.222246323911866
          ],
          [
           "Nurdinsyah",
           2.222318235949264
          ],
          [
           "Ariadi",
           2.2223144411230966
          ],
          [
           "Dedi Herdino",
           2.2564036254153796
          ],
          [
           "Rohmat",
           2.2223577481351144
          ],
          [
           "Ruli Handika",
           2.1904587888676934
          ],
          [
           "Saidi",
           2.1905954241388677
          ],
          [
           "Limin",
           2.249992567029487
          ],
          [
           "Supriadi",
           2.222318235949264
          ],
          [
           "Mardi",
           2.2222053007498648
          ],
          [
           "Firman Syah",
           2.2564066701876824
          ],
          [
           "M Jakaria",
           2.2222912094183105
          ],
          [
           "Surya Dani",
           2.222318235949264
          ],
          [
           "Musri",
           2.2223292543991833
          ],
          [
           "Suwarman",
           2.2223327933045716
          ],
          [
           "Ahmad Firdaus",
           2.166677889950287
          ],
          [
           "Suhendra",
           2.2666611982652163
          ],
          [
           "Masuri",
           2.1905954241388677
          ],
          [
           "Irawan Syahputra",
           2.222323182682456
          ],
          [
           "Muliono",
           2.222364765879583
          ],
          [
           "Syah Budi",
           2.2564058799765467
          ],
          [
           "Feri Madona",
           2.250020901806012
          ],
          [
           "Teuku Sulaiman",
           2.22222587810145
          ],
          [
           "Syamsuri",
           2.2424192612757077
          ],
          [
           "Feri Syahputra",
           2.2222912094183105
          ],
          [
           "Syah Putra",
           2.2223594886011657
          ],
          [
           "Mukhlis",
           2.266659263451176
          ],
          [
           "Miswanto",
           2.2223577481351144
          ],
          [
           "Saryanto",
           2.2222279431241976
          ],
          [
           "Dirwan",
           2.222320129944172
          ],
          [
           "Supriadi",
           2.1666695096225865
          ],
          [
           "Bustami",
           2.166680844790419
          ],
          [
           "Fadlun",
           2.2222674806122247
          ],
          [
           "Jumino",
           2.2222253600203805
          ],
          [
           "Ridwan Asmara",
           2.24242351359385
          ],
          [
           "Salman Alfarizi",
           2.222297261354613
          ],
          [
           "Dafid Heriyandi",
           2.222276494643055
          ],
          [
           "Nurrahim",
           2.2222224883956603
          ],
          [
           "Miswanto",
           2.242422409993676
          ],
          [
           "M. Yusuf",
           2.2223577481351144
          ],
          [
           "Maimun Harahap",
           2.222323182682456
          ],
          [
           "Katiman",
           2.2223131862233405
          ],
          [
           "Roni Wahyudi",
           2.2222652628679933
          ],
          [
           "Didi Supriyanto",
           2.2222449981328136
          ],
          [
           "Hermanto",
           2.2083247540056163
          ],
          [
           "Irwan",
           2.222277750372419
          ],
          [
           "Miswadi",
           2.2222990037184336
          ],
          [
           "Junaidi S",
           2.2222687365454408
          ],
          [
           "Sagino",
           2.242422409993676
          ],
          [
           "Wagiman",
           2.2222990037184336
          ],
          [
           "Sugianto",
           2.2223451700929626
          ],
          [
           "Supono",
           2.2223594886011657
          ],
          [
           "Sudarmin",
           2.2222086915044152
          ],
          [
           "Suwardi",
           2.190523814581661
          ],
          [
           "Sujari",
           2.2222103404229556
          ],
          [
           "Dodi Iskandar",
           2.190518762365525
          ],
          [
           "Rudi Armansyah",
           2.2223381498696892
          ],
          [
           "Sunaryo",
           2.190515627804728
          ],
          [
           "Sudarwadi",
           2.1904671191401293
          ],
          [
           "Jenal Manurung",
           2.2333239988318643
          ],
          [
           "Muhammad Sofi",
           2.222248542412479
          ],
          [
           "Andika",
           2.222271317632789
          ],
          [
           "Jaka Saputra",
           2.222253907111895
          ],
          [
           "Edi Susanto",
           2.222323182682456
          ],
          [
           "Syamsul Bahri",
           2.256403464787356
          ],
          [
           "Selamat",
           2.222316291527243
          ],
          [
           "T. Syarif Hamdani",
           2.2223132948086475
          ],
          [
           "Syarifuddin",
           2.2424190369414827
          ],
          [
           "Sariono",
           2.1904671191401293
          ],
          [
           "Sidik Pramono",
           2.222258232532177
          ],
          [
           "Dapit",
           2.2500236877914785
          ],
          [
           "Sriono",
           2.277773975578039
          ],
          [
           "Rakiman",
           2.2564058799765467
          ],
          [
           "Zainuddin",
           2.2222371962484972
          ],
          [
           "Mainullah",
           2.27777238735793
          ],
          [
           "M Johansyah",
           2.2499897323460867
          ],
          [
           "Amran",
           2.222259194436548
          ],
          [
           "Sarudi",
           2.222346424269777
          ],
          [
           "Sudirman",
           2.1904560630117555
          ],
          [
           "Dedi Idris",
           2.22232799983429
          ],
          [
           "Herman",
           2.222351216149004
          ],
          [
           "Sugianto",
           2.2666616711859238
          ],
          [
           "Supangat",
           2.222304286750909
          ],
          [
           "Untung Sumardi",
           2.1904643936020567
          ],
          [
           "Oktian",
           2.2564066701876824
          ],
          [
           "Misdi",
           2.2222599761210744
          ],
          [
           "Sudarmadi",
           2.222315182938909
          ],
          [
           "Fujianto",
           2.2222687365454408
          ],
          [
           "Hendro Miski Wijaya",
           2.2619037612926407
          ],
          [
           "Julianto",
           2.2222912094183105
          ],
          [
           "Marwansyah Lubis",
           2.222265737258927
          ],
          [
           "Suhardi",
           2.2223090822693377
          ],
          [
           "Hendra Sakti Nasution",
           2.222351216149004
          ],
          [
           "Misjatul Aladuni",
           2.222315182938909
          ],
          [
           "Elfiadi",
           2.2223209774386734
          ],
          [
           "Ruri Febrian",
           2.242420140623558
          ],
          [
           "Suyedi",
           2.2222859251412297
          ],
          [
           "Irawan",
           2.2222103404229556
          ],
          [
           "Muslim",
           2.2222051501091764
          ],
          [
           "Lajiman",
           2.222254612007875
          ],
          [
           "Julian Indra Syahputra",
           2.190458234824476
          ],
          [
           "Suparjo Susanto",
           2.190458234824476
          ],
          [
           "Dedi Mustafa",
           2.2083261297212653
          ],
          [
           "Dedi Wahyudi",
           2.222203986871776
          ],
          [
           "Sutrisno",
           2.222344683393908
          ],
          [
           "M.Taslim",
           2.222276494643055
          ],
          [
           "Paiman",
           2.2222221533172464
          ],
          [
           "Rahmad Amin",
           2.190458234824476
          ],
          [
           "Joko Susanto",
           2.2222990037184336
          ],
          [
           "Ucok Sandro",
           2.222318235949264
          ],
          [
           "Sunardi",
           2.242420140623558
          ],
          [
           "Sudiyan",
           2.222364765879583
          ],
          [
           "Mujianto",
           2.222308499654128
          ],
          [
           "Edi Setiawan",
           2.222258232532177
          ],
          [
           "Yuswardi Y",
           2.222246323911866
          ],
          [
           "Sejali",
           2.222213444349971
          ],
          [
           "M.Yusuf",
           2.2499994002084733
          ],
          [
           "Tengku Idris Affandi",
           2.2222224883956603
          ],
          [
           "Ahmad Yani",
           2.222203986871776
          ],
          [
           "Datam",
           2.222289466809861
          ],
          [
           "Suprianto",
           2.242420140623558
          ],
          [
           "Sukidi",
           2.242422409993676
          ],
          [
           "Eko Munir Sajaya",
           2.222223615344524
          ],
          [
           "Sarmin",
           2.24242351359385
          ],
          [
           "Arianto",
           2.190518762365525
          ],
          [
           "Ahyar",
           2.2222221533172464
          ],
          [
           "Hendri Syahputra Nasution",
           2.19046656516152
          ],
          [
           "Armansyah",
           2.2223150366693187
          ],
          [
           "M.Trikurniantoro",
           2.233385667820801
          ],
          [
           "Bambang Sumantri",
           2.222228905553247
          ],
          [
           "Junaidi",
           2.2222749239735604
          ],
          [
           "Herwansyah",
           2.1906036017702504
          ],
          [
           "Miswanto",
           2.256403464787356
          ],
          [
           "Hardi Rianto",
           2.222243741662663
          ],
          [
           "Abdul Kolik",
           2.2222262131573993
          ],
          [
           "Agus Widodo",
           2.2564058799765467
          ],
          [
           "Hendriko Lubis",
           2.2221986001464473
          ],
          [
           "Suprianto Gunawan",
           2.2221986001464473
          ],
          [
           "Supriadi",
           2.2222782376586685
          ],
          [
           "Tukino",
           2.222289466809861
          ],
          [
           "Bunawan",
           2.2564036254153796
          ],
          [
           "Junaidi",
           2.222204965567775
          ],
          [
           "Subroto",
           2.2222253600203805
          ],
          [
           "Sutia Budi",
           2.222323182682456
          ],
          [
           "Irwan Syahputra",
           2.2222090266640304
          ],
          [
           "Rasiman",
           2.222304286750909
          ],
          [
           "Riswandi",
           2.2666611982652163
          ],
          [
           "Supriadi",
           2.222334534553454
          ],
          [
           "Iyon Hendri Wigin Sihombing",
           2.2708306502829267
          ],
          [
           "Abd Manap",
           2.1904560630117555
          ],
          [
           "Tusirin",
           2.1904671191401293
          ],
          [
           "Dafid Heriyandi",
           2.24242351359385
          ],
          [
           "Rudianto",
           2.19051057500931
          ],
          [
           "Sukadi Purnawan",
           2.222283035427515
          ],
          [
           "Alfian",
           2.222272952146885
          ],
          [
           "Agus Darmawan",
           2.2564058799765467
          ],
          [
           "Irfan Masri",
           2.222351216149004
          ],
          [
           "Eko Nofriyadi",
           2.222307904037769
          ],
          [
           "Adriadi",
           2.2424226343112537
          ],
          [
           "Sutrisno",
           2.222323182682456
          ],
          [
           "Jujur Sianipar",
           2.2666615505391827
          ],
          [
           "Suhendra",
           2.2424232892806133
          ],
          [
           "Pariaman",
           2.2222730608109096
          ],
          [
           "Mafluthi",
           2.2223037996932287
          ],
          [
           "Sahuddin",
           2.1904643936020567
          ],
          [
           "Rapudinsyah",
           2.2222319068292817
          ],
          [
           "Suhermanto",
           2.222247362895609
          ],
          [
           "Endang Johari",
           2.2222740224584747
          ],
          [
           "Arianto",
           2.222213444349971
          ],
          [
           "Sudirman",
           2.222321464345657
          ],
          [
           "Edi Suryanto",
           2.2223499620804867
          ],
          [
           "Widodo",
           2.2223215729147716
          ],
          [
           "Suparlan",
           2.22222587810145
          ],
          [
           "Ariyanto",
           2.222271208965353
          ],
          [
           "Abdul Muis",
           2.2222635194450726
          ],
          [
           "Hairul Azmi",
           2.2223096460676013
          ],
          [
           "Ahmad Syafii",
           2.2222275265099807
          ],
          [
           "Suhendra",
           2.222277750372419
          ],
          [
           "Pariatno",
           2.222246323911866
          ],
          [
           "Herwin",
           2.222255650836589
          ],
          [
           "Iwan",
           2.222243741662663
          ],
          [
           "Andi Susanto",
           2.2222253600203805
          ],
          [
           "Muhammad Juli Akbar",
           2.2222349772946624
          ],
          [
           "Makmur Lubis",
           2.2666610776167646
          ],
          [
           "Kamsito",
           2.2222730608109096
          ],
          [
           "Sucipto",
           2.249992567029487
          ],
          [
           "Sohirin",
           2.2083264165626306
          ],
          [
           "Zulkarnain",
           2.2222740224584747
          ],
          [
           "M Rizal",
           2.222229687664146
          ],
          [
           "Irianda",
           2.1904587888676934
          ],
          [
           "Hari Irawan",
           2.190456617071815
          ],
          [
           "Sutrisno",
           2.2222410353617934
          ],
          [
           "Roso",
           2.277773975578039
          ],
          [
           "Sugianto",
           2.222238452866714
          ],
          [
           "Darwin",
           2.222344683393908
          ],
          [
           "Suyono S",
           2.222269972938418
          ],
          [
           "Ramli Situmorang",
           2.222304286750909
          ],
          [
           "Aan Priatna",
           2.2222990037184336
          ],
          [
           "Tono Prayitno Syahputra",
           2.208387268840688
          ],
          [
           "Suwito",
           2.222334534553454
          ],
          [
           "Bambang Irawan",
           2.2222003456079773
          ],
          [
           "Irwan Sanusi Siregar",
           2.2223150366693187
          ],
          [
           "Agus Salim",
           2.222291318046611
          ],
          [
           "Sukur",
           2.19046656516152
          ],
          [
           "Saman",
           2.2666610776167646
          ],
          [
           "Sofyan",
           2.2666593841061946
          ],
          [
           "Ngatino",
           2.1904671191401293
          ],
          [
           "Budi Lubis",
           2.22230021959808
          ],
          [
           "Muhammad Safi'I,St",
           2.222272952146885
          ],
          [
           "Suyitno",
           2.2223025445528894
          ],
          [
           "Muhammad Yusuf",
           2.222229687664146
          ],
          [
           "Junaidi",
           2.2222960060664425
          ],
          [
           "Abdul Muis",
           2.2222990037184336
          ],
          [
           "Misdi",
           2.2222349772946624
          ],
          [
           "Ralim",
           2.222297261354613
          ],
          [
           "M Tri Kurniantoro",
           2.222233232920826
          ],
          [
           "Hendri Dora",
           2.222316182947798
          ],
          [
           "Zoelkifli",
           2.22227186858046
          ],
          [
           "Suhardi",
           2.222255650836589
          ],
          [
           "Yamin Prihatin",
           2.222321464345657
          ],
          [
           "Sukarno",
           2.2222090266640304
          ],
          [
           "Junaidi",
           2.2666616711859238
          ],
          [
           "Syafrizal",
           2.256404094422717
          ],
          [
           "Suyato",
           2.22228418236692
          ],
          [
           "Ilyas",
           2.2222783463123505
          ],
          [
           "Sugianto",
           2.222204965567775
          ],
          [
           "Sumardi",
           2.2222090266640304
          ],
          [
           "Ari Kusmana",
           2.222276494643055
          ],
          [
           "Sugianto",
           2.2222609379952467
          ],
          [
           "Suwito",
           2.222204965567775
          ],
          [
           "Kasim",
           2.2424190369414827
          ],
          [
           "Adi Irwanto",
           2.2564058799765467
          ],
          [
           "Misdi",
           2.256403464787356
          ],
          [
           "Suardi",
           2.1904643936020567
          ],
          [
           "Hardiansyah",
           2.24242351359385
          ],
          [
           "M. Abdul Jailani",
           2.2222064074524472
          ],
          [
           "Indra Irawan",
           2.1666069286551948
          ],
          [
           "Rahmad Syahputra",
           2.222297261354613
          ],
          [
           "Safarun",
           2.2222635194450726
          ],
          [
           "Suhendra",
           2.1666695096225865
          ],
          [
           "Muhammad Widodo",
           2.2564042550481105
          ],
          [
           "Matfiah",
           2.2222275265099807
          ],
          [
           "Edy Haryanto",
           2.222346424269777
          ],
          [
           "Dahli Syaandri",
           2.2223032170225747
          ],
          [
           "Nusa Antari",
           2.2222271914619536
          ],
          [
           "Barmen",
           2.20833279362614
          ],
          [
           "Suardi",
           2.222327512984635
          ],
          [
           "Muhammad  Abdi Prihartono",
           2.2222275265099807
          ],
          [
           "Iswadi",
           2.222289575441571
          ],
          [
           "Sudarso Diatmaja",
           2.2223145497059487
          ],
          [
           "Deni Pebrianto Syahputra",
           2.2222036516817605
          ],
          [
           "Wan Syahrizal",
           2.2666616711859238
          ],
          [
           "Adi Arianto",
           2.2222907222458885
          ],
          [
           "Bahari",
           2.2222211749239626
          ],
          [
           "Daryusman",
           2.190523814581661
          ],
          [
           "M Suhartono",
           2.2708301286249624
          ],
          [
           "Sanja Primaja",
           2.22228418236692
          ],
          [
           "Dariono",
           2.2223499620804867
          ]
         ],
         "hovertemplate": "PCA1=%{x}<br>PCA2=%{y}<br>Nama=%{customdata[0]}<br>Decision Value=%{customdata[1]}<br>Status Kesesuaian=%{marker.color}<extra></extra>",
         "legendgroup": "",
         "marker": {
          "color": [
           1,
           1,
           1,
           1,
           1,
           0,
           1,
           1,
           0,
           0,
           1,
           2,
           2,
           0,
           1,
           2,
           1,
           1,
           1,
           1,
           2,
           2,
           1,
           1,
           1,
           1,
           2,
           2,
           2,
           0,
           2,
           0,
           0,
           1,
           1,
           1,
           2,
           1,
           1,
           1,
           1,
           1,
           2,
           1,
           1,
           1,
           1,
           1,
           1,
           1,
           1,
           1,
           2,
           2,
           1,
           2,
           2,
           1,
           2,
           2,
           1,
           1,
           0,
           1,
           2,
           1,
           1,
           1,
           2,
           2,
           1,
           1,
           2,
           2,
           1,
           1,
           1,
           2,
           2,
           2,
           1,
           0,
           2,
           1,
           0,
           1,
           1,
           2,
           1,
           2,
           1,
           1,
           2,
           1,
           1,
           1,
           1,
           1,
           1,
           0,
           2,
           0,
           1,
           1,
           1,
           1,
           2,
           1,
           1,
           1,
           1,
           1,
           0,
           0,
           1,
           1,
           2,
           2,
           1,
           2,
           2,
           1,
           1,
           2,
           1,
           2,
           1,
           0,
           1,
           1,
           1,
           1,
           2,
           0,
           2,
           0,
           1,
           1,
           2,
           1,
           0,
           1,
           1,
           1,
           1,
           1,
           1,
           0,
           1,
           2,
           1,
           1,
           1,
           0,
           1,
           1,
           2,
           2,
           1,
           2,
           1,
           2,
           1,
           2,
           1,
           2,
           1,
           2,
           2,
           1,
           0,
           1,
           1,
           2,
           1,
           1,
           2,
           2,
           1,
           1,
           2,
           1,
           1,
           2,
           0,
           2,
           1,
           2,
           1,
           1,
           0,
           0,
           2,
           1,
           1,
           1,
           1,
           1,
           2,
           2,
           1,
           2,
           1,
           1,
           2,
           0,
           0,
           1,
           1,
           1,
           2,
           1,
           1,
           2,
           2,
           1,
           2,
           2,
           2,
           0,
           0,
           2,
           2,
           2,
           1,
           2,
           1,
           1,
           1,
           1,
           2,
           1,
           1,
           0,
           1,
           2,
           1,
           2,
           2,
           1,
           1,
           2,
           1,
           0,
           0,
           2,
           1,
           1,
           1,
           1,
           1,
           0,
           1,
           2,
           1,
           0,
           0,
           2,
           0,
           2,
           2,
           1,
           0,
           1,
           1,
           2,
           2,
           0,
           0,
           1,
           2,
           2,
           2,
           2,
           1,
           1,
           2,
           1,
           1,
           0,
           2,
           2,
           1,
           1,
           2,
           1,
           1,
           2,
           2,
           1,
           0,
           1,
           1,
           1,
           2,
           1,
           1,
           1,
           2,
           1,
           1,
           1,
           2,
           0,
           2,
           0,
           1,
           0,
           0,
           2,
           1,
           1,
           1,
           0,
           2,
           1,
           1,
           2,
           0,
           1,
           2,
           2,
           2,
           1,
           2,
           2,
           1,
           1,
           0,
           1,
           1,
           2,
           1,
           0,
           2,
           1,
           0,
           1,
           0,
           1,
           1,
           1,
           1,
           0,
           1,
           2,
           1,
           2,
           1,
           1,
           0,
           0,
           2,
           2,
           1,
           1,
           2,
           0,
           1,
           0,
           2,
           1,
           1,
           1,
           1,
           1,
           0,
           2,
           2,
           1,
           2,
           2,
           1,
           2,
           0,
           2,
           0,
           1,
           2,
           1,
           0,
           0,
           2,
           1,
           2,
           2,
           1,
           1,
           1,
           1,
           2,
           2,
           1,
           0,
           2,
           1,
           2,
           1,
           0,
           0,
           0,
           2,
           0,
           1,
           1,
           2,
           1,
           1,
           2,
           0,
           2,
           2,
           1,
           1,
           0,
           1,
           1,
           1,
           1,
           1,
           1,
           1,
           2,
           1,
           1,
           1,
           2,
           1,
           1,
           1,
           1,
           1,
           1,
           2,
           1,
           2,
           2,
           1,
           1,
           0,
           0,
           1,
           2,
           1,
           1,
           0,
           1,
           1,
           2,
           1,
           1,
           1,
           1,
           0,
           2,
           2,
           0,
           1,
           1,
           1,
           1,
           1,
           1,
           1,
           1,
           1,
           1,
           0,
           1,
           1,
           2,
           2,
           2,
           1,
           1,
           2,
           2,
           1,
           1,
           2,
           2,
           2,
           2,
           0,
           2,
           1,
           2,
           1,
           1,
           2,
           2,
           2,
           1,
           1,
           2,
           2,
           1,
           2,
           1,
           1,
           2,
           2,
           1,
           2,
           0,
           0,
           1,
           1
          ],
          "coloraxis": "coloraxis",
          "symbol": "circle"
         },
         "mode": "markers",
         "name": "",
         "orientation": "v",
         "showlegend": false,
         "type": "scatter",
         "x": [
          -1.7413534800559607,
          -0.8551607059412576,
          -1.07820635043983,
          -1.7274270753774654,
          -1.9083735370367962,
          1.8470899391097377,
          -1.1221823844787222,
          -1.1637861057440082,
          2.1686704267789274,
          1.5788976125537897,
          -0.9803228552775098,
          1.6359732104926803,
          1.9155751529199574,
          1.802793936267089,
          -1.4313819394645289,
          1.9295015575984522,
          -1.542617684122286,
          -1.274425357566338,
          -0.9538161867092025,
          -1.3173752196203052,
          1.1978692141721021,
          1.7902136723772761,
          -1.049182893064357,
          -1.1486890530470293,
          -1.3173752196203052,
          -1.2339922843195366,
          1.6903326884179763,
          1.6903326884179763,
          1.5914778764436024,
          1.804140077055771,
          1.4091852739955888,
          2.12572056472496,
          2.310529955980139,
          -1.049182893064357,
          -1.4184268515980882,
          -1.2769421463735038,
          1.4091852739955888,
          -1.7249102865702994,
          -0.9095201838665538,
          -1.0087498198175553,
          -1.2490893370165146,
          -1.4996678220683193,
          1.5914778764436024,
          -1.0782063504398298,
          -1.40332979890111,
          -1.2883517622448328,
          -1.486712734201879,
          -0.8690871106197521,
          -1.4313819394645289,
          -1.2769421463735038,
          -1.7678601486242669,
          -1.881866868468491,
          2.3799864866024145,
          1.5939946652507675,
          -1.1512058418541946,
          2.097867755367971,
          1.368752200748787,
          -1.6970574772133107,
          2.1003845441751365,
          2.1003845441751365,
          -1.4588599248448901,
          -1.6701759846683768,
          2.310529955980139,
          -1.4449335201663958,
          1.1409929474396405,
          -1.71195519870386,
          -0.9234465885450482,
          -1.7678601486242669,
          1.6777524245281639,
          1.3662354119416216,
          -1.9248167305224573,
          -1.684477213323498,
          1.2117956188505965,
          1.1005598741928386,
          -0.9808970104605664,
          -1.40332979890111,
          -1.9248167305224573,
          1.6348025624741966,
          1.8865516955444848,
          1.6473828263640091,
          -1.6424986680815854,
          2.043508277442675,
          1.6777524245281639,
          -2.107109332970471,
          1.8875230123565399,
          -1.2339922843195366,
          -1.415910062790923,
          2.097867755367971,
          -1.6285722634030908,
          1.88906848435165,
          -1.4313819394645289,
          -1.669005336649893,
          2.337036624548447,
          -1.1082559798002274,
          -1.4592347488215174,
          -1.5147648747652978,
          -1.9248167305224573,
          -1.684477213323498,
          -1.1512058418541946,
          1.8445731503025729,
          1.32580233869482,
          1.5775514717651078,
          -1.9652498037692592,
          -1.47181501271133,
          -1.71195519870386,
          -1.7109838818918055,
          1.6903326884179763,
          -1.0642799457613354,
          -1.6007194540461018,
          -1.6715221254570585,
          -1.2895224102633163,
          -1.486712734201879,
          1.6218474746077567,
          1.6193306858005914,
          -0.8830135152982466,
          -1.71195519870386,
          1.6903326884179763,
          1.6498996151711747,
          -1.2465725482093493,
          1.8596702029995509,
          1.9155751529199574,
          -1.5135942267468134,
          -1.909719677825479,
          2.1408176174219387,
          -1.049182893064357,
          1.6638260198496697,
          -2.19049226827124,
          1.5788976125537897,
          -2.1475424062172728,
          -1.9931026131262481,
          -1.1372794371757005,
          -2.177912004381427,
          1.6473828263640091,
          2.1686704267789274,
          1.1827721614751239,
          1.901648748241463,
          -2.218345077628229,
          -2.1904922682712398,
          1.4091852739955888,
          -1.4588599248448901,
          2.1686704267789274,
          -1.0516996818715225,
          -1.1512058418541946,
          -1.4323532562765828,
          -1.0642799457613354,
          -1.6566244039665092,
          -2.1475424062172728,
          1.9029948890301447,
          -1.6007194540461018,
          1.1688457567966293,
          -1.2055653197794913,
          -1.5006391388803733,
          -1.9222999417152922,
          1.9029948890301447,
          -1.4996678220683193,
          -1.7678601486242669,
          1.8321922176191894,
          1.1144862788713332,
          -2.0070290178047423,
          2.114310948853632,
          -1.4743318015184952,
          2.3395534133556124,
          -1.0943295751217328,
          1.5510448031968,
          -1.443762872147912,
          1.7902136723772761,
          -1.7678601486242669,
          1.5939946652507675,
          1.8192371297527488,
          -1.6285722634030908,
          1.5788976125537897,
          -1.881866868468491,
          -1.486712734201879,
          1.6487289671526912,
          -1.274425357566338,
          -1.2339922843195366,
          1.5939946652507675,
          1.8735966076780444,
          -1.2769421463735038,
          -1.0074036790288736,
          1.1284126835498278,
          -1.4462796609550772,
          -1.1347626483685345,
          1.776287267698782,
          1.762360863020287,
          1.2117956188505965,
          -0.9808970104605664,
          1.1144862788713332,
          -1.2895224102633163,
          -1.2769421463735038,
          1.9029948890301447,
          2.12572056472496,
          1.6473828263640091,
          -1.4298364674694177,
          -1.670550808645004,
          -1.4592347488215174,
          -0.9108663246552353,
          -1.4184268515980882,
          1.1688457567966293,
          1.875142079673156,
          -1.6841023893468714,
          2.1117941600464656,
          -1.685448530135552,
          -2.1765658635927454,
          1.1574361409253004,
          1.9434279622769464,
          1.8600450269761777,
          -0.9803228552775098,
          -0.9948234151390609,
          -0.9095201838665538,
          1.6903326884179763,
          -1.6436693161000695,
          -0.9803228552775098,
          1.691678829206658,
          1.1005598741928386,
          -2.1336160015387784,
          1.8331635344312431,
          1.6638260198496697,
          1.6903326884179763,
          1.8600450269761777,
          1.3940882212986108,
          1.776287267698782,
          1.1409929474396405,
          1.7181854977749658,
          -1.6841023893468714,
          1.8726252908659904,
          -1.9236460825039738,
          -1.0943295751217328,
          -1.6007194540461018,
          -1.0238468725145335,
          1.6613092310425044,
          -1.5147648747652978,
          -1.71195519870386,
          1.6193306858005914,
          -2.1500591950244385,
          1.32580233869482,
          -1.443762872147912,
          1.3826786054272808,
          2.325627008677118,
          -1.4298364674694177,
          -1.0921327551183242,
          1.9014494170350336,
          -0.9095201838665538,
          2.350963029226941,
          1.3940882212986108,
          1.8610163437882319,
          -1.6995742660204765,
          -1.71195519870386,
          -1.7109838818918055,
          -1.6411525272929037,
          -0.9095201838665538,
          2.3534798180341068,
          -1.9931026131262481,
          1.8321922176191892,
          -2.1904922682712398,
          1.9004781002229796,
          2.1282373535321257,
          1.1978692141721021,
          2.3534798180341068,
          1.6752356357209983,
          1.3662354119416216,
          -1.684477213323498,
          2.3534798180341068,
          -1.9248167305224573,
          -1.9222999417152922,
          1.7902136723772761,
          1.1005598741928386,
          2.1282373535321257,
          2.310529955980139,
          -2.107109332970471,
          1.368752200748787,
          1.9014494170350336,
          1.8192371297527488,
          2.0574346821211695,
          -1.684477213323498,
          -2.1500591950244385,
          1.6498996151711747,
          -2.1904922682712398,
          -0.9803228552775098,
          2.350963029226941,
          2.337036624548447,
          1.830646745624078,
          -1.4453083441430232,
          -1.2769421463735038,
          1.5914778764436024,
          -1.7400073392672784,
          -1.443762872147912,
          2.323110219869953,
          1.5939946652507675,
          -2.1904922682712398,
          2.310529955980139,
          -1.9640791557507749,
          -1.1221823844787222,
          -1.23516293233802,
          2.114310948853632,
          -1.4727863295233843,
          -1.6995742660204765,
          -1.4743318015184952,
          1.5939946652507675,
          -1.6995742660204765,
          -2.1488885470059547,
          -2.1500591950244385,
          1.171362545603795,
          1.5788976125537897,
          1.1688457567966293,
          1.6193306858005914,
          -2.232271482306724,
          1.6218474746077567,
          1.3940882212986108,
          1.8865516955444848,
          -1.2326461435308544,
          -1.1777125104225017,
          -1.542617684122286,
          2.310529955980139,
          1.875142079673156,
          -1.6436693161000695,
          -1.6550789319713985,
          2.1003845441751365,
          1.3940882212986108,
          -1.2055653197794913,
          1.8584995549810668,
          1.1700164048151136,
          1.368752200748787,
          -1.2200658796410422,
          1.6359732104926803,
          1.7042590930964714,
          -1.4996678220683193,
          -2.177912004381427,
          1.9029948890301447,
          -1.8957932731469844,
          -2.204418672949735,
          1.1409929474396405,
          -1.6566244039665092,
          1.3966050101057759,
          1.3662354119416216,
          -1.1651322465326892,
          2.393912891280909,
          -1.4743318015184952,
          1.620501333819075,
          -1.684477213323498,
          -1.485741417389825,
          -1.6831310725348165,
          -2.204418672949735,
          2.393912891280909,
          -1.9791762084477535,
          2.097867755367971,
          -1.7274270753774654,
          1.1688457567966293,
          -1.0352564883858626,
          -0.8551607059412576,
          1.9434279622769464,
          1.9434279622769464,
          1.408014625977105,
          1.6348025624741966,
          -2.218345077628229,
          -1.443762872147912,
          2.3660600819239193,
          1.9434279622769464,
          -1.6995742660204765,
          2.3534798180341068,
          2.097867755367971,
          -2.107109332970471,
          -1.6285722634030908,
          -1.2055653197794913,
          -0.9095201838665538,
          -0.9808970104605664,
          2.3521336772454253,
          2.323110219869953,
          1.6348025624741966,
          -1.7249102865702994,
          2.097867755367971,
          1.5939946652507675,
          -1.3173752196203052,
          1.5914778764436024,
          1.6193306858005914,
          2.3660600819239193,
          1.4370380833525778,
          -1.614645858724597,
          2.14216375821062,
          -1.274425357566338,
          1.8041400770557703,
          2.0852874914781583,
          1.875142079673156,
          -1.2061394749625474,
          1.776287267698782,
          1.368752200748787,
          -1.049182893064357,
          -1.049182893064357,
          -1.40332979890111,
          -1.7249102865702994,
          1.8321922176191894,
          1.7181854977749658,
          -1.2769421463735038,
          2.310529955980139,
          1.1284126835498278,
          -1.6566244039665092,
          1.1005598741928386,
          -1.881866868468491,
          1.3523090072631272,
          1.9029948890301447,
          1.3940882212986108,
          1.5914778764436024,
          1.6622805478545586,
          -1.4298364674694177,
          -1.4462796609550772,
          1.368752200748787,
          -2.204418672949735,
          -2.0070290178047423,
          1.5510448031968,
          2.310529955980139,
          1.183942809493608,
          1.6344277384975692,
          -1.1372794371757005,
          -1.7260809345887838,
          1.3966050101057759,
          -1.2630157416950087,
          -1.5565440888007807,
          -1.4313819394645289,
          -0.9808970104605664,
          -1.909719677825479,
          -2.175395215574262,
          -1.6007194540461018,
          1.8192371297527488,
          -1.486712734201879,
          -1.162615457725524,
          -1.9665959445579408,
          1.8167203409455837,
          -1.4727863295233843,
          -0.9095201838665538,
          -1.5021846108754846,
          -1.2061394749625474,
          -1.2769421463735038,
          -0.896939919976741,
          1.1435097362468059,
          -1.1372794371757005,
          1.1978692141721021,
          2.1547440221004335,
          -1.4313819394645289,
          -0.939889782030708,
          1.9004781002229796,
          1.8600450269761777,
          -0.952470045920521,
          1.1700164048151136,
          -1.2490893370165146,
          -2.218345077628229,
          1.847089939109738,
          -1.6566244039665092,
          -1.6995742660204765,
          1.9144045049014744,
          -1.881866868468491,
          -1.0087498198175553,
          -1.614645858724597,
          -1.3754769895441217,
          1.4370380833525778,
          1.1435097362468059,
          1.6069497531172077,
          1.3940882212986108,
          -1.6829317413283873,
          -1.4462796609550772,
          -1.6970574772133107,
          -0.939889782030708,
          -1.7109838818918055,
          -1.6995742660204765,
          -0.896939919976741,
          -1.7400073392672784,
          -0.9373729932235424,
          -1.9526695398794465,
          1.8445731503025729,
          -1.5021846108754846,
          -1.909719677825479,
          1.1284126835498278,
          1.1409929474396405,
          1.9155751529199574,
          -1.7678601486242669,
          -1.0943295751217328,
          1.7181854977749658,
          1.1284126835498278,
          -1.443762872147912,
          -1.4592347488215174,
          1.7181854977749658,
          2.1003845441751365,
          1.368752200748787,
          1.875142079673156,
          1.3966050101057759,
          1.5914778764436024,
          -1.0642799457613354,
          1.142339088228322,
          -1.7400073392672784,
          -1.162615457725524,
          2.337036624548447,
          1.8726252908659904,
          1.8167203409455837,
          -2.177912004381427,
          -1.6715221254570585,
          1.8596702029995509,
          1.648354143176064,
          -1.9652498037692592,
          1.8167203409455837,
          -1.415910062790923,
          -1.6841023893468714,
          1.6777524245281639,
          1.1409929474396405,
          -1.7539337439457725,
          2.282677146623151,
          1.5788976125537897,
          1.3548257960702925,
          -1.7678601486242669,
          -2.1753952155742615
         ],
         "xaxis": "x",
         "y": [
          0.8296499786135905,
          -0.5444009551787802,
          1.1253738910420357,
          1.0949401690069216,
          -0.5424961635819874,
          -0.5064771496779247,
          -1.4672519842981648,
          0.4033493483586183,
          -0.3265110823275206,
          1.0570709960358464,
          -0.26554076488199796,
          -1.9921404115626609,
          -0.9840719210535713,
          1.0039787249715997,
          0.0619724040798196,
          -0.7187817306602376,
          0.6061227847699351,
          -0.9574253609438361,
          0.08496688690103935,
          0.7331032427093193,
          -0.5369108717130382,
          0.9187612635818961,
          -0.8304449030044518,
          -1.817759636081203,
          0.7331032427093193,
          -0.3416275187674641,
          -1.1110523789929554,
          -1.1110523789929554,
          1.14228845742555,
          1.1840514539752303,
          -0.6752206041669883,
          1.364017521325635,
          0.8752001370886469,
          -0.8304449030044518,
          1.1896887749676244,
          1.3489010848856906,
          -0.6752206041669883,
          -1.2113862768226034,
          -1.425488987748485,
          -0.21464706082808052,
          1.8794814656723589,
          -1.0844058188832195,
          1.14228845742555,
          1.1253738910420372,
          -1.0314202094721985,
          -1.2227155513371697,
          0.043310552004584876,
          -0.8096911455721133,
          0.0619724040798196,
          1.3489010848856906,
          0.47914232683055136,
          -0.19198851179894746,
          -0.4648208147814701,
          -1.1640379884039762,
          0.48856680974832306,
          0.8334371405389673,
          -1.29101844634336,
          -0.6808058960359354,
          -1.4728893052905594,
          -1.4728893052905594,
          0.5738909327912521,
          0.7122006652452025,
          0.8752001370886469,
          0.8391811231845862,
          0.8883275415467828,
          -0.08366990593479898,
          -1.6907791781418193,
          0.47914232683055136,
          -1.196269840382659,
          1.0153079994861665,
          1.4985400918542073,
          -0.5955884346462316,
          -0.2716206813197042,
          0.2725296993704112,
          0.3159333199585872,
          -1.0314202094721985,
          1.4985400918542073,
          0.49425876327049634,
          0.9717468729929173,
          0.5794762246601993,
          -1.423690857804916,
          -0.04765089203073845,
          -1.196269840382659,
          -0.31896896973833094,
          0.1093206924984469,
          -0.3416275187674641,
          -1.1166376708619021,
          0.8334371405389673,
          -1.1584006674115828,
          -1.3345795728366092,
          0.0619724040798196,
          -1.7741985095879538,
          1.225707788871685,
          -1.2019617939048313,
          -0.4686079767068481,
          1.136703165556603,
          1.4985400918542073,
          -0.5955884346462316,
          0.48856680974832306,
          1.7998492961516017,
          0.399510157309795,
          0.8769982670322163,
          0.8827422496778357,
          -0.5538254380965518,
          -0.08366990593479898,
          -0.9460960864292695,
          -1.1110523789929554,
          1.3906640814353708,
          -0.6278202866249141,
          0.532127936241573,
          1.2636836234959867,
          0.043310552004584876,
          -0.6334576076173084,
          1.672868838212218,
          -1.0749813359654474,
          -0.08366990593479898,
          -1.1110523789929554,
          -1.7268502211693268,
          -0.42684498015716843,
          -0.4212596882882207,
          -0.9840719210535713,
          -1.3496960092765533,
          -0.7225688925856151,
          -0.8570914631141875,
          -0.8304449030044518,
          -1.461560030775993,
          0.7557617917384516,
          1.0570709960358464,
          -0.9347668119147029,
          0.35216186889116796,
          0.753857000141657,
          0.8409792531281558,
          0.5794762246601993,
          -0.3265110823275199,
          1.6841981127267847,
          -1.2493621114469053,
          0.22518141095178418,
          0.7557617917384519,
          -0.6752206041669883,
          0.5738909327912521,
          -0.3265110823275199,
          1.475881542825074,
          0.48856680974832306,
          0.9243985845742906,
          1.3906640814353708,
          -0.06500805385956382,
          -0.9347668119147029,
          -1.0692893824432752,
          -0.6278202866249141,
          1.4189079223334504,
          -0.3925212228213821,
          -0.22197963838874923,
          -0.8077863539753192,
          -1.0692893824432752,
          -1.0844058188832195,
          0.47914232683055136,
          0.0906588404232117,
          0.5378198897637448,
          0.08687167849783395,
          -1.2075991148972254,
          1.7525010077329748,
          -1.080618656957842,
          -0.9366716035114973,
          0.5264906152491783,
          -1.6472180516485702,
          0.9187612635818961,
          0.47914232683055136,
          -1.1640379884039762,
          -1.0370575304645928,
          -1.1584006674115828,
          1.0570709960358464,
          -0.19198851179894746,
          0.043310552004584876,
          0.7595489536638294,
          -0.9574253609438361,
          -0.3416275187674641,
          -1.1640379884039762,
          -0.15596949789488712,
          1.3489010848856906,
          -0.034574331824450216,
          0.8031100801570786,
          0.6591083941809567,
          -1.5524694456878694,
          0.6534710731885623,
          0.38818088279522817,
          -0.2716206813197042,
          0.3159333199585872,
          0.5378198897637448,
          1.2636836234959867,
          1.3489010848856906,
          -1.0692893824432752,
          1.364017521325635,
          0.5794762246601993,
          -1.381927861255236,
          -0.33029824425289744,
          -0.4686079767068481,
          -1.6055617167521152,
          1.1896887749676244,
          1.4189079223334504,
          -1.599869763229943,
          0.4469104748518689,
          1.0987273309323011,
          0.26683774584823866,
          1.0210519821317854,
          -1.1527087138894099,
          -0.45349154026690386,
          0.6212392212098796,
          -0.26554076488199796,
          0.05064312956525359,
          -1.425488987748485,
          -1.1110523789929554,
          1.0627083170282408,
          -0.26554076488199796,
          -0.9309796499893255,
          0.2725296993704112,
          -0.669476621521369,
          -0.7717673400712588,
          -1.461560030775993,
          -1.1110523789929554,
          0.6212392212098796,
          1.5458883802728343,
          0.6534710731885623,
          0.8883275415467828,
          -0.5804719982062875,
          0.4469104748518689,
          0.7064566825995833,
          -0.9878590829789495,
          -0.9366716035114973,
          -0.6278202866249141,
          2.006461923611743,
          0.8447664150535333,
          1.136703165556603,
          -0.08366990593479898,
          1.672868838212218,
          1.371559633914824,
          0.399510157309795,
          -1.6472180516485702,
          -1.0257282559500265,
          -1.3459088473511758,
          -1.381927861255236,
          0.8600837006487031,
          0.3746108828917809,
          -1.425488987748485,
          1.4909979792650185,
          1.5458883802728343,
          -0.24118695928459116,
          1.625520549793591,
          -0.08366990593479898,
          -0.9460960864292695,
          -1.243618128801286,
          -1.425488987748485,
          -0.8153284665645082,
          0.35216186889116796,
          0.09065884042321162,
          0.7557617917384519,
          1.2370370633862513,
          -0.9423089245038916,
          -0.5369108717130382,
          -0.8153284665645082,
          1.1100566054468675,
          1.0153079994861665,
          -0.5955884346462316,
          -0.8153284665645082,
          1.4985400918542073,
          -0.8077863539753192,
          0.9187612635818961,
          0.2725296993704112,
          -0.9423089245038916,
          0.8752001370886469,
          -0.31896896973833094,
          -1.29101844634336,
          0.3746108828917809,
          -1.0370575304645928,
          0.21763929836259555,
          -0.5955884346462316,
          1.371559633914824,
          -1.7268502211693268,
          0.7557617917384519,
          -0.26554076488199796,
          1.4909979792650185,
          1.225707788871685,
          1.534559105758268,
          -0.20331778631351385,
          1.3489010848856906,
          1.14228845742555,
          1.0097227076172195,
          -1.6472180516485702,
          0.9604175984783505,
          -1.1640379884039762,
          0.7557617917384519,
          0.8752001370886469,
          -1.603656925155321,
          -1.4672519842981648,
          2.144771656065692,
          -1.2075991148972254,
          0.30860074239791846,
          1.625520549793591,
          1.7525010077329748,
          -1.1640379884039762,
          1.625520549793591,
          -1.114839540918333,
          1.371559633914824,
          -0.887418523496076,
          1.0570709960358464,
          1.4189079223334504,
          1.672868838212218,
          -0.04010877944154986,
          -0.6334576076173084,
          1.5458883802728343,
          0.9717468729929173,
          -0.16155478976383386,
          0.13805915796528612,
          0.6061227847699351,
          0.8752001370886469,
          -1.599869763229943,
          1.0627083170282408,
          -1.50890831919462,
          -1.4728893052905594,
          1.5458883802728343,
          -0.3925212228213821,
          2.0651394865449353,
          -1.0674912524997062,
          -1.29101844634336,
          -0.07633732837413021,
          -1.9921404115626609,
          -0.8457621885996213,
          -1.0844058188832195,
          0.8409792531281558,
          -1.0692893824432752,
          -0.4572787021922815,
          0.4904716013451178,
          0.8883275415467828,
          -0.06500805385956382,
          -0.760438065556692,
          1.0153079994861665,
          0.2232766193549893,
          -0.19953062438813632,
          1.7525010077329748,
          -0.8135303366209387,
          -0.5955884346462316,
          -0.8191156284898855,
          -0.4155157056426018,
          0.4904716013451178,
          -0.19953062438813632,
          0.6174520592845015,
          0.8334371405389673,
          1.094940169006923,
          1.4189079223334504,
          -0.5651547126111183,
          -0.5444009551787795,
          -0.45349154026690386,
          -0.45349154026690386,
          1.811178570666168,
          0.49425876327049634,
          0.22518141095178418,
          -1.6472180516485702,
          -0.7301110051748043,
          -0.45349154026690386,
          1.625520549793591,
          -0.8153284665645082,
          0.8334371405389673,
          -0.31896896973833094,
          -1.1584006674115828,
          -0.3925212228213821,
          -1.425488987748485,
          0.3159333199585872,
          -0.995401195568138,
          0.9604175984783505,
          0.49425876327049634,
          -1.2113862768226034,
          0.8334371405389673,
          -1.1640379884039762,
          0.7331032427093193,
          1.14228845742555,
          1.672868838212218,
          -0.7301110051748043,
          -0.1446402233803204,
          -0.8931104770182484,
          -0.6770187341105578,
          -0.9574253609438361,
          1.1840514539752303,
          0.7482196791492635,
          -1.599869763229943,
          0.188952862019204,
          0.6534710731885623,
          -1.29101844634336,
          -0.8304449030044518,
          -0.8304449030044518,
          -1.0314202094721985,
          -1.2113862768226034,
          0.0906588404232117,
          -0.5804719982062875,
          1.3489010848856906,
          0.8752001370886469,
          0.8031100801570786,
          -0.06500805385956382,
          0.2725296993704112,
          -0.19198851179894746,
          0.7500178090928326,
          -1.0692893824432752,
          1.5458883802728343,
          1.14228845742555,
          -0.017659765440936823,
          -1.381927861255236,
          0.6591083941809567,
          -1.29101844634336,
          0.4904716013451178,
          0.08687167849783395,
          0.5264906152491783,
          0.8752001370886469,
          -0.8022010621063722,
          -0.5482401462276049,
          0.753857000141657,
          1.275012898010553,
          -0.760438065556692,
          1.6141912752790244,
          0.3408325943766011,
          0.0619724040798196,
          0.3159333199585872,
          -0.7225688925856151,
          -1.4653471927013708,
          -0.6278202866249141,
          -1.0370575304645928,
          0.043310552004584876,
          -2.0830498264745367,
          0.7026695206742054,
          1.2692689153649335,
          0.30860074239791846,
          -1.425488987748485,
          1.2219206269463068,
          0.188952862019204,
          1.3489010848856906,
          -1.340271526358781,
          -1.4179989042827437,
          0.753857000141657,
          -0.5369108717130382,
          -0.5918012727208536,
          0.0619724040798196,
          0.35025707729437355,
          1.2370370633862513,
          0.6212392212098796,
          0.26503961590467007,
          -1.0674912524997062,
          1.8794814656723589,
          0.22518141095178418,
          -0.5064771496779249,
          -0.06500805385956382,
          1.625520549793591,
          1.502327253779585,
          -0.19198851179894746,
          -0.21464706082808052,
          -0.8931104770182484,
          -0.5008398286855306,
          -0.1446402233803204,
          -1.4179989042827437,
          -0.03632161751617208,
          1.5458883802728343,
          -2.0394886999812876,
          0.6591083941809567,
          -0.6808058960359354,
          0.35025707729437355,
          -0.9460960864292695,
          1.625520549793591,
          -1.340271526358781,
          1.0097227076172195,
          -1.9560693685351525,
          0.9679597110675394,
          1.7998492961516017,
          1.2219206269463068,
          -0.7225688925856151,
          0.8031100801570786,
          0.8883275415467828,
          -0.9840719210535713,
          0.47914232683055136,
          -0.9366716035114973,
          -0.5804719982062875,
          0.8031100801570786,
          -1.6472180516485702,
          -0.4686079767068481,
          -0.5804719982062875,
          -1.4728893052905594,
          -1.29101844634336,
          -1.599869763229943,
          -0.760438065556692,
          1.14228845742555,
          1.3906640814353708,
          1.068400270550413,
          1.0097227076172195,
          -2.0830498264745367,
          1.225707788871685,
          0.7064566825995833,
          1.2692689153649335,
          0.8409792531281558,
          0.532127936241573,
          -0.4212596882882207,
          -0.28294995583427085,
          0.8827422496778357,
          1.2692689153649335,
          -1.1166376708619021,
          0.4469104748518689,
          -1.196269840382659,
          0.8883275415467828,
          0.7444325172238854,
          0.344619756301979,
          1.0570709960358464,
          -1.5563086367366943,
          0.47914232683055136,
          -1.4653471927013706
         ],
         "yaxis": "y"
        },
        {
         "line": {
          "color": "black",
          "dash": "dash"
         },
         "mode": "lines",
         "name": "Hyperplane",
         "type": "scatter",
         "x": [
          -2.232271482306724,
          -1.0757253889098157,
          0.08082070448709233,
          1.2373667978840004,
          2.393912891280909
         ],
         "y": [
          -434.2687862914602,
          -434.2687862914602,
          -434.2687862914602,
          -434.2687862914602,
          -434.2687862914602
         ]
        }
       ],
       "layout": {
        "coloraxis": {
         "colorbar": {
          "title": {
           "text": "Status Kesesuaian"
          }
         },
         "colorscale": [
          [
           0,
           "#0d0887"
          ],
          [
           0.1111111111111111,
           "#46039f"
          ],
          [
           0.2222222222222222,
           "#7201a8"
          ],
          [
           0.3333333333333333,
           "#9c179e"
          ],
          [
           0.4444444444444444,
           "#bd3786"
          ],
          [
           0.5555555555555556,
           "#d8576b"
          ],
          [
           0.6666666666666666,
           "#ed7953"
          ],
          [
           0.7777777777777778,
           "#fb9f3a"
          ],
          [
           0.8888888888888888,
           "#fdca26"
          ],
          [
           1,
           "#f0f921"
          ]
         ]
        },
        "legend": {
         "tracegroupgap": 0
        },
        "template": {
         "data": {
          "bar": [
           {
            "error_x": {
             "color": "#2a3f5f"
            },
            "error_y": {
             "color": "#2a3f5f"
            },
            "marker": {
             "line": {
              "color": "#E5ECF6",
              "width": 0.5
             },
             "pattern": {
              "fillmode": "overlay",
              "size": 10,
              "solidity": 0.2
             }
            },
            "type": "bar"
           }
          ],
          "barpolar": [
           {
            "marker": {
             "line": {
              "color": "#E5ECF6",
              "width": 0.5
             },
             "pattern": {
              "fillmode": "overlay",
              "size": 10,
              "solidity": 0.2
             }
            },
            "type": "barpolar"
           }
          ],
          "carpet": [
           {
            "aaxis": {
             "endlinecolor": "#2a3f5f",
             "gridcolor": "white",
             "linecolor": "white",
             "minorgridcolor": "white",
             "startlinecolor": "#2a3f5f"
            },
            "baxis": {
             "endlinecolor": "#2a3f5f",
             "gridcolor": "white",
             "linecolor": "white",
             "minorgridcolor": "white",
             "startlinecolor": "#2a3f5f"
            },
            "type": "carpet"
           }
          ],
          "choropleth": [
           {
            "colorbar": {
             "outlinewidth": 0,
             "ticks": ""
            },
            "type": "choropleth"
           }
          ],
          "contour": [
           {
            "colorbar": {
             "outlinewidth": 0,
             "ticks": ""
            },
            "colorscale": [
             [
              0,
              "#0d0887"
             ],
             [
              0.1111111111111111,
              "#46039f"
             ],
             [
              0.2222222222222222,
              "#7201a8"
             ],
             [
              0.3333333333333333,
              "#9c179e"
             ],
             [
              0.4444444444444444,
              "#bd3786"
             ],
             [
              0.5555555555555556,
              "#d8576b"
             ],
             [
              0.6666666666666666,
              "#ed7953"
             ],
             [
              0.7777777777777778,
              "#fb9f3a"
             ],
             [
              0.8888888888888888,
              "#fdca26"
             ],
             [
              1,
              "#f0f921"
             ]
            ],
            "type": "contour"
           }
          ],
          "contourcarpet": [
           {
            "colorbar": {
             "outlinewidth": 0,
             "ticks": ""
            },
            "type": "contourcarpet"
           }
          ],
          "heatmap": [
           {
            "colorbar": {
             "outlinewidth": 0,
             "ticks": ""
            },
            "colorscale": [
             [
              0,
              "#0d0887"
             ],
             [
              0.1111111111111111,
              "#46039f"
             ],
             [
              0.2222222222222222,
              "#7201a8"
             ],
             [
              0.3333333333333333,
              "#9c179e"
             ],
             [
              0.4444444444444444,
              "#bd3786"
             ],
             [
              0.5555555555555556,
              "#d8576b"
             ],
             [
              0.6666666666666666,
              "#ed7953"
             ],
             [
              0.7777777777777778,
              "#fb9f3a"
             ],
             [
              0.8888888888888888,
              "#fdca26"
             ],
             [
              1,
              "#f0f921"
             ]
            ],
            "type": "heatmap"
           }
          ],
          "heatmapgl": [
           {
            "colorbar": {
             "outlinewidth": 0,
             "ticks": ""
            },
            "colorscale": [
             [
              0,
              "#0d0887"
             ],
             [
              0.1111111111111111,
              "#46039f"
             ],
             [
              0.2222222222222222,
              "#7201a8"
             ],
             [
              0.3333333333333333,
              "#9c179e"
             ],
             [
              0.4444444444444444,
              "#bd3786"
             ],
             [
              0.5555555555555556,
              "#d8576b"
             ],
             [
              0.6666666666666666,
              "#ed7953"
             ],
             [
              0.7777777777777778,
              "#fb9f3a"
             ],
             [
              0.8888888888888888,
              "#fdca26"
             ],
             [
              1,
              "#f0f921"
             ]
            ],
            "type": "heatmapgl"
           }
          ],
          "histogram": [
           {
            "marker": {
             "pattern": {
              "fillmode": "overlay",
              "size": 10,
              "solidity": 0.2
             }
            },
            "type": "histogram"
           }
          ],
          "histogram2d": [
           {
            "colorbar": {
             "outlinewidth": 0,
             "ticks": ""
            },
            "colorscale": [
             [
              0,
              "#0d0887"
             ],
             [
              0.1111111111111111,
              "#46039f"
             ],
             [
              0.2222222222222222,
              "#7201a8"
             ],
             [
              0.3333333333333333,
              "#9c179e"
             ],
             [
              0.4444444444444444,
              "#bd3786"
             ],
             [
              0.5555555555555556,
              "#d8576b"
             ],
             [
              0.6666666666666666,
              "#ed7953"
             ],
             [
              0.7777777777777778,
              "#fb9f3a"
             ],
             [
              0.8888888888888888,
              "#fdca26"
             ],
             [
              1,
              "#f0f921"
             ]
            ],
            "type": "histogram2d"
           }
          ],
          "histogram2dcontour": [
           {
            "colorbar": {
             "outlinewidth": 0,
             "ticks": ""
            },
            "colorscale": [
             [
              0,
              "#0d0887"
             ],
             [
              0.1111111111111111,
              "#46039f"
             ],
             [
              0.2222222222222222,
              "#7201a8"
             ],
             [
              0.3333333333333333,
              "#9c179e"
             ],
             [
              0.4444444444444444,
              "#bd3786"
             ],
             [
              0.5555555555555556,
              "#d8576b"
             ],
             [
              0.6666666666666666,
              "#ed7953"
             ],
             [
              0.7777777777777778,
              "#fb9f3a"
             ],
             [
              0.8888888888888888,
              "#fdca26"
             ],
             [
              1,
              "#f0f921"
             ]
            ],
            "type": "histogram2dcontour"
           }
          ],
          "mesh3d": [
           {
            "colorbar": {
             "outlinewidth": 0,
             "ticks": ""
            },
            "type": "mesh3d"
           }
          ],
          "parcoords": [
           {
            "line": {
             "colorbar": {
              "outlinewidth": 0,
              "ticks": ""
             }
            },
            "type": "parcoords"
           }
          ],
          "pie": [
           {
            "automargin": true,
            "type": "pie"
           }
          ],
          "scatter": [
           {
            "fillpattern": {
             "fillmode": "overlay",
             "size": 10,
             "solidity": 0.2
            },
            "type": "scatter"
           }
          ],
          "scatter3d": [
           {
            "line": {
             "colorbar": {
              "outlinewidth": 0,
              "ticks": ""
             }
            },
            "marker": {
             "colorbar": {
              "outlinewidth": 0,
              "ticks": ""
             }
            },
            "type": "scatter3d"
           }
          ],
          "scattercarpet": [
           {
            "marker": {
             "colorbar": {
              "outlinewidth": 0,
              "ticks": ""
             }
            },
            "type": "scattercarpet"
           }
          ],
          "scattergeo": [
           {
            "marker": {
             "colorbar": {
              "outlinewidth": 0,
              "ticks": ""
             }
            },
            "type": "scattergeo"
           }
          ],
          "scattergl": [
           {
            "marker": {
             "colorbar": {
              "outlinewidth": 0,
              "ticks": ""
             }
            },
            "type": "scattergl"
           }
          ],
          "scattermapbox": [
           {
            "marker": {
             "colorbar": {
              "outlinewidth": 0,
              "ticks": ""
             }
            },
            "type": "scattermapbox"
           }
          ],
          "scatterpolar": [
           {
            "marker": {
             "colorbar": {
              "outlinewidth": 0,
              "ticks": ""
             }
            },
            "type": "scatterpolar"
           }
          ],
          "scatterpolargl": [
           {
            "marker": {
             "colorbar": {
              "outlinewidth": 0,
              "ticks": ""
             }
            },
            "type": "scatterpolargl"
           }
          ],
          "scatterternary": [
           {
            "marker": {
             "colorbar": {
              "outlinewidth": 0,
              "ticks": ""
             }
            },
            "type": "scatterternary"
           }
          ],
          "surface": [
           {
            "colorbar": {
             "outlinewidth": 0,
             "ticks": ""
            },
            "colorscale": [
             [
              0,
              "#0d0887"
             ],
             [
              0.1111111111111111,
              "#46039f"
             ],
             [
              0.2222222222222222,
              "#7201a8"
             ],
             [
              0.3333333333333333,
              "#9c179e"
             ],
             [
              0.4444444444444444,
              "#bd3786"
             ],
             [
              0.5555555555555556,
              "#d8576b"
             ],
             [
              0.6666666666666666,
              "#ed7953"
             ],
             [
              0.7777777777777778,
              "#fb9f3a"
             ],
             [
              0.8888888888888888,
              "#fdca26"
             ],
             [
              1,
              "#f0f921"
             ]
            ],
            "type": "surface"
           }
          ],
          "table": [
           {
            "cells": {
             "fill": {
              "color": "#EBF0F8"
             },
             "line": {
              "color": "white"
             }
            },
            "header": {
             "fill": {
              "color": "#C8D4E3"
             },
             "line": {
              "color": "white"
             }
            },
            "type": "table"
           }
          ]
         },
         "layout": {
          "annotationdefaults": {
           "arrowcolor": "#2a3f5f",
           "arrowhead": 0,
           "arrowwidth": 1
          },
          "autotypenumbers": "strict",
          "coloraxis": {
           "colorbar": {
            "outlinewidth": 0,
            "ticks": ""
           }
          },
          "colorscale": {
           "diverging": [
            [
             0,
             "#8e0152"
            ],
            [
             0.1,
             "#c51b7d"
            ],
            [
             0.2,
             "#de77ae"
            ],
            [
             0.3,
             "#f1b6da"
            ],
            [
             0.4,
             "#fde0ef"
            ],
            [
             0.5,
             "#f7f7f7"
            ],
            [
             0.6,
             "#e6f5d0"
            ],
            [
             0.7,
             "#b8e186"
            ],
            [
             0.8,
             "#7fbc41"
            ],
            [
             0.9,
             "#4d9221"
            ],
            [
             1,
             "#276419"
            ]
           ],
           "sequential": [
            [
             0,
             "#0d0887"
            ],
            [
             0.1111111111111111,
             "#46039f"
            ],
            [
             0.2222222222222222,
             "#7201a8"
            ],
            [
             0.3333333333333333,
             "#9c179e"
            ],
            [
             0.4444444444444444,
             "#bd3786"
            ],
            [
             0.5555555555555556,
             "#d8576b"
            ],
            [
             0.6666666666666666,
             "#ed7953"
            ],
            [
             0.7777777777777778,
             "#fb9f3a"
            ],
            [
             0.8888888888888888,
             "#fdca26"
            ],
            [
             1,
             "#f0f921"
            ]
           ],
           "sequentialminus": [
            [
             0,
             "#0d0887"
            ],
            [
             0.1111111111111111,
             "#46039f"
            ],
            [
             0.2222222222222222,
             "#7201a8"
            ],
            [
             0.3333333333333333,
             "#9c179e"
            ],
            [
             0.4444444444444444,
             "#bd3786"
            ],
            [
             0.5555555555555556,
             "#d8576b"
            ],
            [
             0.6666666666666666,
             "#ed7953"
            ],
            [
             0.7777777777777778,
             "#fb9f3a"
            ],
            [
             0.8888888888888888,
             "#fdca26"
            ],
            [
             1,
             "#f0f921"
            ]
           ]
          },
          "colorway": [
           "#636efa",
           "#EF553B",
           "#00cc96",
           "#ab63fa",
           "#FFA15A",
           "#19d3f3",
           "#FF6692",
           "#B6E880",
           "#FF97FF",
           "#FECB52"
          ],
          "font": {
           "color": "#2a3f5f"
          },
          "geo": {
           "bgcolor": "white",
           "lakecolor": "white",
           "landcolor": "#E5ECF6",
           "showlakes": true,
           "showland": true,
           "subunitcolor": "white"
          },
          "hoverlabel": {
           "align": "left"
          },
          "hovermode": "closest",
          "mapbox": {
           "style": "light"
          },
          "paper_bgcolor": "white",
          "plot_bgcolor": "#E5ECF6",
          "polar": {
           "angularaxis": {
            "gridcolor": "white",
            "linecolor": "white",
            "ticks": ""
           },
           "bgcolor": "#E5ECF6",
           "radialaxis": {
            "gridcolor": "white",
            "linecolor": "white",
            "ticks": ""
           }
          },
          "scene": {
           "xaxis": {
            "backgroundcolor": "#E5ECF6",
            "gridcolor": "white",
            "gridwidth": 2,
            "linecolor": "white",
            "showbackground": true,
            "ticks": "",
            "zerolinecolor": "white"
           },
           "yaxis": {
            "backgroundcolor": "#E5ECF6",
            "gridcolor": "white",
            "gridwidth": 2,
            "linecolor": "white",
            "showbackground": true,
            "ticks": "",
            "zerolinecolor": "white"
           },
           "zaxis": {
            "backgroundcolor": "#E5ECF6",
            "gridcolor": "white",
            "gridwidth": 2,
            "linecolor": "white",
            "showbackground": true,
            "ticks": "",
            "zerolinecolor": "white"
           }
          },
          "shapedefaults": {
           "line": {
            "color": "#2a3f5f"
           }
          },
          "ternary": {
           "aaxis": {
            "gridcolor": "white",
            "linecolor": "white",
            "ticks": ""
           },
           "baxis": {
            "gridcolor": "white",
            "linecolor": "white",
            "ticks": ""
           },
           "bgcolor": "#E5ECF6",
           "caxis": {
            "gridcolor": "white",
            "linecolor": "white",
            "ticks": ""
           }
          },
          "title": {
           "x": 0.05
          },
          "xaxis": {
           "automargin": true,
           "gridcolor": "white",
           "linecolor": "white",
           "ticks": "",
           "title": {
            "standoff": 15
           },
           "zerolinecolor": "white",
           "zerolinewidth": 2
          },
          "yaxis": {
           "automargin": true,
           "gridcolor": "white",
           "linecolor": "white",
           "ticks": "",
           "title": {
            "standoff": 15
           },
           "zerolinecolor": "white",
           "zerolinewidth": 2
          }
         }
        },
        "title": {
         "text": "Visualisasi Hasil Pelatihan SVM"
        },
        "xaxis": {
         "anchor": "y",
         "domain": [
          0,
          1
         ],
         "title": {
          "text": "PCA1"
         }
        },
        "yaxis": {
         "anchor": "x",
         "domain": [
          0,
          1
         ],
         "title": {
          "text": "PCA2"
         }
        }
       }
      }
     },
     "metadata": {},
     "output_type": "display_data"
    }
   ],
   "source": [
    "import plotly.express as px\n",
    "import plotly.graph_objects as go\n",
    "from sklearn.decomposition import PCA\n",
    "\n",
    "# Fungsi untuk mendapatkan nilai decision function\n",
    "decision_function = svm_model.decision_function(X_train)\n",
    "\n",
    "# Memilih nilai decision function dari kelas yang paling positif\n",
    "decision_function = np.max(decision_function, axis=1)\n",
    "\n",
    "# Menambahkan kolom 'Decision Value' dan 'Nama' ke data training\n",
    "train_data = pd.DataFrame(X_train, columns=X.columns)\n",
    "print(\"Dimensi X_train:\", X_train.shape)\n",
    "print(\"Dimensi decision_function:\", decision_function.shape)\n",
    "\n",
    "train_data['Decision Value'] = decision_function\n",
    "train_data['Status Kesesuaian'] = y_train.values\n",
    "train_data['Nama'] = data.iloc[y_train.index]['Nama'].values  # Menggunakan indeks y_train\n",
    "\n",
    "# PCA untuk mengurangi dimensi data menjadi 2D\n",
    "pca = PCA(n_components=2)\n",
    "principal_components = pca.fit_transform(X_train)\n",
    "\n",
    "train_data['PCA1'] = principal_components[:, 0]\n",
    "train_data['PCA2'] = principal_components[:, 1]\n",
    "\n",
    "print(\"Data untuk visualisasi:\")\n",
    "display(train_data[['PCA1', 'PCA2', 'Decision Value', 'Status Kesesuaian', 'Nama']])\n",
    "\n",
    "# Plot dengan Plotly\n",
    "fig = px.scatter(\n",
    "    train_data, x='PCA1', y='PCA2', color='Status Kesesuaian', hover_data=['Nama', 'Decision Value'],\n",
    "    title='Visualisasi Hasil Pelatihan SVM'\n",
    ")\n",
    "\n",
    "# Menambahkan hyperplane\n",
    "x_vals = np.linspace(train_data['PCA1'].min(), train_data['PCA1'].max(), 100)\n",
    "y_vals = -(svm_model.coef_[0][0] * x_vals + svm_model.intercept_[0]) / svm_model.coef_[0][1]\n",
    "\n",
    "fig.add_trace(go.Scatter(x=x_vals, y=y_vals, mode='lines', name='Hyperplane', line=dict(color='black', dash='dash')))\n",
    "\n",
    "# Menampilkan plot\n",
    "fig.show()\n"
   ]
  }
 ],
 "metadata": {
  "kernelspec": {
   "display_name": "base",
   "language": "python",
   "name": "python3"
  },
  "language_info": {
   "codemirror_mode": {
    "name": "ipython",
    "version": 3
   },
   "file_extension": ".py",
   "mimetype": "text/x-python",
   "name": "python",
   "nbconvert_exporter": "python",
   "pygments_lexer": "ipython3",
   "version": "3.11.7"
  }
 },
 "nbformat": 4,
 "nbformat_minor": 2
}
