{
 "cells": [
  {
   "cell_type": "code",
   "execution_count": 2,
   "metadata": {},
   "outputs": [
    {
     "name": "stdout",
     "output_type": "stream",
     "text": [
      "Data Loaded:\n",
      "           Nama L/P                    Penghasilan Status Ekonomi  \\\n",
      "0  Aam Garot Hs   P  Rp. 1,000,000 - Rp. 1,999,999         MISKIN   \n",
      "1   Aan Priatna   P      Rp. 500,000 - Rp. 999,999          CUKUP   \n",
      "2     Abd Kahar   P      Rp. 500,000 - Rp. 999,999         MISKIN   \n",
      "3     Abd Kahar   P  Rp. 1,000,000 - Rp. 1,999,999          CUKUP   \n",
      "4     Abd Manap   P      Rp. 500,000 - Rp. 999,999  SANGAT MISKIN   \n",
      "\n",
      "   Jumlah Tanggungan Layak PIP            Alasan Layak PIP  Tahun Penerimaan  \\\n",
      "0                  1     Tidak                         NaN              2023   \n",
      "1                  2     Tidak                         NaN              2023   \n",
      "2                  5        Ya  Siswa Miskin/Rentan Miskin              2023   \n",
      "3                  4     Tidak                         NaN              2023   \n",
      "4                  3        Ya  Siswa Miskin/Rentan Miskin              2023   \n",
      "\n",
      "   Jumlah Bantuan Status Bantuan Status Kesesuaian  \n",
      "0               0       Diterima       Tidak Layak  \n",
      "1         1500000       Diterima       Tidak Layak  \n",
      "2         1500000       Diterima            Sesuai  \n",
      "3         1500000       Diterima       Tidak Layak  \n",
      "4               0       Diproses            Sesuai   \n",
      "\n"
     ]
    }
   ],
   "source": [
    "import pandas as pd\n",
    "import numpy as np\n",
    "from sklearn.model_selection import train_test_split\n",
    "from sklearn.preprocessing import LabelEncoder, StandardScaler\n",
    "from sklearn.svm import SVC\n",
    "from sklearn.metrics import classification_report, accuracy_score\n",
    "import joblib\n",
    "import os\n",
    "\n",
    "# Memuat data\n",
    "data_file_path = \"../data_latih.xlsx\"\n",
    "data = pd.read_excel(data_file_path)\n",
    "print(\"Data Loaded:\")\n",
    "print(data.head(), \"\\n\")\n",
    "\n",
    "\n"
   ]
  },
  {
   "cell_type": "code",
   "execution_count": 3,
   "metadata": {},
   "outputs": [
    {
     "name": "stdout",
     "output_type": "stream",
     "text": [
      "Nilai yang hilang diisi:\n",
      "           Nama L/P                    Penghasilan Status Ekonomi  \\\n",
      "0  Aam Garot Hs   P  Rp. 1,000,000 - Rp. 1,999,999         MISKIN   \n",
      "1   Aan Priatna   P      Rp. 500,000 - Rp. 999,999          CUKUP   \n",
      "2     Abd Kahar   P      Rp. 500,000 - Rp. 999,999         MISKIN   \n",
      "3     Abd Kahar   P  Rp. 1,000,000 - Rp. 1,999,999          CUKUP   \n",
      "4     Abd Manap   P      Rp. 500,000 - Rp. 999,999  SANGAT MISKIN   \n",
      "\n",
      "   Jumlah Tanggungan Layak PIP            Alasan Layak PIP  Tahun Penerimaan  \\\n",
      "0                  1     Tidak                 Tidak Layak              2023   \n",
      "1                  2     Tidak                 Tidak Layak              2023   \n",
      "2                  5        Ya  Siswa Miskin/Rentan Miskin              2023   \n",
      "3                  4     Tidak                 Tidak Layak              2023   \n",
      "4                  3        Ya  Siswa Miskin/Rentan Miskin              2023   \n",
      "\n",
      "   Jumlah Bantuan Status Bantuan Status Kesesuaian  \n",
      "0               0       Diterima       Tidak Layak  \n",
      "1         1500000       Diterima       Tidak Layak  \n",
      "2         1500000       Diterima            Sesuai  \n",
      "3         1500000       Diterima       Tidak Layak  \n",
      "4               0       Diproses            Sesuai   \n",
      "\n"
     ]
    }
   ],
   "source": [
    "# Mengisi nilai yang hilang\n",
    "data['Alasan Layak PIP'].fillna('Tidak Layak', inplace=True)\n",
    "print(\"Nilai yang hilang diisi:\")\n",
    "print(data.head(), \"\\n\")\n",
    "\n"
   ]
  },
  {
   "cell_type": "code",
   "execution_count": 4,
   "metadata": {},
   "outputs": [
    {
     "name": "stdout",
     "output_type": "stream",
     "text": [
      "Data setelah encoding:\n",
      "           Nama  L/P  Penghasilan  Status Ekonomi  Jumlah Tanggungan  \\\n",
      "0  Aam Garot Hs    0            1               1                  1   \n",
      "1   Aan Priatna    0            3               0                  2   \n",
      "2     Abd Kahar    0            3               1                  5   \n",
      "3     Abd Kahar    0            1               0                  4   \n",
      "4     Abd Manap    0            3               2                  3   \n",
      "\n",
      "   Layak PIP  Alasan Layak PIP  Tahun Penerimaan  Jumlah Bantuan  \\\n",
      "0          0                 1              2023               0   \n",
      "1          0                 1              2023         1500000   \n",
      "2          1                 0              2023         1500000   \n",
      "3          0                 1              2023         1500000   \n",
      "4          1                 0              2023               0   \n",
      "\n",
      "   Status Bantuan  Status Kesesuaian  \n",
      "0               1                  1  \n",
      "1               1                  1  \n",
      "2               1                  0  \n",
      "3               1                  1  \n",
      "4               0                  0   \n",
      "\n"
     ]
    }
   ],
   "source": [
    "# Encoding label\n",
    "label_cols = ['L/P', 'Penghasilan', 'Status Ekonomi', 'Layak PIP', 'Alasan Layak PIP', 'Status Bantuan', 'Status Kesesuaian']\n",
    "label_encoders = {}\n",
    "for col in label_cols:\n",
    "    le = LabelEncoder()\n",
    "    data[col] = le.fit_transform(data[col])\n",
    "    label_encoders[col] = le\n",
    "\n",
    "print(\"Data setelah encoding:\")\n",
    "print(data.head(), \"\\n\")\n",
    "\n"
   ]
  },
  {
   "cell_type": "code",
   "execution_count": 5,
   "metadata": {},
   "outputs": [
    {
     "name": "stdout",
     "output_type": "stream",
     "text": [
      "Fitur (X):\n",
      "   L/P  Penghasilan  Status Ekonomi  Jumlah Tanggungan  Layak PIP  \\\n",
      "0    0            1               1                  1          0   \n",
      "1    0            3               0                  2          0   \n",
      "2    0            3               1                  5          1   \n",
      "3    0            1               0                  4          0   \n",
      "4    0            3               2                  3          1   \n",
      "\n",
      "   Alasan Layak PIP  Tahun Penerimaan  Jumlah Bantuan  Status Bantuan  \n",
      "0                 1              2023               0               1  \n",
      "1                 1              2023         1500000               1  \n",
      "2                 0              2023         1500000               1  \n",
      "3                 1              2023         1500000               1  \n",
      "4                 0              2023               0               0   \n",
      "\n",
      "Label (y):\n",
      "0    1\n",
      "1    1\n",
      "2    0\n",
      "3    1\n",
      "4    0\n",
      "Name: Status Kesesuaian, dtype: int32 \n",
      "\n"
     ]
    }
   ],
   "source": [
    "# Memisahkan fitur dan label\n",
    "X = data.drop(columns=['Status Kesesuaian', 'Nama'])\n",
    "y = data['Status Kesesuaian']\n",
    "\n",
    "print(\"Fitur (X):\")\n",
    "print(X.head(), \"\\n\")\n",
    "print(\"Label (y):\")\n",
    "print(y.head(), \"\\n\")\n",
    "\n"
   ]
  },
  {
   "cell_type": "code",
   "execution_count": 6,
   "metadata": {},
   "outputs": [
    {
     "name": "stdout",
     "output_type": "stream",
     "text": [
      "Data pelatihan dan pengujian:\n",
      "X_train shape: (508, 9)\n",
      "X_test shape: (127, 9)\n",
      "y_train shape: (508,)\n",
      "y_test shape: (127,) \n",
      "\n"
     ]
    }
   ],
   "source": [
    "# Pembagian data\n",
    "X_train, X_test, y_train, y_test = train_test_split(X, y, test_size=0.2, random_state=42)\n",
    "\n",
    "print(\"Data pelatihan dan pengujian:\")\n",
    "print(\"X_train shape:\", X_train.shape)\n",
    "print(\"X_test shape:\", X_test.shape)\n",
    "print(\"y_train shape:\", y_train.shape)\n",
    "print(\"y_test shape:\", y_test.shape, \"\\n\")\n",
    "\n"
   ]
  },
  {
   "cell_type": "code",
   "execution_count": 7,
   "metadata": {},
   "outputs": [
    {
     "name": "stdout",
     "output_type": "stream",
     "text": [
      "Fitur setelah standarisasi:\n",
      "X_train:\n",
      "[[ 0.         -1.7893947  -1.22513698 -0.30194393 -0.93516776  0.93516776\n",
      "   0.          1.          1.00394479]\n",
      " [ 0.          1.87967698  1.26434136 -0.90583179 -0.93516776  0.93516776\n",
      "   0.         -1.          1.00394479]\n",
      " [ 0.          0.04514114 -1.22513698  1.50971965 -0.93516776  0.93516776\n",
      "   0.          1.         -0.99607071]\n",
      " [ 0.         -0.87212678 -1.22513698 -0.30194393 -0.93516776  0.93516776\n",
      "   0.          1.          1.00394479]\n",
      " [ 0.          1.87967698 -1.22513698 -0.90583179 -0.93516776  0.93516776\n",
      "   0.         -1.         -0.99607071]]\n",
      "X_test:\n",
      "[[ 0.         -0.87212678  1.26434136  1.50971965  1.06932685 -1.06932685\n",
      "   0.          1.         -0.99607071]\n",
      " [ 0.         -0.87212678 -1.22513698 -0.90583179 -0.93516776  0.93516776\n",
      "   0.          1.          1.00394479]\n",
      " [ 0.          0.96240906  0.01960219  0.90583179  1.06932685 -1.06932685\n",
      "   0.          1.         -0.99607071]\n",
      " [ 0.          0.96240906  1.26434136  0.90583179  1.06932685 -1.06932685\n",
      "   0.         -1.         -0.99607071]\n",
      " [ 0.          0.96240906  1.26434136 -0.30194393  1.06932685 -1.06932685\n",
      "   0.         -1.         -0.99607071]] \n",
      "\n"
     ]
    }
   ],
   "source": [
    "# Standarisasi fitur\n",
    "scaler = StandardScaler()\n",
    "X_train = scaler.fit_transform(X_train)\n",
    "X_test = scaler.transform(X_test)\n",
    "\n",
    "print(\"Fitur setelah standarisasi:\")\n",
    "print(\"X_train:\")\n",
    "print(X_train[:5])\n",
    "print(\"X_test:\")\n",
    "print(X_test[:5], \"\\n\")"
   ]
  },
  {
   "cell_type": "code",
   "execution_count": 8,
   "metadata": {},
   "outputs": [
    {
     "name": "stdout",
     "output_type": "stream",
     "text": [
      "Model SVM dilatih.\n",
      "\n",
      "Model saved to svm_model.joblib\n",
      "Scaler saved to scaler.joblib\n",
      "\n"
     ]
    }
   ],
   "source": [
    "# Melatih model SVM\n",
    "svm_model = SVC(kernel='linear')\n",
    "svm_model.fit(X_train, y_train)\n",
    "\n",
    "print(\"Model SVM dilatih.\\n\")\n",
    "\n",
    "# Menyimpan model dan scaler\n",
    "def save_model_and_scaler(model, scaler, model_filename, scaler_filename):\n",
    "    model_dir = os.path.dirname(model_filename)\n",
    "    scaler_dir = os.path.dirname(scaler_filename)\n",
    "    \n",
    "    if model_dir and not os.path.exists(model_dir):\n",
    "        os.makedirs(model_dir)\n",
    "    \n",
    "    if scaler_dir and not os.path.exists(scaler_dir):\n",
    "        os.makedirs(scaler_dir)\n",
    "    \n",
    "    joblib.dump(model, model_filename)\n",
    "    joblib.dump(scaler, scaler_filename)\n",
    "    print(f\"Model saved to {model_filename}\")\n",
    "    print(f\"Scaler saved to {scaler_filename}\\n\")\n",
    "\n",
    "model_filename = 'svm_model.joblib'\n",
    "scaler_filename = 'scaler.joblib'\n",
    "save_model_and_scaler(svm_model, scaler, model_filename, scaler_filename)\n"
   ]
  },
  {
   "cell_type": "code",
   "execution_count": 9,
   "metadata": {},
   "outputs": [
    {
     "name": "stdout",
     "output_type": "stream",
     "text": [
      "Classification Report:\n",
      "               precision    recall  f1-score   support\n",
      "\n",
      "           0       0.75      0.43      0.55        21\n",
      "           1       1.00      1.00      1.00        62\n",
      "           2       0.77      0.93      0.85        44\n",
      "\n",
      "    accuracy                           0.88       127\n",
      "   macro avg       0.84      0.79      0.80       127\n",
      "weighted avg       0.88      0.88      0.87       127\n",
      "\n",
      "Accuracy Score: 0.8818897637795275 \n",
      "\n"
     ]
    }
   ],
   "source": [
    "# Prediksi pada data uji\n",
    "y_pred = svm_model.predict(X_test)\n",
    "\n",
    "# Evaluasi model\n",
    "print(\"Classification Report:\\n\", classification_report(y_test, y_pred))\n",
    "print(\"Accuracy Score:\", accuracy_score(y_test, y_pred), \"\\n\")\n"
   ]
  },
  {
   "cell_type": "code",
   "execution_count": 14,
   "metadata": {},
   "outputs": [
    {
     "name": "stdout",
     "output_type": "stream",
     "text": [
      "Dimensi X_train: (508, 9)\n",
      "Dimensi decision_function: (508,)\n",
      "Data untuk visualisasi:\n",
      "       PCA1      PCA2  Decision Value  Status Kesesuaian  \\\n",
      "0 -1.741353  0.829650        2.222279                  1   \n",
      "1 -0.855161 -0.544401        2.222255                  1   \n",
      "2 -1.078206  1.125374        2.222200                  1   \n",
      "3 -1.727427  1.094940        2.222286                  1   \n",
      "4 -1.908374 -0.542496        2.222339                  1   \n",
      "\n",
      "                        Nama  \n",
      "0              Muhammad Abdi  \n",
      "1                      Irwan  \n",
      "2  Darman Syahputra Hasibuan  \n",
      "3             Dedi Kurniawan  \n",
      "4             Muhammad Nadan   \n",
      "\n"
     ]
    },
    {
     "data": {
      "application/vnd.plotly.v1+json": {
       "config": {
        "plotlyServerURL": "https://plot.ly"
       },
       "data": [
        {
         "customdata": [
          [
           "Muhammad Abdi",
           2.222279384697179
          ],
          [
           "Irwan",
           2.222254612007875
          ],
          [
           "Darman Syahputra Hasibuan",
           2.2221998576379387
          ],
          [
           "Dedi Kurniawan",
           2.2222859251412297
          ],
          [
           "Muhammad Nadan",
           2.222339327459395
          ],
          [
           "Juwari",
           2.222269972938415
          ],
          [
           "Junaidi Alamsyah",
           2.2222652628679933
          ],
          [
           "Ismail",
           2.222277859027054
          ],
          [
           "Satiman",
           2.190590376988256
          ],
          [
           "Toni Ramanda",
           2.1905238145816615
          ],
          [
           "Samsuri Johan",
           2.2222279431241976
          ],
          [
           "Yahya",
           2.2777723873579294
          ],
          [
           "Marianto",
           2.2564040944227166
          ],
          [
           "Feri Yulianto",
           2.2500024227056867
          ],
          [
           "Eri Widodo",
           2.2222740224584747
          ],
          [
           "Hermansyah",
           2.2333237273664572
          ],
          [
           "Suherman",
           2.222253907111895
          ],
          [
           "Ahmad Yahya",
           2.222228905553247
          ],
          [
           "Bahlian",
           2.2222231405936994
          ],
          [
           "Sutarno",
           2.222223615344524
          ],
          [
           "Armansyah Syam",
           2.2499925670294876
          ],
          [
           "Abdul Khair",
           2.1666778899502868
          ],
          [
           "Misdar",
           2.2221986001464473
          ],
          [
           "Tengku Sutan Ahmad",
           2.222270061757947
          ],
          [
           "Kamaruddin",
           2.222223615344524
          ],
          [
           "Suparman",
           2.2222306500629725
          ],
          [
           "Ngateman",
           2.2666597363993324
          ],
          [
           "Bambang Rianto",
           2.2666597363993324
          ],
          [
           "Mai Rizal",
           2.2424235135938497
          ],
          [
           "Paino",
           2.222274923973561
          ],
          [
           "Bambang Hermanto",
           2.2564065095723738
          ],
          [
           "Adi Sumantri",
           2.1905985551979423
          ],
          [
           "Muliadi",
           2.2223231826824534
          ],
          [
           "Misman",
           2.2221986001464473
          ],
          [
           "Muhammad Yusuf",
           2.2222860337798696
          ],
          [
           "Saipul Anwar",
           2.2222253600203805
          ],
          [
           "Rudiyanto",
           2.2564065095723738
          ],
          [
           "Jamin",
           2.222289466809861
          ],
          [
           "Elvin",
           2.222246323911866
          ],
          [
           "Turimin",
           2.2222003456079773
          ],
          [
           "Madio",
           2.222238452866714
          ],
          [
           "Marlansyah",
           2.222259194436548
          ],
          [
           "Abdul Hamid Matondang",
           2.2424235135938497
          ],
          [
           "Irwansyah",
           2.2221998576379387
          ],
          [
           "M Yusuf",
           2.222278237658669
          ],
          [
           "Muhammad Ali",
           2.2222223583906215
          ],
          [
           "Yanto",
           2.222271208965353
          ],
          [
           "Sajuki",
           2.222248067874649
          ],
          [
           "Bambang Sugiarto",
           2.2222740224584747
          ],
          [
           "M. Amin",
           2.2222253600203805
          ],
          [
           "Hermanto",
           2.22228418236692
          ],
          [
           "Marwan",
           2.222334534553454
          ],
          [
           "Jul Fadli Syah",
           2.166668755717126
          ],
          [
           "Lazuardi",
           2.242422409993675
          ],
          [
           "Afriadi Nur",
           2.222266518851366
          ],
          [
           "Sahrizal",
           2.242420140623559
          ],
          [
           "Heriyanto",
           2.256405879976547
          ],
          [
           "Mulyanto",
           2.2223025445528894
          ],
          [
           "Giot",
           2.2424190369414836
          ],
          [
           "Bambang",
           2.2424190369414836
          ],
          [
           "Budiman",
           2.22228429100897
          ],
          [
           "Muhammad Adil",
           2.22232108600874
          ],
          [
           "Ayub",
           2.2223231826824534
          ],
          [
           "Mansur",
           2.2222908308751426
          ],
          [
           "Sudarman",
           2.2666616711859238
          ],
          [
           "Ikhsan Surya",
           2.2223014747909837
          ],
          [
           "Abdul Samad",
           2.2222397788019985
          ],
          [
           "T Jamaluddin At",
           2.22228418236692
          ],
          [
           "Ishak",
           2.2222036516817614
          ],
          [
           "Basri",
           2.2564066701876824
          ],
          [
           "Supriadi",
           2.2223292543991833
          ],
          [
           "Dedi Rahwanto",
           2.2222912094183105
          ],
          [
           "Sanijar",
           2.2222100052712666
          ],
          [
           "Wahyu Purnama",
           2.2666611982652163
          ],
          [
           "Agus Hermawan",
           2.222213444349971
          ],
          [
           "Aam Garot Hs",
           2.222278237658669
          ],
          [
           "Zaini Yusuf",
           2.2223292543991833
          ],
          [
           "M Faisal Pohan",
           2.222203986871777
          ],
          [
           "Syamsu Rizal",
           2.233323998831863
          ],
          [
           "P Juliar",
           2.2666598570526384
          ],
          [
           "Surya Candra",
           2.2223019618690616
          ],
          [
           "Sulaiman Pohan",
           2.2619012746222293
          ],
          [
           "Adi Saputra",
           2.2222036516817614
          ],
          [
           "Sujoko",
           2.222364765879583
          ],
          [
           "Dedi Rahmat",
           2.2222669172728895
          ],
          [
           "Boimin",
           2.2222306500629725
          ],
          [
           "Hermansyah",
           2.222289575441571
          ],
          [
           "Kemat",
           2.242420140623559
          ],
          [
           "M Isa",
           2.222308499654128
          ],
          [
           "Abu Yamin",
           2.2333226632461365
          ],
          [
           "Legiman",
           2.2222740224584747
          ],
          [
           "Ngadiman",
           2.222306757588319
          ],
          [
           "Fadly Ikhfandy",
           2.166669509622593
          ],
          [
           "Sugiandi",
           2.2222718049754913
          ],
          [
           "Supriono",
           2.2222609379952467
          ],
          [
           "Syaifullah",
           2.222266993231571
          ],
          [
           "Sunardi",
           2.2223292543991833
          ],
          [
           "M.Yakub",
           2.2222912094183105
          ],
          [
           "Mahmudin",
           2.222266518851366
          ],
          [
           "Puput Ramadani",
           2.22227186858046
          ],
          [
           "Slamet Riadi",
           2.2564060405944852
          ],
          [
           "Hendri Ramansyah",
           2.261903899772781
          ],
          [
           "Andri Kurniawan",
           2.222327512984635
          ],
          [
           "Marhalim",
           2.2222722793105416
          ],
          [
           "Alansyah Putra",
           2.2223014747909837
          ],
          [
           "Budiman",
           2.2222960060664425
          ],
          [
           "Sigit Purwono",
           2.2666597363993324
          ],
          [
           "Sapri",
           2.2222064074524472
          ],
          [
           "Dedek Sapaat",
           2.2223215729147716
          ],
          [
           "Rusli",
           2.2223032170225747
          ],
          [
           "Indra Syahputra",
           2.2222367086020176
          ],
          [
           "Zulkifli",
           2.222271208965353
          ],
          [
           "Suprapto",
           2.190515627804728
          ],
          [
           "Suherman",
           2.1905187623655236
          ],
          [
           "Jumadi",
           2.22224152297029
          ],
          [
           "Syafruddin Tanjung",
           2.2223014747909837
          ],
          [
           "Samsuri",
           2.2666597363993324
          ],
          [
           "Abdi Afnizar Nasution",
           2.2666592634511766
          ],
          [
           "Zulkarnain Nasution",
           2.2222419975640393
          ],
          [
           "Selamet Riyadi",
           2.222227191461954
          ],
          [
           "Mardian",
           2.2564040944227166
          ],
          [
           "Julianto",
           2.2222526508432683
          ],
          [
           "Muhammad Saman",
           2.222321464345657
          ],
          [
           "Susanto",
           2.2424199162936755
          ],
          [
           "Azhar",
           2.2221986001464473
          ],
          [
           "M Zaini Pane",
           2.249988993334825
          ],
          [
           "Suandi",
           2.2223577481351144
          ],
          [
           "Wagiran",
           2.1905238145816615
          ],
          [
           "Sukirman",
           2.2223630255790625
          ],
          [
           "Madiono",
           2.2223144411230966
          ],
          [
           "Ferry Kurniawansyah",
           2.2222730608109096
          ],
          [
           "Dodi Helpino Pida",
           2.222346424269777
          ],
          [
           "Suhartono",
           2.2666598570526384
          ],
          [
           "Suriyanto",
           2.190590376988256
          ],
          [
           "Hermanto",
           2.166600042465922
          ],
          [
           "Rismat",
           2.270828949898818
          ],
          [
           "Muchlis Saputra",
           2.222344683393908
          ],
          [
           "Zainal Abidin",
           2.2223577481351144
          ],
          [
           "Teguh",
           2.2564065095723738
          ],
          [
           "Fadli",
           2.22228429100897
          ],
          [
           "Ermansyah Putra",
           2.190590376988256
          ],
          [
           "Muchfriyatna Sihombing",
           2.222195052679091
          ],
          [
           "Achmad Fadly Effendi",
           2.222266518851366
          ],
          [
           "Heri Gusliadi Siregar",
           2.2222794933486165
          ],
          [
           "Sumarwan",
           2.2222064074524472
          ],
          [
           "Sumardi",
           2.222304286750909
          ],
          [
           "Adi Syah Putra",
           2.2223630255790625
          ],
          [
           "Salahuddin",
           2.190456063011755
          ],
          [
           "Sukarman",
           2.2223215729147716
          ],
          [
           "Suparmin",
           2.222210340422955
          ],
          [
           "Muhammad Alamsyah",
           2.222258232532177
          ],
          [
           "Junaidi S",
           2.222264666787637
          ],
          [
           "Muslim",
           2.2223327933045716
          ],
          [
           "M Syaharuddin",
           2.190456063011755
          ],
          [
           "Gusmanto",
           2.222259194436548
          ],
          [
           "Dwi Hartono",
           2.22228418236692
          ],
          [
           "Syamsuri",
           2.2564036254153796
          ],
          [
           "Dedi Irawan",
           2.2499920165869796
          ],
          [
           "Misman",
           2.222307904037769
          ],
          [
           "Heri Purnama",
           2.2083247540056163
          ],
          [
           "Ardiansyah",
           2.2222687365454408
          ],
          [
           "Ngadiono",
           2.166899534703814
          ],
          [
           "Jasiman",
           2.2222783463123505
          ],
          [
           "M.Azmi",
           2.2424226343112537
          ],
          [
           "Abdullah",
           2.222276494643055
          ],
          [
           "Muhammad Jauhari",
           2.1666778899502868
          ],
          [
           "Katno",
           2.22228418236692
          ],
          [
           "Susanto",
           2.242422409993675
          ],
          [
           "Wagiran",
           2.22222587810145
          ],
          [
           "Indra Irawan",
           2.222308499654128
          ],
          [
           "Mustafa",
           2.1905238145816615
          ],
          [
           "Sutrisno",
           2.222334534553454
          ],
          [
           "Sudarto",
           2.222271208965353
          ],
          [
           "Budiman",
           2.166715668068993
          ],
          [
           "Herman Felani",
           2.222228905553247
          ],
          [
           "Marianto T",
           2.2222306500629725
          ],
          [
           "Sahriadi",
           2.242422409993675
          ],
          [
           "Suprayetno",
           2.1666800909874993
          ],
          [
           "Nurman",
           2.2222253600203805
          ],
          [
           "Muliya Neshan Rumapea",
           2.2222182477186916
          ],
          [
           "Abd Muis",
           2.2222090266640304
          ],
          [
           "Alansyah Putra",
           2.222272952146885
          ],
          [
           "Muhammad  Yusup",
           2.222276603300147
          ],
          [
           "Sugiono",
           2.2222262131573998
          ],
          [
           "Samsuli",
           2.250001683919459
          ],
          [
           "Abdullah",
           2.2222100052712666
          ],
          [
           "Alpijam Hajannur",
           2.222213444349971
          ],
          [
           "Wan Jaini Abidin",
           2.2499920165869796
          ],
          [
           "T M Fahri",
           2.2222367086020176
          ],
          [
           "Abd Kahar",
           2.2222253600203805
          ],
          [
           "Suradi",
           2.190456063011755
          ],
          [
           "Musiran",
           2.1905985551979423
          ],
          [
           "Misdian Karim",
           2.2666598570526384
          ],
          [
           "Suriyadi",
           2.222283035427515
          ],
          [
           "Rukiyan",
           2.222297748469659
          ],
          [
           "Suhendrik",
           2.2222609379952467
          ],
          [
           "Muhammad Salim",
           2.22222843084763
          ],
          [
           "Joko Yuwono",
           2.2222860337798696
          ],
          [
           "Adi Syahputra",
           2.222210340422955
          ],
          [
           "Sugiono",
           2.2564034647873563
          ],
          [
           "M Anfal",
           2.2223145497059487
          ],
          [
           "Aminan",
           2.2083268406924965
          ],
          [
           "Juhairi Lubis",
           2.222296678615332
          ],
          [
           "Ahmad Albar",
           2.222364279352374
          ],
          [
           "Halomoan Purba",
           2.2499918280684947
          ],
          [
           "Jumarno",
           2.190458234824483
          ],
          [
           "Wagiran",
           2.190456617071812
          ],
          [
           "Heriadi",
           2.2222279431241976
          ],
          [
           "Supriadi",
           2.222206895364969
          ],
          [
           "Razali",
           2.222246323911866
          ],
          [
           "Indra Syahputra",
           2.2666597363993324
          ],
          [
           "Suprianto",
           2.222316291527243
          ],
          [
           "Ngatirin",
           2.2222279431241976
          ],
          [
           "Waluyo",
           2.166704523971929
          ],
          [
           "Suratman",
           2.2666611982652163
          ],
          [
           "Asrol",
           2.222369556175171
          ],
          [
           "Nasir",
           2.1666771361206414
          ],
          [
           "Hendri Susanto",
           2.249988993334825
          ],
          [
           "Tedi Asriadi",
           2.2666597363993324
          ],
          [
           "Harianto",
           2.190456617071812
          ],
          [
           "Mesnan",
           2.190467119140137
          ],
          [
           "Indra Saputra",
           2.2222262131573998
          ],
          [
           "Surimran",
           2.2666616711859238
          ],
          [
           "Rudi Hartono",
           2.222204965567775
          ],
          [
           "Ginanjar Putra",
           2.2223145497059487
          ],
          [
           "Nuriadi",
           2.2564042550481114
          ],
          [
           "Ponijan",
           2.2223149280874193
          ],
          [
           "Joni",
           2.2222783463123505
          ],
          [
           "Paijan",
           2.2223215729147716
          ],
          [
           "Suhendro",
           2.2222081526687476
          ],
          [
           "Darma",
           2.2499899208740524
          ],
          [
           "Sarwo Edie",
           2.222266993231571
          ],
          [
           "Bahrin",
           2.2223014747909837
          ],
          [
           "Sugio",
           2.1905187623655236
          ],
          [
           "Wahyu Purnama Nst",
           2.2223594886011657
          ],
          [
           "Dedi Saputra",
           2.2564060405944852
          ],
          [
           "Sarbaini",
           2.222276494643055
          ],
          [
           "Sudarmin",
           2.233326745027692
          ],
          [
           "Tukino",
           2.222220839837623
          ],
          [
           "Irwansyah",
           2.222283035427515
          ],
          [
           "Suhadi",
           2.222193307051293
          ],
          [
           "Riswanto",
           2.2500209018060127
          ],
          [
           "Sipto",
           2.222246323911866
          ],
          [
           "Yusuf Hamdani",
           2.2223201299441713
          ],
          [
           "Abdul Halim",
           2.190467119140137
          ],
          [
           "Tarmin",
           2.2500226211505168
          ],
          [
           "Agustiawan",
           2.2222990037184336
          ],
          [
           "Endi Yuliadi",
           2.2223014747909837
          ],
          [
           "Kasri",
           2.2222960060664425
          ],
          [
           "Marwan",
           2.222319831259201
          ],
          [
           "Taulis Yantoro",
           2.222246323911866
          ],
          [
           "Nurdinsyah",
           2.222318235949263
          ],
          [
           "Ariadi",
           2.2223144411230966
          ],
          [
           "Dedi Herdino",
           2.2564036254153796
          ],
          [
           "Rohmat",
           2.2223577481351144
          ],
          [
           "Ruli Handika",
           2.190458788867698
          ],
          [
           "Saidi",
           2.1905954241388654
          ],
          [
           "Limin",
           2.2499925670294876
          ],
          [
           "Supriadi",
           2.222318235949263
          ],
          [
           "Mardi",
           2.222205300749862
          ],
          [
           "Firman Syah",
           2.2564066701876824
          ],
          [
           "M Jakaria",
           2.2222912094183105
          ],
          [
           "Surya Dani",
           2.222318235949263
          ],
          [
           "Musri",
           2.2223292543991833
          ],
          [
           "Suwarman",
           2.2223327933045716
          ],
          [
           "Ahmad Firdaus",
           2.1666778899502868
          ],
          [
           "Suhendra",
           2.2666611982652163
          ],
          [
           "Masuri",
           2.1905954241388654
          ],
          [
           "Irawan Syahputra",
           2.2223231826824534
          ],
          [
           "Muliono",
           2.222364765879583
          ],
          [
           "Syah Budi",
           2.256405879976547
          ],
          [
           "Feri Madona",
           2.2500209018060127
          ],
          [
           "Teuku Sulaiman",
           2.22222587810145
          ],
          [
           "Syamsuri",
           2.242419261275708
          ],
          [
           "Feri Syahputra",
           2.2222912094183105
          ],
          [
           "Syah Putra",
           2.2223594886011657
          ],
          [
           "Mukhlis",
           2.2666592634511766
          ],
          [
           "Miswanto",
           2.2223577481351144
          ],
          [
           "Saryanto",
           2.2222279431241976
          ],
          [
           "Dirwan",
           2.2223201299441713
          ],
          [
           "Supriadi",
           2.166669509622593
          ],
          [
           "Bustami",
           2.1666808447904162
          ],
          [
           "Fadlun",
           2.2222674806122247
          ],
          [
           "Jumino",
           2.2222253600203805
          ],
          [
           "Ridwan Asmara",
           2.2424235135938497
          ],
          [
           "Salman Alfarizi",
           2.222297261354613
          ],
          [
           "Dafid Heriyandi",
           2.222276494643055
          ],
          [
           "Nurrahim",
           2.222222488395661
          ],
          [
           "Miswanto",
           2.242422409993675
          ],
          [
           "M. Yusuf",
           2.2223577481351144
          ],
          [
           "Maimun Harahap",
           2.2223231826824534
          ],
          [
           "Katiman",
           2.2223131862233405
          ],
          [
           "Roni Wahyudi",
           2.2222652628679933
          ],
          [
           "Didi Supriyanto",
           2.2222449981328136
          ],
          [
           "Hermanto",
           2.2083247540056163
          ],
          [
           "Irwan",
           2.222277750372419
          ],
          [
           "Miswadi",
           2.2222990037184336
          ],
          [
           "Junaidi S",
           2.2222687365454408
          ],
          [
           "Sagino",
           2.242422409993675
          ],
          [
           "Wagiman",
           2.2222990037184336
          ],
          [
           "Sugianto",
           2.2223451700929626
          ],
          [
           "Supono",
           2.2223594886011657
          ],
          [
           "Sudarmin",
           2.222208691504416
          ],
          [
           "Suwardi",
           2.1905238145816615
          ],
          [
           "Sujari",
           2.222210340422955
          ],
          [
           "Dodi Iskandar",
           2.1905187623655236
          ],
          [
           "Rudi Armansyah",
           2.2223381498696892
          ],
          [
           "Sunaryo",
           2.190515627804728
          ],
          [
           "Sudarwadi",
           2.190467119140137
          ],
          [
           "Jenal Manurung",
           2.233323998831863
          ],
          [
           "Muhammad Sofi",
           2.222248542412479
          ],
          [
           "Andika",
           2.222271317632789
          ],
          [
           "Jaka Saputra",
           2.222253907111895
          ],
          [
           "Edi Susanto",
           2.2223231826824534
          ],
          [
           "Syamsul Bahri",
           2.2564034647873563
          ],
          [
           "Selamat",
           2.222316291527243
          ],
          [
           "T. Syarif Hamdani",
           2.2223132948086475
          ],
          [
           "Syarifuddin",
           2.2424190369414836
          ],
          [
           "Sariono",
           2.190467119140137
          ],
          [
           "Sidik Pramono",
           2.222258232532177
          ],
          [
           "Dapit",
           2.2500236877914785
          ],
          [
           "Sriono",
           2.2777739755780386
          ],
          [
           "Rakiman",
           2.256405879976547
          ],
          [
           "Zainuddin",
           2.2222371962484972
          ],
          [
           "Mainullah",
           2.2777723873579294
          ],
          [
           "M Johansyah",
           2.249989732346087
          ],
          [
           "Amran",
           2.222259194436548
          ],
          [
           "Sarudi",
           2.222346424269777
          ],
          [
           "Sudirman",
           2.190456063011755
          ],
          [
           "Dedi Idris",
           2.22232799983429
          ],
          [
           "Herman",
           2.222351216149004
          ],
          [
           "Sugianto",
           2.2666616711859238
          ],
          [
           "Supangat",
           2.222304286750909
          ],
          [
           "Untung Sumardi",
           2.190464393602057
          ],
          [
           "Oktian",
           2.2564066701876824
          ],
          [
           "Misdi",
           2.2222599761210744
          ],
          [
           "Sudarmadi",
           2.2223151829389063
          ],
          [
           "Fujianto",
           2.2222687365454408
          ],
          [
           "Hendro Miski Wijaya",
           2.26190376129264
          ],
          [
           "Julianto",
           2.2222912094183105
          ],
          [
           "Marwansyah Lubis",
           2.222265737258927
          ],
          [
           "Suhardi",
           2.2223090822693377
          ],
          [
           "Hendra Sakti Nasution",
           2.222351216149004
          ],
          [
           "Misjatul Aladuni",
           2.2223151829389063
          ],
          [
           "Elfiadi",
           2.2223209774386734
          ],
          [
           "Ruri Febrian",
           2.242420140623559
          ],
          [
           "Suyedi",
           2.2222859251412297
          ],
          [
           "Irawan",
           2.222210340422955
          ],
          [
           "Muslim",
           2.2222051501091764
          ],
          [
           "Lajiman",
           2.222254612007875
          ],
          [
           "Julian Indra Syahputra",
           2.190458234824483
          ],
          [
           "Suparjo Susanto",
           2.190458234824483
          ],
          [
           "Dedi Mustafa",
           2.2083261297212653
          ],
          [
           "Dedi Wahyudi",
           2.222203986871777
          ],
          [
           "Sutrisno",
           2.222344683393908
          ],
          [
           "M.Taslim",
           2.222276494643055
          ],
          [
           "Paiman",
           2.222222153317245
          ],
          [
           "Rahmad Amin",
           2.190458234824483
          ],
          [
           "Joko Susanto",
           2.2222990037184336
          ],
          [
           "Ucok Sandro",
           2.222318235949263
          ],
          [
           "Sunardi",
           2.242420140623559
          ],
          [
           "Sudiyan",
           2.222364765879583
          ],
          [
           "Mujianto",
           2.222308499654128
          ],
          [
           "Edi Setiawan",
           2.222258232532177
          ],
          [
           "Yuswardi Y",
           2.222246323911866
          ],
          [
           "Sejali",
           2.222213444349971
          ],
          [
           "M.Yusuf",
           2.249999400208474
          ],
          [
           "Tengku Idris Affandi",
           2.222222488395661
          ],
          [
           "Ahmad Yani",
           2.222203986871777
          ],
          [
           "Datam",
           2.222289466809861
          ],
          [
           "Suprianto",
           2.242420140623559
          ],
          [
           "Sukidi",
           2.242422409993675
          ],
          [
           "Eko Munir Sajaya",
           2.222223615344524
          ],
          [
           "Sarmin",
           2.2424235135938497
          ],
          [
           "Arianto",
           2.1905187623655236
          ],
          [
           "Ahyar",
           2.222222153317245
          ],
          [
           "Hendri Syahputra Nasution",
           2.190466565161522
          ],
          [
           "Armansyah",
           2.2223150366693187
          ],
          [
           "M.Trikurniantoro",
           2.2333856678208015
          ],
          [
           "Bambang Sumantri",
           2.222228905553247
          ],
          [
           "Junaidi",
           2.222274923973561
          ],
          [
           "Herwansyah",
           2.190603601770248
          ],
          [
           "Miswanto",
           2.2564034647873563
          ],
          [
           "Hardi Rianto",
           2.222243741662663
          ],
          [
           "Abdul Kolik",
           2.2222262131573998
          ],
          [
           "Agus Widodo",
           2.256405879976547
          ],
          [
           "Hendriko Lubis",
           2.2221986001464473
          ],
          [
           "Suprianto Gunawan",
           2.2221986001464473
          ],
          [
           "Supriadi",
           2.222278237658669
          ],
          [
           "Tukino",
           2.222289466809861
          ],
          [
           "Bunawan",
           2.2564036254153796
          ],
          [
           "Junaidi",
           2.222204965567775
          ],
          [
           "Subroto",
           2.2222253600203805
          ],
          [
           "Sutia Budi",
           2.2223231826824534
          ],
          [
           "Irwan Syahputra",
           2.2222090266640304
          ],
          [
           "Rasiman",
           2.222304286750909
          ],
          [
           "Riswandi",
           2.2666611982652163
          ],
          [
           "Supriadi",
           2.222334534553454
          ],
          [
           "Iyon Hendri Wigin Sihombing",
           2.2708306502829267
          ],
          [
           "Abd Manap",
           2.190456063011755
          ],
          [
           "Tusirin",
           2.190467119140137
          ],
          [
           "Dafid Heriyandi",
           2.2424235135938497
          ],
          [
           "Rudianto",
           2.1905105750093083
          ],
          [
           "Sukadi Purnawan",
           2.222283035427515
          ],
          [
           "Alfian",
           2.222272952146885
          ],
          [
           "Agus Darmawan",
           2.256405879976547
          ],
          [
           "Irfan Masri",
           2.222351216149004
          ],
          [
           "Eko Nofriyadi",
           2.222307904037769
          ],
          [
           "Adriadi",
           2.2424226343112537
          ],
          [
           "Sutrisno",
           2.2223231826824534
          ],
          [
           "Jujur Sianipar",
           2.266661550539183
          ],
          [
           "Suhendra",
           2.242423289280613
          ],
          [
           "Pariaman",
           2.2222730608109096
          ],
          [
           "Mafluthi",
           2.2223037996932287
          ],
          [
           "Sahuddin",
           2.190464393602057
          ],
          [
           "Rapudinsyah",
           2.2222319068292817
          ],
          [
           "Suhermanto",
           2.222247362895609
          ],
          [
           "Endang Johari",
           2.2222740224584747
          ],
          [
           "Arianto",
           2.222213444349971
          ],
          [
           "Sudirman",
           2.222321464345657
          ],
          [
           "Edi Suryanto",
           2.2223499620804867
          ],
          [
           "Widodo",
           2.2223215729147716
          ],
          [
           "Suparlan",
           2.22222587810145
          ],
          [
           "Ariyanto",
           2.222271208965353
          ],
          [
           "Abdul Muis",
           2.2222635194450726
          ],
          [
           "Hairul Azmi",
           2.2223096460676013
          ],
          [
           "Ahmad Syafii",
           2.2222275265099802
          ],
          [
           "Suhendra",
           2.222277750372419
          ],
          [
           "Pariatno",
           2.222246323911866
          ],
          [
           "Herwin",
           2.2222556508365896
          ],
          [
           "Iwan",
           2.222243741662663
          ],
          [
           "Andi Susanto",
           2.2222253600203805
          ],
          [
           "Muhammad Juli Akbar",
           2.2222349772946624
          ],
          [
           "Makmur Lubis",
           2.2666610776167646
          ],
          [
           "Kamsito",
           2.2222730608109096
          ],
          [
           "Sucipto",
           2.2499925670294876
          ],
          [
           "Sohirin",
           2.2083264165626337
          ],
          [
           "Zulkarnain",
           2.2222740224584747
          ],
          [
           "M Rizal",
           2.222229687664146
          ],
          [
           "Irianda",
           2.190458788867698
          ],
          [
           "Hari Irawan",
           2.190456617071812
          ],
          [
           "Sutrisno",
           2.2222410353617934
          ],
          [
           "Roso",
           2.2777739755780386
          ],
          [
           "Sugianto",
           2.222238452866714
          ],
          [
           "Darwin",
           2.222344683393908
          ],
          [
           "Suyono S",
           2.222269972938415
          ],
          [
           "Ramli Situmorang",
           2.222304286750909
          ],
          [
           "Aan Priatna",
           2.2222990037184336
          ],
          [
           "Tono Prayitno Syahputra",
           2.2083872688406876
          ],
          [
           "Suwito",
           2.222334534553454
          ],
          [
           "Bambang Irawan",
           2.2222003456079773
          ],
          [
           "Irwan Sanusi Siregar",
           2.2223150366693187
          ],
          [
           "Agus Salim",
           2.222291318046611
          ],
          [
           "Sukur",
           2.190466565161522
          ],
          [
           "Saman",
           2.2666610776167646
          ],
          [
           "Sofyan",
           2.266659384106194
          ],
          [
           "Ngatino",
           2.190467119140137
          ],
          [
           "Budi Lubis",
           2.22230021959808
          ],
          [
           "Muhammad Safi'I,St",
           2.222272952146885
          ],
          [
           "Suyitno",
           2.2223025445528894
          ],
          [
           "Muhammad Yusuf",
           2.222229687664146
          ],
          [
           "Junaidi",
           2.2222960060664425
          ],
          [
           "Abdul Muis",
           2.2222990037184336
          ],
          [
           "Misdi",
           2.2222349772946624
          ],
          [
           "Ralim",
           2.222297261354613
          ],
          [
           "M Tri Kurniantoro",
           2.222233232920826
          ],
          [
           "Hendri Dora",
           2.222316182947798
          ],
          [
           "Zoelkifli",
           2.22227186858046
          ],
          [
           "Suhardi",
           2.2222556508365896
          ],
          [
           "Yamin Prihatin",
           2.222321464345657
          ],
          [
           "Sukarno",
           2.2222090266640304
          ],
          [
           "Junaidi",
           2.2666616711859238
          ],
          [
           "Syafrizal",
           2.2564040944227166
          ],
          [
           "Suyato",
           2.22228418236692
          ],
          [
           "Ilyas",
           2.2222783463123505
          ],
          [
           "Sugianto",
           2.222204965567775
          ],
          [
           "Sumardi",
           2.2222090266640304
          ],
          [
           "Ari Kusmana",
           2.222276494643055
          ],
          [
           "Sugianto",
           2.2222609379952467
          ],
          [
           "Suwito",
           2.222204965567775
          ],
          [
           "Kasim",
           2.2424190369414836
          ],
          [
           "Adi Irwanto",
           2.256405879976547
          ],
          [
           "Misdi",
           2.2564034647873563
          ],
          [
           "Suardi",
           2.190464393602057
          ],
          [
           "Hardiansyah",
           2.2424235135938497
          ],
          [
           "M. Abdul Jailani",
           2.2222064074524472
          ],
          [
           "Indra Irawan",
           2.1666069286551903
          ],
          [
           "Rahmad Syahputra",
           2.222297261354613
          ],
          [
           "Safarun",
           2.2222635194450726
          ],
          [
           "Suhendra",
           2.166669509622593
          ],
          [
           "Muhammad Widodo",
           2.2564042550481114
          ],
          [
           "Matfiah",
           2.2222275265099802
          ],
          [
           "Edy Haryanto",
           2.222346424269777
          ],
          [
           "Dahli Syaandri",
           2.2223032170225747
          ],
          [
           "Nusa Antari",
           2.222227191461954
          ],
          [
           "Barmen",
           2.208332793626137
          ],
          [
           "Suardi",
           2.222327512984635
          ],
          [
           "Muhammad  Abdi Prihartono",
           2.2222275265099802
          ],
          [
           "Iswadi",
           2.222289575441571
          ],
          [
           "Sudarso Diatmaja",
           2.2223145497059487
          ],
          [
           "Deni Pebrianto Syahputra",
           2.2222036516817614
          ],
          [
           "Wan Syahrizal",
           2.2666616711859238
          ],
          [
           "Adi Arianto",
           2.2222907222458885
          ],
          [
           "Bahari",
           2.22222117492396
          ],
          [
           "Daryusman",
           2.1905238145816615
          ],
          [
           "M Suhartono",
           2.2708301286249624
          ],
          [
           "Sanja Primaja",
           2.22228418236692
          ],
          [
           "Dariono",
           2.2223499620804867
          ]
         ],
         "hovertemplate": "PCA1=%{x}<br>PCA2=%{y}<br>Nama=%{customdata[0]}<br>Decision Value=%{customdata[1]}<br>Status Kesesuaian=%{marker.color}<extra></extra>",
         "legendgroup": "",
         "marker": {
          "color": [
           1,
           1,
           1,
           1,
           1,
           0,
           1,
           1,
           0,
           0,
           1,
           2,
           2,
           0,
           1,
           2,
           1,
           1,
           1,
           1,
           2,
           2,
           1,
           1,
           1,
           1,
           2,
           2,
           2,
           0,
           2,
           0,
           0,
           1,
           1,
           1,
           2,
           1,
           1,
           1,
           1,
           1,
           2,
           1,
           1,
           1,
           1,
           1,
           1,
           1,
           1,
           1,
           2,
           2,
           1,
           2,
           2,
           1,
           2,
           2,
           1,
           1,
           0,
           1,
           2,
           1,
           1,
           1,
           2,
           2,
           1,
           1,
           2,
           2,
           1,
           1,
           1,
           2,
           2,
           2,
           1,
           0,
           2,
           1,
           0,
           1,
           1,
           2,
           1,
           2,
           1,
           1,
           2,
           1,
           1,
           1,
           1,
           1,
           1,
           0,
           2,
           0,
           1,
           1,
           1,
           1,
           2,
           1,
           1,
           1,
           1,
           1,
           0,
           0,
           1,
           1,
           2,
           2,
           1,
           2,
           2,
           1,
           1,
           2,
           1,
           2,
           1,
           0,
           1,
           1,
           1,
           1,
           2,
           0,
           2,
           0,
           1,
           1,
           2,
           1,
           0,
           1,
           1,
           1,
           1,
           1,
           1,
           0,
           1,
           2,
           1,
           1,
           1,
           0,
           1,
           1,
           2,
           2,
           1,
           2,
           1,
           2,
           1,
           2,
           1,
           2,
           1,
           2,
           2,
           1,
           0,
           1,
           1,
           2,
           1,
           1,
           2,
           2,
           1,
           1,
           2,
           1,
           1,
           2,
           0,
           2,
           1,
           2,
           1,
           1,
           0,
           0,
           2,
           1,
           1,
           1,
           1,
           1,
           2,
           2,
           1,
           2,
           1,
           1,
           2,
           0,
           0,
           1,
           1,
           1,
           2,
           1,
           1,
           2,
           2,
           1,
           2,
           2,
           2,
           0,
           0,
           2,
           2,
           2,
           1,
           2,
           1,
           1,
           1,
           1,
           2,
           1,
           1,
           0,
           1,
           2,
           1,
           2,
           2,
           1,
           1,
           2,
           1,
           0,
           0,
           2,
           1,
           1,
           1,
           1,
           1,
           0,
           1,
           2,
           1,
           0,
           0,
           2,
           0,
           2,
           2,
           1,
           0,
           1,
           1,
           2,
           2,
           0,
           0,
           1,
           2,
           2,
           2,
           2,
           1,
           1,
           2,
           1,
           1,
           0,
           2,
           2,
           1,
           1,
           2,
           1,
           1,
           2,
           2,
           1,
           0,
           1,
           1,
           1,
           2,
           1,
           1,
           1,
           2,
           1,
           1,
           1,
           2,
           0,
           2,
           0,
           1,
           0,
           0,
           2,
           1,
           1,
           1,
           0,
           2,
           1,
           1,
           2,
           0,
           1,
           2,
           2,
           2,
           1,
           2,
           2,
           1,
           1,
           0,
           1,
           1,
           2,
           1,
           0,
           2,
           1,
           0,
           1,
           0,
           1,
           1,
           1,
           1,
           0,
           1,
           2,
           1,
           2,
           1,
           1,
           0,
           0,
           2,
           2,
           1,
           1,
           2,
           0,
           1,
           0,
           2,
           1,
           1,
           1,
           1,
           1,
           0,
           2,
           2,
           1,
           2,
           2,
           1,
           2,
           0,
           2,
           0,
           1,
           2,
           1,
           0,
           0,
           2,
           1,
           2,
           2,
           1,
           1,
           1,
           1,
           2,
           2,
           1,
           0,
           2,
           1,
           2,
           1,
           0,
           0,
           0,
           2,
           0,
           1,
           1,
           2,
           1,
           1,
           2,
           0,
           2,
           2,
           1,
           1,
           0,
           1,
           1,
           1,
           1,
           1,
           1,
           1,
           2,
           1,
           1,
           1,
           2,
           1,
           1,
           1,
           1,
           1,
           1,
           2,
           1,
           2,
           2,
           1,
           1,
           0,
           0,
           1,
           2,
           1,
           1,
           0,
           1,
           1,
           2,
           1,
           1,
           1,
           1,
           0,
           2,
           2,
           0,
           1,
           1,
           1,
           1,
           1,
           1,
           1,
           1,
           1,
           1,
           0,
           1,
           1,
           2,
           2,
           2,
           1,
           1,
           2,
           2,
           1,
           1,
           2,
           2,
           2,
           2,
           0,
           2,
           1,
           2,
           1,
           1,
           2,
           2,
           2,
           1,
           1,
           2,
           2,
           1,
           2,
           1,
           1,
           2,
           2,
           1,
           2,
           0,
           0,
           1,
           1
          ],
          "coloraxis": "coloraxis",
          "symbol": "circle"
         },
         "mode": "markers",
         "name": "",
         "orientation": "v",
         "showlegend": false,
         "type": "scatter",
         "x": [
          -1.7413534800559531,
          -0.8551607059412522,
          -1.0782063504398294,
          -1.7274270753774665,
          -1.9083735370368016,
          1.8470899391097435,
          -1.1221823844787226,
          -1.1637861057440069,
          2.168670426778931,
          1.5788976125537897,
          -0.9803228552775113,
          1.635973210492678,
          1.9155751529199554,
          1.8027939362670844,
          -1.431381939464525,
          1.9295015575984513,
          -1.542617684122286,
          -1.2744253575663356,
          -0.9538161867092064,
          -1.3173752196203048,
          1.1978692141721015,
          1.7902136723772752,
          -1.0491828930643545,
          -1.1486890530470277,
          -1.3173752196203048,
          -1.233992284319535,
          1.6903326884179741,
          1.6903326884179741,
          1.591477876443599,
          1.804140077055771,
          1.4091852739955868,
          2.125720564724959,
          2.3105299559801398,
          -1.0491828930643545,
          -1.418426851598088,
          -1.2769421463735038,
          1.4091852739955868,
          -1.7249102865702983,
          -0.909520183866551,
          -1.0087498198175537,
          -1.2490893370165128,
          -1.4996678220683166,
          1.591477876443599,
          -1.0782063504398276,
          -1.4033297989011102,
          -1.2883517622448315,
          -1.4867127342018798,
          -0.8690871106197503,
          -1.431381939464525,
          -1.2769421463735038,
          -1.7678601486242673,
          -1.8818668684684872,
          2.3799864866024136,
          1.5939946652507673,
          -1.1512058418541966,
          2.0978677553679677,
          1.3687522007487862,
          -1.6970574772133067,
          2.100384544175136,
          2.100384544175136,
          -1.4588599248448884,
          -1.670175984668374,
          2.3105299559801398,
          -1.4449335201663926,
          1.1409929474396368,
          -1.7119551987038613,
          -0.9234465885450468,
          -1.7678601486242673,
          1.6777524245281648,
          1.3662354119416178,
          -1.9248167305224564,
          -1.6844772133234973,
          1.2117956188505972,
          1.100559874192836,
          -0.9808970104605623,
          -1.4033297989011102,
          -1.9248167305224564,
          1.6348025624741958,
          1.886551695544482,
          1.6473828263640051,
          -1.6424986680815874,
          2.0435082774426707,
          1.6777524245281648,
          -2.1071093329704684,
          1.8875230123565412,
          -1.233992284319535,
          -1.4159100627909194,
          2.0978677553679677,
          -1.6285722634030912,
          1.8890684843516503,
          -1.431381939464525,
          -1.6690053366498918,
          2.3370366245484444,
          -1.1082559798002274,
          -1.459234748821516,
          -1.5147648747652949,
          -1.9248167305224564,
          -1.6844772133234973,
          -1.1512058418541966,
          1.8445731503025717,
          1.3258023386948172,
          1.5775514717651034,
          -1.9652498037692574,
          -1.4718150127113252,
          -1.7119551987038613,
          -1.7109838818918026,
          1.6903326884179741,
          -1.0642799457613321,
          -1.6007194540461,
          -1.6715221254570605,
          -1.2895224102633134,
          -1.4867127342018798,
          1.6218474746077587,
          1.6193306858005905,
          -0.8830135152982458,
          -1.7119551987038613,
          1.6903326884179741,
          1.6498996151711738,
          -1.246572548209344,
          1.8596702029995495,
          1.9155751529199554,
          -1.513594226746813,
          -1.9097196778254786,
          2.140817617421937,
          -1.0491828930643545,
          1.6638260198496693,
          -2.190492268271238,
          1.5788976125537897,
          -2.1475424062172688,
          -1.9931026131262481,
          -1.1372794371757007,
          -2.1779120043814286,
          1.6473828263640051,
          2.168670426778928,
          1.1827721614751234,
          1.90164874824146,
          -2.2183450776282294,
          -2.190492268271238,
          1.4091852739955868,
          -1.4588599248448886,
          2.168670426778928,
          -1.051699681871523,
          -1.1512058418541966,
          -1.4323532562765837,
          -1.0642799457613321,
          -1.6566244039665063,
          -2.1475424062172688,
          1.9029948890301462,
          -1.6007194540461,
          1.168845756796628,
          -1.2055653197794922,
          -1.5006391388803753,
          -1.9222999417152882,
          1.9029948890301462,
          -1.4996678220683166,
          -1.7678601486242673,
          1.8321922176191858,
          1.1144862788713317,
          -2.007029017804744,
          2.1143109488536314,
          -1.474331801518494,
          2.339553413355613,
          -1.0943295751217312,
          1.5510448031967983,
          -1.443762872147911,
          1.7902136723772752,
          -1.7678601486242673,
          1.5939946652507673,
          1.8192371297527488,
          -1.6285722634030917,
          1.5788976125537897,
          -1.8818668684684872,
          -1.4867127342018798,
          1.6487289671526912,
          -1.2744253575663356,
          -1.233992284319535,
          1.593994665250767,
          1.8735966076780453,
          -1.2769421463735038,
          -1.0074036790288674,
          1.1284126835498272,
          -1.4462796609550794,
          -1.1347626483685322,
          1.7762872676987798,
          1.7623608630202838,
          1.2117956188505972,
          -0.9808970104605623,
          1.1144862788713317,
          -1.2895224102633134,
          -1.2769421463735038,
          1.902994889030146,
          2.125720564724959,
          1.6473828263640051,
          -1.429836467469415,
          -1.6705508086450018,
          -1.4592347488215165,
          -0.9108663246552375,
          -1.418426851598088,
          1.168845756796628,
          1.8751420796731546,
          -1.68410238934687,
          2.1117941600464634,
          -1.6854485301355564,
          -2.1765658635927423,
          1.1574361409253007,
          1.9434279622769468,
          1.8600450269761772,
          -0.9803228552775113,
          -0.9948234151390581,
          -0.909520183866551,
          1.6903326884179741,
          -1.6436693161000693,
          -0.9803228552775113,
          1.6916788292066607,
          1.100559874192836,
          -2.1336160015387735,
          1.833163534431245,
          1.6638260198496693,
          1.6903326884179741,
          1.860045026976177,
          1.3940882212986092,
          1.7762872676987798,
          1.1409929474396368,
          1.7181854977749658,
          -1.68410238934687,
          1.8726252908659866,
          -1.9236460825039743,
          -1.0943295751217312,
          -1.6007194540461,
          -1.0238468725145313,
          1.6613092310425013,
          -1.5147648747652949,
          -1.7119551987038613,
          1.6193306858005905,
          -2.1500591950244377,
          1.3258023386948172,
          -1.443762872147911,
          1.3826786054272822,
          2.325627008677117,
          -1.429836467469415,
          -1.0921327551183238,
          1.9014494170350367,
          -0.909520183866551,
          2.35096302922694,
          1.3940882212986092,
          1.8610163437882359,
          -1.6995742660204751,
          -1.7119551987038613,
          -1.7109838818918028,
          -1.6411525272929004,
          -0.909520183866551,
          2.3534798180341086,
          -1.9931026131262481,
          1.8321922176191858,
          -2.190492268271238,
          1.9004781002229778,
          2.128237353532127,
          1.1978692141721015,
          2.3534798180341086,
          1.675235635720997,
          1.366235411941618,
          -1.6844772133234973,
          2.3534798180341086,
          -1.9248167305224562,
          -1.9222999417152882,
          1.7902136723772752,
          1.100559874192836,
          2.128237353532127,
          2.3105299559801398,
          -2.1071093329704684,
          1.3687522007487862,
          1.9014494170350367,
          1.8192371297527488,
          2.057434682121167,
          -1.6844772133234973,
          -2.1500591950244377,
          1.6498996151711738,
          -2.190492268271238,
          -0.9803228552775113,
          2.35096302922694,
          2.3370366245484444,
          1.8306467456240763,
          -1.4453083441430206,
          -1.2769421463735038,
          1.591477876443599,
          -1.740007339267276,
          -1.443762872147911,
          2.3231102198699487,
          1.593994665250767,
          -2.190492268271238,
          2.3105299559801398,
          -1.9640791557507749,
          -1.1221823844787226,
          -1.235162932338017,
          2.1143109488536314,
          -1.4727863295233838,
          -1.6995742660204751,
          -1.474331801518494,
          1.593994665250767,
          -1.6995742660204751,
          -2.148888547005956,
          -2.1500591950244377,
          1.1713625456037962,
          1.5788976125537897,
          1.168845756796628,
          1.6193306858005905,
          -2.232271482306725,
          1.621847474607759,
          1.3940882212986092,
          1.8865516955444819,
          -1.2326461435308487,
          -1.1777125104225012,
          -1.542617684122286,
          2.3105299559801398,
          1.8751420796731546,
          -1.6436693161000693,
          -1.6550789319713963,
          2.100384544175136,
          1.3940882212986092,
          -1.2055653197794922,
          1.8584995549810677,
          1.1700164048151103,
          1.3687522007487862,
          -1.2200658796410395,
          1.6359732104926783,
          1.70425909309647,
          -1.4996678220683166,
          -2.1779120043814286,
          1.902994889030146,
          -1.8957932731469826,
          -2.2044186729497337,
          1.1409929474396365,
          -1.6566244039665063,
          1.3966050101057776,
          1.366235411941618,
          -1.1651322465326919,
          2.393912891280909,
          -1.474331801518494,
          1.6205013338190724,
          -1.6844772133234973,
          -1.4857414173898216,
          -1.6831310725348112,
          -2.2044186729497337,
          2.393912891280909,
          -1.9791762084477524,
          2.0978677553679677,
          -1.7274270753774663,
          1.168845756796628,
          -1.0352564883858586,
          -0.8551607059412544,
          1.9434279622769466,
          1.9434279622769468,
          1.408014625977105,
          1.6348025624741958,
          -2.2183450776282294,
          -1.443762872147911,
          2.366060081923918,
          1.9434279622769468,
          -1.6995742660204751,
          2.3534798180341086,
          2.0978677553679677,
          -2.1071093329704684,
          -1.6285722634030912,
          -1.2055653197794922,
          -0.909520183866551,
          -0.9808970104605623,
          2.352133677245422,
          2.3231102198699487,
          1.6348025624741958,
          -1.7249102865702983,
          2.0978677553679677,
          1.5939946652507673,
          -1.3173752196203048,
          1.591477876443599,
          1.6193306858005903,
          2.366060081923918,
          1.4370380833525782,
          -1.6146458587245958,
          2.1421637582106228,
          -1.2744253575663356,
          1.804140077055771,
          2.085287491478158,
          1.8751420796731546,
          -1.2061394749625438,
          1.7762872676987795,
          1.3687522007487862,
          -1.0491828930643545,
          -1.0491828930643545,
          -1.4033297989011102,
          -1.7249102865702983,
          1.8321922176191858,
          1.7181854977749658,
          -1.2769421463735038,
          2.3105299559801398,
          1.1284126835498272,
          -1.6566244039665063,
          1.100559874192836,
          -1.8818668684684872,
          1.3523090072631223,
          1.9029948890301462,
          1.3940882212986092,
          1.591477876443599,
          1.6622805478545595,
          -1.429836467469415,
          -1.4462796609550794,
          1.3687522007487862,
          -2.2044186729497337,
          -2.007029017804744,
          1.5510448031967983,
          2.3105299559801398,
          1.1839428094936055,
          1.6344277384975683,
          -1.1372794371757007,
          -1.72608093458878,
          1.3966050101057774,
          -1.2630157416950085,
          -1.5565440888007818,
          -1.431381939464525,
          -0.9808970104605623,
          -1.9097196778254786,
          -2.1753952155742606,
          -1.6007194540461,
          1.8192371297527488,
          -1.4867127342018798,
          -1.1626154577255234,
          -1.9665959445579437,
          1.81672034094558,
          -1.4727863295233838,
          -0.909520183866551,
          -1.5021846108754853,
          -1.2061394749625438,
          -1.2769421463735038,
          -0.8969399199767417,
          1.1435097362468052,
          -1.1372794371757007,
          1.1978692141721015,
          2.154744022100432,
          -1.431381939464525,
          -0.9398897820307107,
          1.9004781002229778,
          1.8600450269761772,
          -0.9524700459205199,
          1.1700164048151103,
          -1.2490893370165128,
          -2.2183450776282294,
          1.8470899391097402,
          -1.6566244039665063,
          -1.6995742660204751,
          1.9144045049014733,
          -1.8818668684684872,
          -1.0087498198175537,
          -1.6146458587245958,
          -1.3754769895441188,
          1.4370380833525782,
          1.143509736246805,
          1.606949753117205,
          1.3940882212986092,
          -1.6829317413283875,
          -1.4462796609550794,
          -1.6970574772133067,
          -0.9398897820307107,
          -1.7109838818918026,
          -1.6995742660204751,
          -0.8969399199767417,
          -1.740007339267276,
          -0.9373729932235425,
          -1.9526695398794476,
          1.8445731503025717,
          -1.5021846108754855,
          -1.9097196778254786,
          1.1284126835498272,
          1.1409929474396365,
          1.9155751529199554,
          -1.7678601486242673,
          -1.0943295751217312,
          1.7181854977749658,
          1.1284126835498272,
          -1.443762872147911,
          -1.459234748821516,
          1.7181854977749658,
          2.100384544175136,
          1.3687522007487862,
          1.8751420796731546,
          1.3966050101057776,
          1.591477876443599,
          -1.0642799457613321,
          1.142339088228323,
          -1.740007339267276,
          -1.1626154577255234,
          2.3370366245484444,
          1.8726252908659866,
          1.81672034094558,
          -2.1779120043814286,
          -1.6715221254570605,
          1.8596702029995495,
          1.648354143176064,
          -1.9652498037692574,
          1.81672034094558,
          -1.4159100627909194,
          -1.68410238934687,
          1.6777524245281648,
          1.1409929474396365,
          -1.7539337439457714,
          2.282677146623148,
          1.5788976125537897,
          1.3548257960702905,
          -1.7678601486242673,
          -2.1753952155742606
         ],
         "xaxis": "x",
         "y": [
          0.829649978613738,
          -0.5444009551788449,
          1.1253738910420066,
          1.0949401690070188,
          -0.5424961635821292,
          -0.5064771496780038,
          -1.4672519842980905,
          0.40334934835843467,
          -0.32651108232752013,
          1.0570709960357478,
          -0.26554076488202716,
          -1.9921404115626196,
          -0.9840719210534778,
          1.0039787249717544,
          0.061972404079837694,
          -0.7187817306601939,
          0.6061227847699427,
          -0.9574253609438095,
          0.08496688690115775,
          0.7331032427093321,
          -0.5369108717129885,
          0.918761263581853,
          -0.8304449030044195,
          -1.8177596360812749,
          0.7331032427093321,
          -0.34162751876734077,
          -1.1110523789928675,
          -1.1110523789928675,
          1.142288457425649,
          1.1840514539751377,
          -0.6752206041668822,
          1.364017521325622,
          0.8752001370885428,
          -0.8304449030044195,
          1.1896887749676046,
          1.3489010848858007,
          -0.6752206041668822,
          -1.2113862768225885,
          -1.425488987748601,
          -0.2146470608279508,
          1.8794814656723695,
          -1.084405818883199,
          1.142288457425649,
          1.1253738910420057,
          -1.0314202094721052,
          -1.2227155513370929,
          0.04331055200456833,
          -0.8096911455721322,
          0.061972404079837694,
          1.3489010848858007,
          0.4791423268305533,
          -0.19198851179894136,
          -0.4648208147814147,
          -1.1640379884039616,
          0.48856680974833616,
          0.8334371405390536,
          -1.2910184463433514,
          -0.6808058960360204,
          -1.4728893052905567,
          -1.4728893052905567,
          0.5738909327911361,
          0.7122006652450299,
          0.8752001370885428,
          0.8391811231844194,
          0.8883275415468698,
          -0.08366990593482149,
          -1.690779178141885,
          0.4791423268305533,
          -1.1962698403827683,
          1.0153079994862593,
          1.4985400918542,
          -0.5955884346461198,
          -0.27162068131970424,
          0.272529699370401,
          0.31593331995861673,
          -1.0314202094721052,
          1.4985400918542,
          0.49425876327037366,
          0.9717468729929479,
          0.5794762246602748,
          -1.423690857804779,
          -0.04765089203069855,
          -1.1962698403827683,
          -0.3189689697383311,
          0.10932069249846453,
          -0.34162751876734077,
          -1.1166376708620058,
          0.8334371405390536,
          -1.1584006674114946,
          -1.3345795728366625,
          0.061972404079837694,
          -1.7741985095879635,
          1.2257077888717274,
          -1.2019617939048055,
          -0.46860797670673005,
          1.1367031655565105,
          1.4985400918542,
          -0.5955884346461198,
          0.48856680974833616,
          1.7998492961516066,
          0.3995101573097904,
          0.876998267032365,
          0.8827422496777317,
          -0.5538254380966311,
          -0.08366990593482149,
          -0.9460960864293048,
          -1.1110523789928675,
          1.39066408143529,
          -0.6278202866249267,
          0.5321279362416472,
          1.2636836234959001,
          0.04331055200456833,
          -0.6334576076173939,
          1.6728688382122168,
          -1.074981335965416,
          -0.08366990593482149,
          -1.1110523789928675,
          -1.7268502211693357,
          -0.42684498015724165,
          -0.42125968828810323,
          -0.9840719210534778,
          -1.3496960092764827,
          -0.7225688925855095,
          -0.8570914631140879,
          -0.8304449030044195,
          -1.4615600307760521,
          0.7557617917383417,
          1.0570709960357478,
          -0.9347668119147997,
          0.3521618688911636,
          0.75385700014162,
          0.8409792531282427,
          0.5794762246602748,
          -0.3265110823275202,
          1.6841981127267212,
          -1.2493621114467617,
          0.22518141095177416,
          0.7557617917383417,
          -0.6752206041668822,
          0.5738909327911362,
          -0.32651108232752024,
          1.475881542825191,
          0.48856680974833616,
          0.9243985845743207,
          1.39066408143529,
          -0.0650080538595518,
          -0.9347668119147997,
          -1.0692893824433787,
          -0.6278202866249267,
          1.4189079223334373,
          -0.39252122282141694,
          -0.22197963838871573,
          -0.8077863539754102,
          -1.0692893824433787,
          -1.0844058188831989,
          0.4791423268305533,
          0.09065884042319561,
          0.5378198897636848,
          0.08687167849787956,
          -1.2075991148972731,
          1.752501007732979,
          -1.0806186569578833,
          -0.9366716035115226,
          0.52649061524918,
          -1.6472180516485735,
          0.918761263581853,
          0.4791423268305533,
          -1.1640379884039616,
          -1.037057530464572,
          -1.1584006674114948,
          1.0570709960357476,
          -0.19198851179894136,
          0.04331055200456833,
          0.7595489536636574,
          -0.9574253609438095,
          -0.34162751876734077,
          -1.1640379884039618,
          -0.15596949789481923,
          1.3489010848858007,
          -0.03457433182456814,
          0.8031100801569689,
          0.659108394181037,
          -1.552469445687991,
          0.6534710731885697,
          0.38818088279528545,
          -0.27162068131970424,
          0.31593331995861673,
          0.5378198897636848,
          1.2636836234959001,
          1.3489010848858007,
          -1.0692893824433787,
          1.364017521325622,
          0.5794762246602748,
          -1.3819278612552899,
          -0.33029824425283594,
          -0.46860797670673005,
          -1.6055617167519842,
          1.1896887749676048,
          1.4189079223334373,
          -1.5998697632299466,
          0.4469104748517465,
          1.0987273309323378,
          0.26683774584836334,
          1.0210519821316255,
          -1.152708713889457,
          -0.4534915402669099,
          0.621239221209763,
          -0.26554076488202716,
          0.05064312956533252,
          -1.425488987748601,
          -1.1110523789928675,
          1.0627083170282152,
          -0.26554076488202716,
          -0.9309796499894845,
          0.272529699370401,
          -0.6694766215215163,
          -0.7717673400712881,
          -1.4615600307760521,
          -1.1110523789928675,
          0.621239221209763,
          1.545888380272827,
          0.6534710731885697,
          0.8883275415468698,
          -0.5804719982062994,
          0.4469104748517465,
          0.7064566825996641,
          -0.9878590829787935,
          -0.9366716035115226,
          -0.6278202866249267,
          2.006461923611759,
          0.8447664150535582,
          1.1367031655565105,
          -0.08366990593482149,
          1.6728688382122168,
          1.3715596339148102,
          0.3995101573097905,
          -1.6472180516485735,
          -1.0257282559500673,
          -1.3459088473511673,
          -1.3819278612552899,
          0.8600837006487219,
          0.37461088289174854,
          -1.425488987748601,
          1.4909979792650112,
          1.545888380272827,
          -0.24118695928472045,
          1.62552054979359,
          -0.08366990593482149,
          -0.9460960864293048,
          -1.2436181288013952,
          -1.425488987748601,
          -0.8153284665645993,
          0.35216186889116363,
          0.09065884042319561,
          0.7557617917383417,
          1.2370370633862322,
          -0.942308924503989,
          -0.5369108717129883,
          -0.8153284665645995,
          1.1100566054468421,
          1.0153079994862593,
          -0.5955884346461198,
          -0.8153284665645995,
          1.4985400918542,
          -0.8077863539754102,
          0.918761263581853,
          0.272529699370401,
          -0.9423089245039888,
          0.8752001370885428,
          -0.3189689697383311,
          -1.2910184463433514,
          0.37461088289174854,
          -1.037057530464572,
          0.21763929836258505,
          -0.5955884346461198,
          1.3715596339148102,
          -1.7268502211693357,
          0.7557617917383417,
          -0.26554076488202716,
          1.4909979792650112,
          1.2257077888717274,
          1.5345591057583226,
          -0.20331778631344635,
          1.3489010848858007,
          1.142288457425649,
          1.009722707617121,
          -1.6472180516485735,
          0.9604175984784433,
          -1.1640379884039618,
          0.7557617917383417,
          0.8752001370885428,
          -1.603656925155262,
          -1.4672519842980905,
          2.1447716560656525,
          -1.2075991148972731,
          0.30860074239785196,
          1.62552054979359,
          1.752501007732979,
          -1.1640379884039618,
          1.62552054979359,
          -1.1148395409181826,
          1.3715596339148102,
          -0.8874185234961729,
          1.0570709960357478,
          1.4189079223334373,
          1.6728688382122168,
          -0.04010877944150985,
          -0.6334576076173939,
          1.545888380272827,
          0.9717468729929479,
          -0.16155478976395826,
          0.13805915796515103,
          0.6061227847699427,
          0.8752001370885428,
          -1.5998697632299466,
          1.0627083170282152,
          -1.5089083191946795,
          -1.4728893052905567,
          1.545888380272827,
          -0.39252122282141694,
          2.06513948654489,
          -1.0674912524995557,
          -1.2910184463433514,
          -0.07633732837405666,
          -1.9921404115626196,
          -0.8457621885995837,
          -1.0844058188831989,
          0.8409792531282427,
          -1.0692893824433787,
          -0.45727870219222544,
          0.49047160134505785,
          0.8883275415468698,
          -0.06500805385955188,
          -0.7604380655567834,
          1.0153079994862593,
          0.22327661935505164,
          -0.19953062438813077,
          1.752501007732979,
          -0.8135303366207769,
          -0.5955884346461198,
          -0.8191156284899149,
          -0.415515705642737,
          0.49047160134505785,
          -0.19953062438813063,
          0.6174520592844474,
          0.8334371405390536,
          1.0949401690070222,
          1.4189079223334373,
          -0.5651547126111363,
          -0.5444009551788489,
          -0.45349154026690985,
          -0.4534915402669099,
          1.8111785706661105,
          0.49425876327037366,
          0.22518141095177416,
          -1.6472180516485735,
          -0.7301110051746984,
          -0.4534915402669099,
          1.62552054979359,
          -0.8153284665645993,
          0.8334371405390536,
          -0.3189689697383311,
          -1.1584006674114946,
          -0.39252122282141694,
          -1.425488987748601,
          0.31593331995861673,
          -0.9954011955679821,
          0.9604175984784433,
          0.49425876327037366,
          -1.2113862768225885,
          0.8334371405390536,
          -1.1640379884039616,
          0.7331032427093321,
          1.142288457425649,
          1.6728688382122168,
          -0.7301110051746984,
          -0.14464022338031438,
          -0.8931104770182109,
          -0.6770187341107051,
          -0.9574253609438095,
          1.1840514539751374,
          0.7482196791491528,
          -1.5998697632299466,
          0.18895286201922742,
          0.6534710731885696,
          -1.2910184463433512,
          -0.8304449030044195,
          -0.8304449030044195,
          -1.0314202094721052,
          -1.2113862768225885,
          0.09065884042319561,
          -0.5804719982062994,
          1.3489010848858007,
          0.8752001370885428,
          0.8031100801569689,
          -0.0650080538595518,
          0.272529699370401,
          -0.19198851179894136,
          0.7500178090929757,
          -1.0692893824433787,
          1.545888380272827,
          1.142288457425649,
          -0.017659765440925113,
          -1.3819278612552899,
          0.6591083941810371,
          -1.2910184463433512,
          0.49047160134505785,
          0.0868716784978796,
          0.5264906152491798,
          0.8752001370885428,
          -0.802201062106272,
          -0.548240146227493,
          0.75385700014162,
          1.2750128980104052,
          -0.7604380655567833,
          1.6141912752790848,
          0.3408325943766589,
          0.061972404079837694,
          0.31593331995861673,
          -0.7225688925855095,
          -1.4653471927013677,
          -0.6278202866249267,
          -1.037057530464572,
          0.04331055200456833,
          -2.083049826474559,
          0.7026695206743485,
          1.2692689153650385,
          0.30860074239785196,
          -1.425488987748601,
          1.2219206269464116,
          0.18895286201922742,
          1.3489010848858007,
          -1.3402715263587002,
          -1.4179989042827406,
          0.75385700014162,
          -0.5369108717129883,
          -0.5918012727208041,
          0.061972404079837694,
          0.35025707729444133,
          1.2370370633862322,
          0.621239221209763,
          0.2650396159045409,
          -1.0674912524995557,
          1.8794814656723695,
          0.22518141095177416,
          -0.5064771496780043,
          -0.06500805385955188,
          1.62552054979359,
          1.502327253779516,
          -0.19198851179894136,
          -0.2146470608279508,
          -0.8931104770182109,
          -0.5008398286855371,
          -0.14464022338031438,
          -1.4179989042827408,
          -0.03632161751619409,
          1.545888380272827,
          -2.039488699981247,
          0.6591083941810371,
          -0.6808058960360204,
          0.35025707729444133,
          -0.9460960864293048,
          1.62552054979359,
          -1.3402715263587002,
          1.009722707617121,
          -1.956069368535169,
          0.9679597110676323,
          1.7998492961516066,
          1.2219206269464116,
          -0.7225688925855095,
          0.8031100801569689,
          0.8883275415468698,
          -0.9840719210534778,
          0.4791423268305533,
          -0.9366716035115226,
          -0.5804719982062994,
          0.8031100801569689,
          -1.6472180516485735,
          -0.46860797670673005,
          -0.5804719982062994,
          -1.4728893052905567,
          -1.2910184463433512,
          -1.5998697632299466,
          -0.7604380655567834,
          1.142288457425649,
          1.39066408143529,
          1.0684002705502524,
          1.009722707617121,
          -2.083049826474559,
          1.2257077888717274,
          0.7064566825996641,
          1.2692689153650385,
          0.8409792531282427,
          0.5321279362416472,
          -0.42125968828810323,
          -0.2829499558342091,
          0.8827422496777317,
          1.2692689153650385,
          -1.1166376708620058,
          0.4469104748517465,
          -1.1962698403827683,
          0.8883275415468698,
          0.7444325172238373,
          0.34461975630197456,
          1.0570709960357476,
          -1.556308636736635,
          0.4791423268305533,
          -1.4653471927013677
         ],
         "yaxis": "y"
        },
        {
         "line": {
          "color": "black",
          "dash": "dash"
         },
         "mode": "lines",
         "name": "Hyperplane",
         "type": "scatter",
         "x": [
          -2.232271482306725,
          -2.1855423472199815,
          -2.1388132121332375,
          -2.092084077046494,
          -2.04535494195975,
          -1.9986258068730063,
          -1.9518966717862625,
          -1.9051675366995187,
          -1.8584384016127748,
          -1.811709266526031,
          -1.7649801314392874,
          -1.7182509963525434,
          -1.6715218612657998,
          -1.624792726179056,
          -1.5780635910923122,
          -1.5313344560055686,
          -1.4846053209188246,
          -1.437876185832081,
          -1.3911470507453372,
          -1.3444179156585934,
          -1.2976887805718496,
          -1.2509596454851057,
          -1.204230510398362,
          -1.1575013753116183,
          -1.1107722402248745,
          -1.0640431051381307,
          -1.017313970051387,
          -0.9705848349646431,
          -0.9238556998778993,
          -0.8771265647911557,
          -0.8303974297044119,
          -0.7836682946176681,
          -0.7369391595309243,
          -0.6902100244441804,
          -0.6434808893574366,
          -0.5967517542706928,
          -0.5500226191839492,
          -0.5032934840972054,
          -0.4565643490104616,
          -0.4098352139237178,
          -0.363106078836974,
          -0.3163769437502302,
          -0.2696478086634866,
          -0.22291867357674278,
          -0.17618953848999874,
          -0.12946040340325515,
          -0.08273126831651156,
          -0.03600213322976753,
          0.01072700185697606,
          0.05745613694372009,
          0.10418527203046368,
          0.15091440711720772,
          0.1976435422039513,
          0.2443726772906949,
          0.29110181237743893,
          0.3378309474641825,
          0.38456008255092655,
          0.43128921763767014,
          0.47801835272441373,
          0.5247474878111578,
          0.5714766228979014,
          0.6182057579846454,
          0.664934893071389,
          0.711664028158133,
          0.7583931632448766,
          0.8051222983316202,
          0.8518514334183642,
          0.8985805685051078,
          0.9453097035918518,
          0.9920388386785954,
          1.0387679737653395,
          1.085497108852083,
          1.1322262439388266,
          1.1789553790255707,
          1.2256845141123143,
          1.2724136491990583,
          1.319142784285802,
          1.3658719193725455,
          1.4126010544592895,
          1.459330189546033,
          1.5060593246327771,
          1.5527884597195207,
          1.5995175948062648,
          1.6462467298930084,
          1.692975864979752,
          1.739705000066496,
          1.7864341351532396,
          1.8331632702399832,
          1.8798924053267276,
          1.9266215404134712,
          1.9733506755002148,
          2.0200798105869584,
          2.066808945673702,
          2.1135380807604465,
          2.16026721584719,
          2.2069963509339336,
          2.2537254860206772,
          2.300454621107421,
          2.3471837561941653,
          2.393912891280909
         ],
         "y": [
          -434.2687862916156,
          -434.2687862916156,
          -434.2687862916156,
          -434.2687862916156,
          -434.2687862916156,
          -434.2687862916156,
          -434.2687862916156,
          -434.2687862916156,
          -434.2687862916156,
          -434.2687862916156,
          -434.2687862916156,
          -434.2687862916156,
          -434.2687862916156,
          -434.2687862916156,
          -434.2687862916156,
          -434.2687862916156,
          -434.2687862916156,
          -434.2687862916156,
          -434.2687862916156,
          -434.2687862916156,
          -434.2687862916156,
          -434.2687862916156,
          -434.2687862916156,
          -434.2687862916156,
          -434.2687862916156,
          -434.2687862916156,
          -434.2687862916156,
          -434.2687862916156,
          -434.2687862916156,
          -434.2687862916156,
          -434.2687862916156,
          -434.2687862916156,
          -434.2687862916156,
          -434.2687862916156,
          -434.2687862916156,
          -434.2687862916156,
          -434.2687862916156,
          -434.2687862916156,
          -434.2687862916156,
          -434.2687862916156,
          -434.2687862916156,
          -434.2687862916156,
          -434.2687862916156,
          -434.2687862916156,
          -434.2687862916156,
          -434.2687862916156,
          -434.2687862916156,
          -434.2687862916156,
          -434.2687862916156,
          -434.2687862916156,
          -434.2687862916156,
          -434.2687862916156,
          -434.2687862916156,
          -434.2687862916156,
          -434.2687862916156,
          -434.2687862916156,
          -434.2687862916156,
          -434.2687862916156,
          -434.2687862916156,
          -434.2687862916156,
          -434.2687862916156,
          -434.2687862916156,
          -434.2687862916156,
          -434.2687862916156,
          -434.2687862916156,
          -434.2687862916156,
          -434.2687862916156,
          -434.2687862916156,
          -434.2687862916156,
          -434.2687862916156,
          -434.2687862916156,
          -434.2687862916156,
          -434.2687862916156,
          -434.2687862916156,
          -434.2687862916156,
          -434.2687862916156,
          -434.2687862916156,
          -434.2687862916156,
          -434.2687862916156,
          -434.2687862916156,
          -434.2687862916156,
          -434.2687862916156,
          -434.2687862916156,
          -434.2687862916156,
          -434.2687862916156,
          -434.2687862916156,
          -434.2687862916156,
          -434.2687862916156,
          -434.2687862916156,
          -434.2687862916156,
          -434.2687862916156,
          -434.2687862916156,
          -434.2687862916156,
          -434.2687862916156,
          -434.2687862916156,
          -434.2687862916156,
          -434.2687862916156,
          -434.2687862916156,
          -434.2687862916156,
          -434.2687862916156
         ]
        }
       ],
       "layout": {
        "coloraxis": {
         "colorbar": {
          "title": {
           "text": "Status Kesesuaian"
          }
         },
         "colorscale": [
          [
           0,
           "#0d0887"
          ],
          [
           0.1111111111111111,
           "#46039f"
          ],
          [
           0.2222222222222222,
           "#7201a8"
          ],
          [
           0.3333333333333333,
           "#9c179e"
          ],
          [
           0.4444444444444444,
           "#bd3786"
          ],
          [
           0.5555555555555556,
           "#d8576b"
          ],
          [
           0.6666666666666666,
           "#ed7953"
          ],
          [
           0.7777777777777778,
           "#fb9f3a"
          ],
          [
           0.8888888888888888,
           "#fdca26"
          ],
          [
           1,
           "#f0f921"
          ]
         ]
        },
        "legend": {
         "tracegroupgap": 0
        },
        "template": {
         "data": {
          "bar": [
           {
            "error_x": {
             "color": "#2a3f5f"
            },
            "error_y": {
             "color": "#2a3f5f"
            },
            "marker": {
             "line": {
              "color": "#E5ECF6",
              "width": 0.5
             },
             "pattern": {
              "fillmode": "overlay",
              "size": 10,
              "solidity": 0.2
             }
            },
            "type": "bar"
           }
          ],
          "barpolar": [
           {
            "marker": {
             "line": {
              "color": "#E5ECF6",
              "width": 0.5
             },
             "pattern": {
              "fillmode": "overlay",
              "size": 10,
              "solidity": 0.2
             }
            },
            "type": "barpolar"
           }
          ],
          "carpet": [
           {
            "aaxis": {
             "endlinecolor": "#2a3f5f",
             "gridcolor": "white",
             "linecolor": "white",
             "minorgridcolor": "white",
             "startlinecolor": "#2a3f5f"
            },
            "baxis": {
             "endlinecolor": "#2a3f5f",
             "gridcolor": "white",
             "linecolor": "white",
             "minorgridcolor": "white",
             "startlinecolor": "#2a3f5f"
            },
            "type": "carpet"
           }
          ],
          "choropleth": [
           {
            "colorbar": {
             "outlinewidth": 0,
             "ticks": ""
            },
            "type": "choropleth"
           }
          ],
          "contour": [
           {
            "colorbar": {
             "outlinewidth": 0,
             "ticks": ""
            },
            "colorscale": [
             [
              0,
              "#0d0887"
             ],
             [
              0.1111111111111111,
              "#46039f"
             ],
             [
              0.2222222222222222,
              "#7201a8"
             ],
             [
              0.3333333333333333,
              "#9c179e"
             ],
             [
              0.4444444444444444,
              "#bd3786"
             ],
             [
              0.5555555555555556,
              "#d8576b"
             ],
             [
              0.6666666666666666,
              "#ed7953"
             ],
             [
              0.7777777777777778,
              "#fb9f3a"
             ],
             [
              0.8888888888888888,
              "#fdca26"
             ],
             [
              1,
              "#f0f921"
             ]
            ],
            "type": "contour"
           }
          ],
          "contourcarpet": [
           {
            "colorbar": {
             "outlinewidth": 0,
             "ticks": ""
            },
            "type": "contourcarpet"
           }
          ],
          "heatmap": [
           {
            "colorbar": {
             "outlinewidth": 0,
             "ticks": ""
            },
            "colorscale": [
             [
              0,
              "#0d0887"
             ],
             [
              0.1111111111111111,
              "#46039f"
             ],
             [
              0.2222222222222222,
              "#7201a8"
             ],
             [
              0.3333333333333333,
              "#9c179e"
             ],
             [
              0.4444444444444444,
              "#bd3786"
             ],
             [
              0.5555555555555556,
              "#d8576b"
             ],
             [
              0.6666666666666666,
              "#ed7953"
             ],
             [
              0.7777777777777778,
              "#fb9f3a"
             ],
             [
              0.8888888888888888,
              "#fdca26"
             ],
             [
              1,
              "#f0f921"
             ]
            ],
            "type": "heatmap"
           }
          ],
          "heatmapgl": [
           {
            "colorbar": {
             "outlinewidth": 0,
             "ticks": ""
            },
            "colorscale": [
             [
              0,
              "#0d0887"
             ],
             [
              0.1111111111111111,
              "#46039f"
             ],
             [
              0.2222222222222222,
              "#7201a8"
             ],
             [
              0.3333333333333333,
              "#9c179e"
             ],
             [
              0.4444444444444444,
              "#bd3786"
             ],
             [
              0.5555555555555556,
              "#d8576b"
             ],
             [
              0.6666666666666666,
              "#ed7953"
             ],
             [
              0.7777777777777778,
              "#fb9f3a"
             ],
             [
              0.8888888888888888,
              "#fdca26"
             ],
             [
              1,
              "#f0f921"
             ]
            ],
            "type": "heatmapgl"
           }
          ],
          "histogram": [
           {
            "marker": {
             "pattern": {
              "fillmode": "overlay",
              "size": 10,
              "solidity": 0.2
             }
            },
            "type": "histogram"
           }
          ],
          "histogram2d": [
           {
            "colorbar": {
             "outlinewidth": 0,
             "ticks": ""
            },
            "colorscale": [
             [
              0,
              "#0d0887"
             ],
             [
              0.1111111111111111,
              "#46039f"
             ],
             [
              0.2222222222222222,
              "#7201a8"
             ],
             [
              0.3333333333333333,
              "#9c179e"
             ],
             [
              0.4444444444444444,
              "#bd3786"
             ],
             [
              0.5555555555555556,
              "#d8576b"
             ],
             [
              0.6666666666666666,
              "#ed7953"
             ],
             [
              0.7777777777777778,
              "#fb9f3a"
             ],
             [
              0.8888888888888888,
              "#fdca26"
             ],
             [
              1,
              "#f0f921"
             ]
            ],
            "type": "histogram2d"
           }
          ],
          "histogram2dcontour": [
           {
            "colorbar": {
             "outlinewidth": 0,
             "ticks": ""
            },
            "colorscale": [
             [
              0,
              "#0d0887"
             ],
             [
              0.1111111111111111,
              "#46039f"
             ],
             [
              0.2222222222222222,
              "#7201a8"
             ],
             [
              0.3333333333333333,
              "#9c179e"
             ],
             [
              0.4444444444444444,
              "#bd3786"
             ],
             [
              0.5555555555555556,
              "#d8576b"
             ],
             [
              0.6666666666666666,
              "#ed7953"
             ],
             [
              0.7777777777777778,
              "#fb9f3a"
             ],
             [
              0.8888888888888888,
              "#fdca26"
             ],
             [
              1,
              "#f0f921"
             ]
            ],
            "type": "histogram2dcontour"
           }
          ],
          "mesh3d": [
           {
            "colorbar": {
             "outlinewidth": 0,
             "ticks": ""
            },
            "type": "mesh3d"
           }
          ],
          "parcoords": [
           {
            "line": {
             "colorbar": {
              "outlinewidth": 0,
              "ticks": ""
             }
            },
            "type": "parcoords"
           }
          ],
          "pie": [
           {
            "automargin": true,
            "type": "pie"
           }
          ],
          "scatter": [
           {
            "fillpattern": {
             "fillmode": "overlay",
             "size": 10,
             "solidity": 0.2
            },
            "type": "scatter"
           }
          ],
          "scatter3d": [
           {
            "line": {
             "colorbar": {
              "outlinewidth": 0,
              "ticks": ""
             }
            },
            "marker": {
             "colorbar": {
              "outlinewidth": 0,
              "ticks": ""
             }
            },
            "type": "scatter3d"
           }
          ],
          "scattercarpet": [
           {
            "marker": {
             "colorbar": {
              "outlinewidth": 0,
              "ticks": ""
             }
            },
            "type": "scattercarpet"
           }
          ],
          "scattergeo": [
           {
            "marker": {
             "colorbar": {
              "outlinewidth": 0,
              "ticks": ""
             }
            },
            "type": "scattergeo"
           }
          ],
          "scattergl": [
           {
            "marker": {
             "colorbar": {
              "outlinewidth": 0,
              "ticks": ""
             }
            },
            "type": "scattergl"
           }
          ],
          "scattermapbox": [
           {
            "marker": {
             "colorbar": {
              "outlinewidth": 0,
              "ticks": ""
             }
            },
            "type": "scattermapbox"
           }
          ],
          "scatterpolar": [
           {
            "marker": {
             "colorbar": {
              "outlinewidth": 0,
              "ticks": ""
             }
            },
            "type": "scatterpolar"
           }
          ],
          "scatterpolargl": [
           {
            "marker": {
             "colorbar": {
              "outlinewidth": 0,
              "ticks": ""
             }
            },
            "type": "scatterpolargl"
           }
          ],
          "scatterternary": [
           {
            "marker": {
             "colorbar": {
              "outlinewidth": 0,
              "ticks": ""
             }
            },
            "type": "scatterternary"
           }
          ],
          "surface": [
           {
            "colorbar": {
             "outlinewidth": 0,
             "ticks": ""
            },
            "colorscale": [
             [
              0,
              "#0d0887"
             ],
             [
              0.1111111111111111,
              "#46039f"
             ],
             [
              0.2222222222222222,
              "#7201a8"
             ],
             [
              0.3333333333333333,
              "#9c179e"
             ],
             [
              0.4444444444444444,
              "#bd3786"
             ],
             [
              0.5555555555555556,
              "#d8576b"
             ],
             [
              0.6666666666666666,
              "#ed7953"
             ],
             [
              0.7777777777777778,
              "#fb9f3a"
             ],
             [
              0.8888888888888888,
              "#fdca26"
             ],
             [
              1,
              "#f0f921"
             ]
            ],
            "type": "surface"
           }
          ],
          "table": [
           {
            "cells": {
             "fill": {
              "color": "#EBF0F8"
             },
             "line": {
              "color": "white"
             }
            },
            "header": {
             "fill": {
              "color": "#C8D4E3"
             },
             "line": {
              "color": "white"
             }
            },
            "type": "table"
           }
          ]
         },
         "layout": {
          "annotationdefaults": {
           "arrowcolor": "#2a3f5f",
           "arrowhead": 0,
           "arrowwidth": 1
          },
          "autotypenumbers": "strict",
          "coloraxis": {
           "colorbar": {
            "outlinewidth": 0,
            "ticks": ""
           }
          },
          "colorscale": {
           "diverging": [
            [
             0,
             "#8e0152"
            ],
            [
             0.1,
             "#c51b7d"
            ],
            [
             0.2,
             "#de77ae"
            ],
            [
             0.3,
             "#f1b6da"
            ],
            [
             0.4,
             "#fde0ef"
            ],
            [
             0.5,
             "#f7f7f7"
            ],
            [
             0.6,
             "#e6f5d0"
            ],
            [
             0.7,
             "#b8e186"
            ],
            [
             0.8,
             "#7fbc41"
            ],
            [
             0.9,
             "#4d9221"
            ],
            [
             1,
             "#276419"
            ]
           ],
           "sequential": [
            [
             0,
             "#0d0887"
            ],
            [
             0.1111111111111111,
             "#46039f"
            ],
            [
             0.2222222222222222,
             "#7201a8"
            ],
            [
             0.3333333333333333,
             "#9c179e"
            ],
            [
             0.4444444444444444,
             "#bd3786"
            ],
            [
             0.5555555555555556,
             "#d8576b"
            ],
            [
             0.6666666666666666,
             "#ed7953"
            ],
            [
             0.7777777777777778,
             "#fb9f3a"
            ],
            [
             0.8888888888888888,
             "#fdca26"
            ],
            [
             1,
             "#f0f921"
            ]
           ],
           "sequentialminus": [
            [
             0,
             "#0d0887"
            ],
            [
             0.1111111111111111,
             "#46039f"
            ],
            [
             0.2222222222222222,
             "#7201a8"
            ],
            [
             0.3333333333333333,
             "#9c179e"
            ],
            [
             0.4444444444444444,
             "#bd3786"
            ],
            [
             0.5555555555555556,
             "#d8576b"
            ],
            [
             0.6666666666666666,
             "#ed7953"
            ],
            [
             0.7777777777777778,
             "#fb9f3a"
            ],
            [
             0.8888888888888888,
             "#fdca26"
            ],
            [
             1,
             "#f0f921"
            ]
           ]
          },
          "colorway": [
           "#636efa",
           "#EF553B",
           "#00cc96",
           "#ab63fa",
           "#FFA15A",
           "#19d3f3",
           "#FF6692",
           "#B6E880",
           "#FF97FF",
           "#FECB52"
          ],
          "font": {
           "color": "#2a3f5f"
          },
          "geo": {
           "bgcolor": "white",
           "lakecolor": "white",
           "landcolor": "#E5ECF6",
           "showlakes": true,
           "showland": true,
           "subunitcolor": "white"
          },
          "hoverlabel": {
           "align": "left"
          },
          "hovermode": "closest",
          "mapbox": {
           "style": "light"
          },
          "paper_bgcolor": "white",
          "plot_bgcolor": "#E5ECF6",
          "polar": {
           "angularaxis": {
            "gridcolor": "white",
            "linecolor": "white",
            "ticks": ""
           },
           "bgcolor": "#E5ECF6",
           "radialaxis": {
            "gridcolor": "white",
            "linecolor": "white",
            "ticks": ""
           }
          },
          "scene": {
           "xaxis": {
            "backgroundcolor": "#E5ECF6",
            "gridcolor": "white",
            "gridwidth": 2,
            "linecolor": "white",
            "showbackground": true,
            "ticks": "",
            "zerolinecolor": "white"
           },
           "yaxis": {
            "backgroundcolor": "#E5ECF6",
            "gridcolor": "white",
            "gridwidth": 2,
            "linecolor": "white",
            "showbackground": true,
            "ticks": "",
            "zerolinecolor": "white"
           },
           "zaxis": {
            "backgroundcolor": "#E5ECF6",
            "gridcolor": "white",
            "gridwidth": 2,
            "linecolor": "white",
            "showbackground": true,
            "ticks": "",
            "zerolinecolor": "white"
           }
          },
          "shapedefaults": {
           "line": {
            "color": "#2a3f5f"
           }
          },
          "ternary": {
           "aaxis": {
            "gridcolor": "white",
            "linecolor": "white",
            "ticks": ""
           },
           "baxis": {
            "gridcolor": "white",
            "linecolor": "white",
            "ticks": ""
           },
           "bgcolor": "#E5ECF6",
           "caxis": {
            "gridcolor": "white",
            "linecolor": "white",
            "ticks": ""
           }
          },
          "title": {
           "x": 0.05
          },
          "xaxis": {
           "automargin": true,
           "gridcolor": "white",
           "linecolor": "white",
           "ticks": "",
           "title": {
            "standoff": 15
           },
           "zerolinecolor": "white",
           "zerolinewidth": 2
          },
          "yaxis": {
           "automargin": true,
           "gridcolor": "white",
           "linecolor": "white",
           "ticks": "",
           "title": {
            "standoff": 15
           },
           "zerolinecolor": "white",
           "zerolinewidth": 2
          }
         }
        },
        "title": {
         "text": "Visualisasi Hasil Pelatihan SVM"
        },
        "xaxis": {
         "anchor": "y",
         "domain": [
          0,
          1
         ],
         "title": {
          "text": "PCA1"
         }
        },
        "yaxis": {
         "anchor": "x",
         "domain": [
          0,
          1
         ],
         "title": {
          "text": "PCA2"
         }
        }
       }
      }
     },
     "metadata": {},
     "output_type": "display_data"
    }
   ],
   "source": [
    "import plotly.express as px\n",
    "import plotly.graph_objects as go\n",
    "from sklearn.decomposition import PCA\n",
    "\n",
    "# Fungsi untuk mendapatkan nilai decision function\n",
    "decision_function = svm_model.decision_function(X_train)\n",
    "\n",
    "# Memilih nilai decision function dari kelas yang paling positif\n",
    "decision_function = np.max(decision_function, axis=1)\n",
    "\n",
    "# Menambahkan kolom 'Decision Value' dan 'Nama' ke data training\n",
    "train_data = pd.DataFrame(X_train, columns=X.columns)\n",
    "print(\"Dimensi X_train:\", X_train.shape)\n",
    "print(\"Dimensi decision_function:\", decision_function.shape)\n",
    "\n",
    "train_data['Decision Value'] = decision_function\n",
    "train_data['Status Kesesuaian'] = y_train.values\n",
    "train_data['Nama'] = data.iloc[y_train.index]['Nama'].values  # Menggunakan indeks y_train\n",
    "\n",
    "# PCA untuk mengurangi dimensi data menjadi 2D\n",
    "pca = PCA(n_components=2)\n",
    "principal_components = pca.fit_transform(X_train)\n",
    "\n",
    "train_data['PCA1'] = principal_components[:, 0]\n",
    "train_data['PCA2'] = principal_components[:, 1]\n",
    "\n",
    "print(\"Data untuk visualisasi:\")\n",
    "print(train_data[['PCA1', 'PCA2', 'Decision Value', 'Status Kesesuaian', 'Nama']].head(), \"\\n\")\n",
    "\n",
    "# Plot dengan Plotly\n",
    "fig = px.scatter(\n",
    "    train_data, x='PCA1', y='PCA2', color='Status Kesesuaian', hover_data=['Nama', 'Decision Value'],\n",
    "    title='Visualisasi Hasil Pelatihan SVM'\n",
    ")\n",
    "\n",
    "# Menambahkan hyperplane\n",
    "x_vals = np.linspace(train_data['PCA1'].min(), train_data['PCA1'].max(), 100)\n",
    "y_vals = -(svm_model.coef_[0][0] * x_vals + svm_model.intercept_[0]) / svm_model.coef_[0][1]\n",
    "\n",
    "fig.add_trace(go.Scatter(x=x_vals, y=y_vals, mode='lines', name='Hyperplane', line=dict(color='black', dash='dash')))\n",
    "\n",
    "# Menampilkan plot\n",
    "fig.show()\n"
   ]
  }
 ],
 "metadata": {
  "kernelspec": {
   "display_name": "base",
   "language": "python",
   "name": "python3"
  },
  "language_info": {
   "codemirror_mode": {
    "name": "ipython",
    "version": 3
   },
   "file_extension": ".py",
   "mimetype": "text/x-python",
   "name": "python",
   "nbconvert_exporter": "python",
   "pygments_lexer": "ipython3",
   "version": "3.11.5"
  }
 },
 "nbformat": 4,
 "nbformat_minor": 2
}
