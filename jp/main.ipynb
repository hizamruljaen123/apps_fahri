{
 "cells": [
  {
   "cell_type": "code",
   "execution_count": 11,
   "metadata": {},
   "outputs": [
    {
     "name": "stdout",
     "output_type": "stream",
     "text": [
      "Data Loaded:\n"
     ]
    },
    {
     "data": {
      "text/html": [
       "<div>\n",
       "<style scoped>\n",
       "    .dataframe tbody tr th:only-of-type {\n",
       "        vertical-align: middle;\n",
       "    }\n",
       "\n",
       "    .dataframe tbody tr th {\n",
       "        vertical-align: top;\n",
       "    }\n",
       "\n",
       "    .dataframe thead th {\n",
       "        text-align: right;\n",
       "    }\n",
       "</style>\n",
       "<table border=\"1\" class=\"dataframe\">\n",
       "  <thead>\n",
       "    <tr style=\"text-align: right;\">\n",
       "      <th></th>\n",
       "      <th>Nama</th>\n",
       "      <th>L/P</th>\n",
       "      <th>Penghasilan</th>\n",
       "      <th>Status Ekonomi</th>\n",
       "      <th>Jumlah Tanggungan</th>\n",
       "      <th>Layak PIP</th>\n",
       "      <th>Alasan Layak PIP</th>\n",
       "      <th>Tahun Penerimaan</th>\n",
       "      <th>Jumlah Bantuan</th>\n",
       "      <th>Status Bantuan</th>\n",
       "      <th>Status Kesesuaian</th>\n",
       "    </tr>\n",
       "  </thead>\n",
       "  <tbody>\n",
       "    <tr>\n",
       "      <th>0</th>\n",
       "      <td>Aam Garot Hs</td>\n",
       "      <td>P</td>\n",
       "      <td>Rp. 1,000,000 - Rp. 1,999,999</td>\n",
       "      <td>MISKIN</td>\n",
       "      <td>1</td>\n",
       "      <td>Tidak</td>\n",
       "      <td>NaN</td>\n",
       "      <td>2023</td>\n",
       "      <td>0</td>\n",
       "      <td>Diterima</td>\n",
       "      <td>Tidak Layak</td>\n",
       "    </tr>\n",
       "    <tr>\n",
       "      <th>1</th>\n",
       "      <td>Aan Priatna</td>\n",
       "      <td>P</td>\n",
       "      <td>Rp. 500,000 - Rp. 999,999</td>\n",
       "      <td>CUKUP</td>\n",
       "      <td>2</td>\n",
       "      <td>Tidak</td>\n",
       "      <td>NaN</td>\n",
       "      <td>2023</td>\n",
       "      <td>1500000</td>\n",
       "      <td>Diterima</td>\n",
       "      <td>Tidak Layak</td>\n",
       "    </tr>\n",
       "    <tr>\n",
       "      <th>2</th>\n",
       "      <td>Abd Kahar</td>\n",
       "      <td>P</td>\n",
       "      <td>Rp. 500,000 - Rp. 999,999</td>\n",
       "      <td>MISKIN</td>\n",
       "      <td>5</td>\n",
       "      <td>Ya</td>\n",
       "      <td>Siswa Miskin/Rentan Miskin</td>\n",
       "      <td>2023</td>\n",
       "      <td>1500000</td>\n",
       "      <td>Diterima</td>\n",
       "      <td>Sesuai</td>\n",
       "    </tr>\n",
       "    <tr>\n",
       "      <th>3</th>\n",
       "      <td>Abd Kahar</td>\n",
       "      <td>P</td>\n",
       "      <td>Rp. 1,000,000 - Rp. 1,999,999</td>\n",
       "      <td>CUKUP</td>\n",
       "      <td>4</td>\n",
       "      <td>Tidak</td>\n",
       "      <td>NaN</td>\n",
       "      <td>2023</td>\n",
       "      <td>1500000</td>\n",
       "      <td>Diterima</td>\n",
       "      <td>Tidak Layak</td>\n",
       "    </tr>\n",
       "    <tr>\n",
       "      <th>4</th>\n",
       "      <td>Abd Manap</td>\n",
       "      <td>P</td>\n",
       "      <td>Rp. 500,000 - Rp. 999,999</td>\n",
       "      <td>SANGAT MISKIN</td>\n",
       "      <td>3</td>\n",
       "      <td>Ya</td>\n",
       "      <td>Siswa Miskin/Rentan Miskin</td>\n",
       "      <td>2023</td>\n",
       "      <td>0</td>\n",
       "      <td>Diproses</td>\n",
       "      <td>Sesuai</td>\n",
       "    </tr>\n",
       "    <tr>\n",
       "      <th>...</th>\n",
       "      <td>...</td>\n",
       "      <td>...</td>\n",
       "      <td>...</td>\n",
       "      <td>...</td>\n",
       "      <td>...</td>\n",
       "      <td>...</td>\n",
       "      <td>...</td>\n",
       "      <td>...</td>\n",
       "      <td>...</td>\n",
       "      <td>...</td>\n",
       "      <td>...</td>\n",
       "    </tr>\n",
       "    <tr>\n",
       "      <th>630</th>\n",
       "      <td>Zulfiadi</td>\n",
       "      <td>P</td>\n",
       "      <td>Rp. 500,000 - Rp. 999,999</td>\n",
       "      <td>MISKIN</td>\n",
       "      <td>1</td>\n",
       "      <td>Tidak</td>\n",
       "      <td>NaN</td>\n",
       "      <td>2023</td>\n",
       "      <td>0</td>\n",
       "      <td>Diproses</td>\n",
       "      <td>Tidak Layak</td>\n",
       "    </tr>\n",
       "    <tr>\n",
       "      <th>631</th>\n",
       "      <td>Zulfian</td>\n",
       "      <td>P</td>\n",
       "      <td>Rp. 1,000,000 - Rp. 1,999,999</td>\n",
       "      <td>CUKUP</td>\n",
       "      <td>0</td>\n",
       "      <td>Tidak</td>\n",
       "      <td>NaN</td>\n",
       "      <td>2023</td>\n",
       "      <td>0</td>\n",
       "      <td>Diterima</td>\n",
       "      <td>Tidak Layak</td>\n",
       "    </tr>\n",
       "    <tr>\n",
       "      <th>632</th>\n",
       "      <td>Zulkarnain</td>\n",
       "      <td>P</td>\n",
       "      <td>Rp. 500,000 - Rp. 999,999</td>\n",
       "      <td>CUKUP</td>\n",
       "      <td>3</td>\n",
       "      <td>Tidak</td>\n",
       "      <td>NaN</td>\n",
       "      <td>2023</td>\n",
       "      <td>0</td>\n",
       "      <td>Diterima</td>\n",
       "      <td>Tidak Layak</td>\n",
       "    </tr>\n",
       "    <tr>\n",
       "      <th>633</th>\n",
       "      <td>Zulkarnain Nasution</td>\n",
       "      <td>P</td>\n",
       "      <td>Rp. 500,000 - Rp. 999,999</td>\n",
       "      <td>CUKUP</td>\n",
       "      <td>4</td>\n",
       "      <td>Tidak</td>\n",
       "      <td>NaN</td>\n",
       "      <td>2023</td>\n",
       "      <td>0</td>\n",
       "      <td>Diproses</td>\n",
       "      <td>Tidak Layak</td>\n",
       "    </tr>\n",
       "    <tr>\n",
       "      <th>634</th>\n",
       "      <td>Zulkifli</td>\n",
       "      <td>P</td>\n",
       "      <td>Rp. 1,000,000 - Rp. 1,999,999</td>\n",
       "      <td>MISKIN</td>\n",
       "      <td>1</td>\n",
       "      <td>Tidak</td>\n",
       "      <td>NaN</td>\n",
       "      <td>2023</td>\n",
       "      <td>1500000</td>\n",
       "      <td>Diproses</td>\n",
       "      <td>Tidak Layak</td>\n",
       "    </tr>\n",
       "  </tbody>\n",
       "</table>\n",
       "<p>635 rows × 11 columns</p>\n",
       "</div>"
      ],
      "text/plain": [
       "                    Nama L/P                    Penghasilan Status Ekonomi  \\\n",
       "0           Aam Garot Hs   P  Rp. 1,000,000 - Rp. 1,999,999         MISKIN   \n",
       "1            Aan Priatna   P      Rp. 500,000 - Rp. 999,999          CUKUP   \n",
       "2              Abd Kahar   P      Rp. 500,000 - Rp. 999,999         MISKIN   \n",
       "3              Abd Kahar   P  Rp. 1,000,000 - Rp. 1,999,999          CUKUP   \n",
       "4              Abd Manap   P      Rp. 500,000 - Rp. 999,999  SANGAT MISKIN   \n",
       "..                   ...  ..                            ...            ...   \n",
       "630             Zulfiadi   P      Rp. 500,000 - Rp. 999,999         MISKIN   \n",
       "631              Zulfian   P  Rp. 1,000,000 - Rp. 1,999,999          CUKUP   \n",
       "632           Zulkarnain   P      Rp. 500,000 - Rp. 999,999          CUKUP   \n",
       "633  Zulkarnain Nasution   P      Rp. 500,000 - Rp. 999,999          CUKUP   \n",
       "634             Zulkifli   P  Rp. 1,000,000 - Rp. 1,999,999         MISKIN   \n",
       "\n",
       "     Jumlah Tanggungan Layak PIP            Alasan Layak PIP  \\\n",
       "0                    1     Tidak                         NaN   \n",
       "1                    2     Tidak                         NaN   \n",
       "2                    5        Ya  Siswa Miskin/Rentan Miskin   \n",
       "3                    4     Tidak                         NaN   \n",
       "4                    3        Ya  Siswa Miskin/Rentan Miskin   \n",
       "..                 ...       ...                         ...   \n",
       "630                  1     Tidak                         NaN   \n",
       "631                  0     Tidak                         NaN   \n",
       "632                  3     Tidak                         NaN   \n",
       "633                  4     Tidak                         NaN   \n",
       "634                  1     Tidak                         NaN   \n",
       "\n",
       "     Tahun Penerimaan  Jumlah Bantuan Status Bantuan Status Kesesuaian  \n",
       "0                2023               0       Diterima       Tidak Layak  \n",
       "1                2023         1500000       Diterima       Tidak Layak  \n",
       "2                2023         1500000       Diterima            Sesuai  \n",
       "3                2023         1500000       Diterima       Tidak Layak  \n",
       "4                2023               0       Diproses            Sesuai  \n",
       "..                ...             ...            ...               ...  \n",
       "630              2023               0       Diproses       Tidak Layak  \n",
       "631              2023               0       Diterima       Tidak Layak  \n",
       "632              2023               0       Diterima       Tidak Layak  \n",
       "633              2023               0       Diproses       Tidak Layak  \n",
       "634              2023         1500000       Diproses       Tidak Layak  \n",
       "\n",
       "[635 rows x 11 columns]"
      ]
     },
     "metadata": {},
     "output_type": "display_data"
    }
   ],
   "source": [
    "# Load Library atau modul untuk SVM\n",
    "import pandas as pd\n",
    "import numpy as np\n",
    "from sklearn.model_selection import train_test_split\n",
    "from sklearn.preprocessing import LabelEncoder, StandardScaler\n",
    "from sklearn.svm import SVC\n",
    "from sklearn.metrics import classification_report, accuracy_score\n",
    "import joblib\n",
    "import os\n",
    "from IPython.display import display, HTML\n",
    "\n",
    "# Memuat data data latih dan menampilkan data latih\n",
    "data_file_path = \"../data_latih.xlsx\"\n",
    "data = pd.read_excel(data_file_path)\n",
    "print(\"Data Loaded:\")\n",
    "display(data)\n",
    "\n",
    "\n"
   ]
  },
  {
   "cell_type": "code",
   "execution_count": 12,
   "metadata": {},
   "outputs": [
    {
     "name": "stdout",
     "output_type": "stream",
     "text": [
      "Nilai yang hilang diisi:\n"
     ]
    },
    {
     "data": {
      "text/html": [
       "<div>\n",
       "<style scoped>\n",
       "    .dataframe tbody tr th:only-of-type {\n",
       "        vertical-align: middle;\n",
       "    }\n",
       "\n",
       "    .dataframe tbody tr th {\n",
       "        vertical-align: top;\n",
       "    }\n",
       "\n",
       "    .dataframe thead th {\n",
       "        text-align: right;\n",
       "    }\n",
       "</style>\n",
       "<table border=\"1\" class=\"dataframe\">\n",
       "  <thead>\n",
       "    <tr style=\"text-align: right;\">\n",
       "      <th></th>\n",
       "      <th>Nama</th>\n",
       "      <th>L/P</th>\n",
       "      <th>Penghasilan</th>\n",
       "      <th>Status Ekonomi</th>\n",
       "      <th>Jumlah Tanggungan</th>\n",
       "      <th>Layak PIP</th>\n",
       "      <th>Alasan Layak PIP</th>\n",
       "      <th>Tahun Penerimaan</th>\n",
       "      <th>Jumlah Bantuan</th>\n",
       "      <th>Status Bantuan</th>\n",
       "      <th>Status Kesesuaian</th>\n",
       "    </tr>\n",
       "  </thead>\n",
       "  <tbody>\n",
       "    <tr>\n",
       "      <th>0</th>\n",
       "      <td>Aam Garot Hs</td>\n",
       "      <td>P</td>\n",
       "      <td>Rp. 1,000,000 - Rp. 1,999,999</td>\n",
       "      <td>MISKIN</td>\n",
       "      <td>1</td>\n",
       "      <td>Tidak</td>\n",
       "      <td>Tidak Layak</td>\n",
       "      <td>2023</td>\n",
       "      <td>0</td>\n",
       "      <td>Diterima</td>\n",
       "      <td>Tidak Layak</td>\n",
       "    </tr>\n",
       "    <tr>\n",
       "      <th>1</th>\n",
       "      <td>Aan Priatna</td>\n",
       "      <td>P</td>\n",
       "      <td>Rp. 500,000 - Rp. 999,999</td>\n",
       "      <td>CUKUP</td>\n",
       "      <td>2</td>\n",
       "      <td>Tidak</td>\n",
       "      <td>Tidak Layak</td>\n",
       "      <td>2023</td>\n",
       "      <td>1500000</td>\n",
       "      <td>Diterima</td>\n",
       "      <td>Tidak Layak</td>\n",
       "    </tr>\n",
       "    <tr>\n",
       "      <th>2</th>\n",
       "      <td>Abd Kahar</td>\n",
       "      <td>P</td>\n",
       "      <td>Rp. 500,000 - Rp. 999,999</td>\n",
       "      <td>MISKIN</td>\n",
       "      <td>5</td>\n",
       "      <td>Ya</td>\n",
       "      <td>Siswa Miskin/Rentan Miskin</td>\n",
       "      <td>2023</td>\n",
       "      <td>1500000</td>\n",
       "      <td>Diterima</td>\n",
       "      <td>Sesuai</td>\n",
       "    </tr>\n",
       "    <tr>\n",
       "      <th>3</th>\n",
       "      <td>Abd Kahar</td>\n",
       "      <td>P</td>\n",
       "      <td>Rp. 1,000,000 - Rp. 1,999,999</td>\n",
       "      <td>CUKUP</td>\n",
       "      <td>4</td>\n",
       "      <td>Tidak</td>\n",
       "      <td>Tidak Layak</td>\n",
       "      <td>2023</td>\n",
       "      <td>1500000</td>\n",
       "      <td>Diterima</td>\n",
       "      <td>Tidak Layak</td>\n",
       "    </tr>\n",
       "    <tr>\n",
       "      <th>4</th>\n",
       "      <td>Abd Manap</td>\n",
       "      <td>P</td>\n",
       "      <td>Rp. 500,000 - Rp. 999,999</td>\n",
       "      <td>SANGAT MISKIN</td>\n",
       "      <td>3</td>\n",
       "      <td>Ya</td>\n",
       "      <td>Siswa Miskin/Rentan Miskin</td>\n",
       "      <td>2023</td>\n",
       "      <td>0</td>\n",
       "      <td>Diproses</td>\n",
       "      <td>Sesuai</td>\n",
       "    </tr>\n",
       "  </tbody>\n",
       "</table>\n",
       "</div>"
      ],
      "text/plain": [
       "           Nama L/P                    Penghasilan Status Ekonomi  \\\n",
       "0  Aam Garot Hs   P  Rp. 1,000,000 - Rp. 1,999,999         MISKIN   \n",
       "1   Aan Priatna   P      Rp. 500,000 - Rp. 999,999          CUKUP   \n",
       "2     Abd Kahar   P      Rp. 500,000 - Rp. 999,999         MISKIN   \n",
       "3     Abd Kahar   P  Rp. 1,000,000 - Rp. 1,999,999          CUKUP   \n",
       "4     Abd Manap   P      Rp. 500,000 - Rp. 999,999  SANGAT MISKIN   \n",
       "\n",
       "   Jumlah Tanggungan Layak PIP            Alasan Layak PIP  Tahun Penerimaan  \\\n",
       "0                  1     Tidak                 Tidak Layak              2023   \n",
       "1                  2     Tidak                 Tidak Layak              2023   \n",
       "2                  5        Ya  Siswa Miskin/Rentan Miskin              2023   \n",
       "3                  4     Tidak                 Tidak Layak              2023   \n",
       "4                  3        Ya  Siswa Miskin/Rentan Miskin              2023   \n",
       "\n",
       "   Jumlah Bantuan Status Bantuan Status Kesesuaian  \n",
       "0               0       Diterima       Tidak Layak  \n",
       "1         1500000       Diterima       Tidak Layak  \n",
       "2         1500000       Diterima            Sesuai  \n",
       "3         1500000       Diterima       Tidak Layak  \n",
       "4               0       Diproses            Sesuai  "
      ]
     },
     "metadata": {},
     "output_type": "display_data"
    }
   ],
   "source": [
    "# Mengisi nilai yang hilang\n",
    "data['Alasan Layak PIP'].fillna('Tidak Layak', inplace=True)\n",
    "print(\"Nilai yang hilang diisi:\")\n",
    "display(data.head())\n",
    "\n"
   ]
  },
  {
   "cell_type": "code",
   "execution_count": 14,
   "metadata": {},
   "outputs": [
    {
     "name": "stdout",
     "output_type": "stream",
     "text": [
      "Data setelah encoding:\n"
     ]
    },
    {
     "data": {
      "text/html": [
       "<div>\n",
       "<style scoped>\n",
       "    .dataframe tbody tr th:only-of-type {\n",
       "        vertical-align: middle;\n",
       "    }\n",
       "\n",
       "    .dataframe tbody tr th {\n",
       "        vertical-align: top;\n",
       "    }\n",
       "\n",
       "    .dataframe thead th {\n",
       "        text-align: right;\n",
       "    }\n",
       "</style>\n",
       "<table border=\"1\" class=\"dataframe\">\n",
       "  <thead>\n",
       "    <tr style=\"text-align: right;\">\n",
       "      <th></th>\n",
       "      <th>Nama</th>\n",
       "      <th>L/P</th>\n",
       "      <th>Penghasilan</th>\n",
       "      <th>Status Ekonomi</th>\n",
       "      <th>Jumlah Tanggungan</th>\n",
       "      <th>Layak PIP</th>\n",
       "      <th>Alasan Layak PIP</th>\n",
       "      <th>Tahun Penerimaan</th>\n",
       "      <th>Jumlah Bantuan</th>\n",
       "      <th>Status Bantuan</th>\n",
       "      <th>Status Kesesuaian</th>\n",
       "    </tr>\n",
       "  </thead>\n",
       "  <tbody>\n",
       "    <tr>\n",
       "      <th>0</th>\n",
       "      <td>Aam Garot Hs</td>\n",
       "      <td>0</td>\n",
       "      <td>1</td>\n",
       "      <td>1</td>\n",
       "      <td>1</td>\n",
       "      <td>0</td>\n",
       "      <td>1</td>\n",
       "      <td>2023</td>\n",
       "      <td>0</td>\n",
       "      <td>1</td>\n",
       "      <td>1</td>\n",
       "    </tr>\n",
       "    <tr>\n",
       "      <th>1</th>\n",
       "      <td>Aan Priatna</td>\n",
       "      <td>0</td>\n",
       "      <td>3</td>\n",
       "      <td>0</td>\n",
       "      <td>2</td>\n",
       "      <td>0</td>\n",
       "      <td>1</td>\n",
       "      <td>2023</td>\n",
       "      <td>1500000</td>\n",
       "      <td>1</td>\n",
       "      <td>1</td>\n",
       "    </tr>\n",
       "    <tr>\n",
       "      <th>2</th>\n",
       "      <td>Abd Kahar</td>\n",
       "      <td>0</td>\n",
       "      <td>3</td>\n",
       "      <td>1</td>\n",
       "      <td>5</td>\n",
       "      <td>1</td>\n",
       "      <td>0</td>\n",
       "      <td>2023</td>\n",
       "      <td>1500000</td>\n",
       "      <td>1</td>\n",
       "      <td>0</td>\n",
       "    </tr>\n",
       "    <tr>\n",
       "      <th>3</th>\n",
       "      <td>Abd Kahar</td>\n",
       "      <td>0</td>\n",
       "      <td>1</td>\n",
       "      <td>0</td>\n",
       "      <td>4</td>\n",
       "      <td>0</td>\n",
       "      <td>1</td>\n",
       "      <td>2023</td>\n",
       "      <td>1500000</td>\n",
       "      <td>1</td>\n",
       "      <td>1</td>\n",
       "    </tr>\n",
       "    <tr>\n",
       "      <th>4</th>\n",
       "      <td>Abd Manap</td>\n",
       "      <td>0</td>\n",
       "      <td>3</td>\n",
       "      <td>2</td>\n",
       "      <td>3</td>\n",
       "      <td>1</td>\n",
       "      <td>0</td>\n",
       "      <td>2023</td>\n",
       "      <td>0</td>\n",
       "      <td>0</td>\n",
       "      <td>0</td>\n",
       "    </tr>\n",
       "  </tbody>\n",
       "</table>\n",
       "</div>"
      ],
      "text/plain": [
       "           Nama  L/P  Penghasilan  Status Ekonomi  Jumlah Tanggungan  \\\n",
       "0  Aam Garot Hs    0            1               1                  1   \n",
       "1   Aan Priatna    0            3               0                  2   \n",
       "2     Abd Kahar    0            3               1                  5   \n",
       "3     Abd Kahar    0            1               0                  4   \n",
       "4     Abd Manap    0            3               2                  3   \n",
       "\n",
       "   Layak PIP  Alasan Layak PIP  Tahun Penerimaan  Jumlah Bantuan  \\\n",
       "0          0                 1              2023               0   \n",
       "1          0                 1              2023         1500000   \n",
       "2          1                 0              2023         1500000   \n",
       "3          0                 1              2023         1500000   \n",
       "4          1                 0              2023               0   \n",
       "\n",
       "   Status Bantuan  Status Kesesuaian  \n",
       "0               1                  1  \n",
       "1               1                  1  \n",
       "2               1                  0  \n",
       "3               1                  1  \n",
       "4               0                  0  "
      ]
     },
     "metadata": {},
     "output_type": "display_data"
    }
   ],
   "source": [
    "# Encoding label atau konversi string ke numerik untuk memudahkan proses SVM\n",
    "label_cols = ['L/P', 'Penghasilan', 'Status Ekonomi', 'Layak PIP', 'Alasan Layak PIP', 'Status Bantuan', 'Status Kesesuaian']\n",
    "label_encoders = {}\n",
    "for col in label_cols:\n",
    "    le = LabelEncoder()\n",
    "    data[col] = le.fit_transform(data[col])\n",
    "    label_encoders[col] = le\n",
    "\n",
    "print(\"Data setelah encoding:\")\n",
    "display(data.head())\n",
    "\n"
   ]
  },
  {
   "cell_type": "code",
   "execution_count": 16,
   "metadata": {},
   "outputs": [
    {
     "name": "stdout",
     "output_type": "stream",
     "text": [
      "Fitur (X):\n"
     ]
    },
    {
     "data": {
      "text/html": [
       "<div>\n",
       "<style scoped>\n",
       "    .dataframe tbody tr th:only-of-type {\n",
       "        vertical-align: middle;\n",
       "    }\n",
       "\n",
       "    .dataframe tbody tr th {\n",
       "        vertical-align: top;\n",
       "    }\n",
       "\n",
       "    .dataframe thead th {\n",
       "        text-align: right;\n",
       "    }\n",
       "</style>\n",
       "<table border=\"1\" class=\"dataframe\">\n",
       "  <thead>\n",
       "    <tr style=\"text-align: right;\">\n",
       "      <th></th>\n",
       "      <th>L/P</th>\n",
       "      <th>Penghasilan</th>\n",
       "      <th>Status Ekonomi</th>\n",
       "      <th>Jumlah Tanggungan</th>\n",
       "      <th>Layak PIP</th>\n",
       "      <th>Alasan Layak PIP</th>\n",
       "      <th>Tahun Penerimaan</th>\n",
       "      <th>Jumlah Bantuan</th>\n",
       "      <th>Status Bantuan</th>\n",
       "    </tr>\n",
       "  </thead>\n",
       "  <tbody>\n",
       "    <tr>\n",
       "      <th>0</th>\n",
       "      <td>0</td>\n",
       "      <td>1</td>\n",
       "      <td>1</td>\n",
       "      <td>1</td>\n",
       "      <td>0</td>\n",
       "      <td>1</td>\n",
       "      <td>2023</td>\n",
       "      <td>0</td>\n",
       "      <td>1</td>\n",
       "    </tr>\n",
       "    <tr>\n",
       "      <th>1</th>\n",
       "      <td>0</td>\n",
       "      <td>3</td>\n",
       "      <td>0</td>\n",
       "      <td>2</td>\n",
       "      <td>0</td>\n",
       "      <td>1</td>\n",
       "      <td>2023</td>\n",
       "      <td>1500000</td>\n",
       "      <td>1</td>\n",
       "    </tr>\n",
       "    <tr>\n",
       "      <th>2</th>\n",
       "      <td>0</td>\n",
       "      <td>3</td>\n",
       "      <td>1</td>\n",
       "      <td>5</td>\n",
       "      <td>1</td>\n",
       "      <td>0</td>\n",
       "      <td>2023</td>\n",
       "      <td>1500000</td>\n",
       "      <td>1</td>\n",
       "    </tr>\n",
       "    <tr>\n",
       "      <th>3</th>\n",
       "      <td>0</td>\n",
       "      <td>1</td>\n",
       "      <td>0</td>\n",
       "      <td>4</td>\n",
       "      <td>0</td>\n",
       "      <td>1</td>\n",
       "      <td>2023</td>\n",
       "      <td>1500000</td>\n",
       "      <td>1</td>\n",
       "    </tr>\n",
       "    <tr>\n",
       "      <th>4</th>\n",
       "      <td>0</td>\n",
       "      <td>3</td>\n",
       "      <td>2</td>\n",
       "      <td>3</td>\n",
       "      <td>1</td>\n",
       "      <td>0</td>\n",
       "      <td>2023</td>\n",
       "      <td>0</td>\n",
       "      <td>0</td>\n",
       "    </tr>\n",
       "  </tbody>\n",
       "</table>\n",
       "</div>"
      ],
      "text/plain": [
       "   L/P  Penghasilan  Status Ekonomi  Jumlah Tanggungan  Layak PIP  \\\n",
       "0    0            1               1                  1          0   \n",
       "1    0            3               0                  2          0   \n",
       "2    0            3               1                  5          1   \n",
       "3    0            1               0                  4          0   \n",
       "4    0            3               2                  3          1   \n",
       "\n",
       "   Alasan Layak PIP  Tahun Penerimaan  Jumlah Bantuan  Status Bantuan  \n",
       "0                 1              2023               0               1  \n",
       "1                 1              2023         1500000               1  \n",
       "2                 0              2023         1500000               1  \n",
       "3                 1              2023         1500000               1  \n",
       "4                 0              2023               0               0  "
      ]
     },
     "metadata": {},
     "output_type": "display_data"
    },
    {
     "name": "stdout",
     "output_type": "stream",
     "text": [
      "Label (y):\n"
     ]
    },
    {
     "data": {
      "text/plain": [
       "0    1\n",
       "1    1\n",
       "2    0\n",
       "3    1\n",
       "4    0\n",
       "Name: Status Kesesuaian, dtype: int64"
      ]
     },
     "metadata": {},
     "output_type": "display_data"
    }
   ],
   "source": [
    "# Memisahkan fitur dan label\n",
    "X = data.drop(columns=['Status Kesesuaian', 'Nama'])\n",
    "y = data['Status Kesesuaian']\n",
    "\n",
    "print(\"Fitur (X):\")\n",
    "display(X.head())\n",
    "print(\"Label (y):\")\n",
    "display(y.head())\n",
    "\n"
   ]
  },
  {
   "cell_type": "code",
   "execution_count": 17,
   "metadata": {},
   "outputs": [
    {
     "name": "stdout",
     "output_type": "stream",
     "text": [
      "Data pelatihan dan pengujian:\n",
      "X_train shape: (508, 9)\n",
      "X_test shape: (127, 9)\n",
      "y_train shape: (508,)\n",
      "y_test shape: (127,) \n",
      "\n"
     ]
    }
   ],
   "source": [
    "# Pembagian data\n",
    "X_train, X_test, y_train, y_test = train_test_split(X, y, test_size=0.2, random_state=42)\n",
    "\n",
    "print(\"Data pelatihan dan pengujian:\")\n",
    "print(\"X_train shape:\", X_train.shape)\n",
    "print(\"X_test shape:\", X_test.shape)\n",
    "print(\"y_train shape:\", y_train.shape)\n",
    "print(\"y_test shape:\", y_test.shape, \"\\n\")\n",
    "\n"
   ]
  },
  {
   "cell_type": "code",
   "execution_count": 18,
   "metadata": {},
   "outputs": [
    {
     "name": "stdout",
     "output_type": "stream",
     "text": [
      "Fitur setelah standarisasi:\n",
      "X_train:\n",
      "[[ 0.         -1.7893947  -1.22513698 -0.30194393 -0.93516776  0.93516776\n",
      "   0.          1.          1.00394479]\n",
      " [ 0.          1.87967698  1.26434136 -0.90583179 -0.93516776  0.93516776\n",
      "   0.         -1.          1.00394479]\n",
      " [ 0.          0.04514114 -1.22513698  1.50971965 -0.93516776  0.93516776\n",
      "   0.          1.         -0.99607071]\n",
      " [ 0.         -0.87212678 -1.22513698 -0.30194393 -0.93516776  0.93516776\n",
      "   0.          1.          1.00394479]\n",
      " [ 0.          1.87967698 -1.22513698 -0.90583179 -0.93516776  0.93516776\n",
      "   0.         -1.         -0.99607071]]\n",
      "X_test:\n",
      "[[ 0.         -0.87212678  1.26434136  1.50971965  1.06932685 -1.06932685\n",
      "   0.          1.         -0.99607071]\n",
      " [ 0.         -0.87212678 -1.22513698 -0.90583179 -0.93516776  0.93516776\n",
      "   0.          1.          1.00394479]\n",
      " [ 0.          0.96240906  0.01960219  0.90583179  1.06932685 -1.06932685\n",
      "   0.          1.         -0.99607071]\n",
      " [ 0.          0.96240906  1.26434136  0.90583179  1.06932685 -1.06932685\n",
      "   0.         -1.         -0.99607071]\n",
      " [ 0.          0.96240906  1.26434136 -0.30194393  1.06932685 -1.06932685\n",
      "   0.         -1.         -0.99607071]] \n",
      "\n"
     ]
    }
   ],
   "source": [
    "# Standarisasi fitur\n",
    "scaler = StandardScaler()\n",
    "X_train = scaler.fit_transform(X_train)\n",
    "X_test = scaler.transform(X_test)\n",
    "\n",
    "print(\"Fitur setelah standarisasi:\")\n",
    "print(\"X_train:\")\n",
    "print(X_train[:5])\n",
    "print(\"X_test:\")\n",
    "print(X_test[:5], \"\\n\")"
   ]
  },
  {
   "cell_type": "code",
   "execution_count": 19,
   "metadata": {},
   "outputs": [
    {
     "name": "stdout",
     "output_type": "stream",
     "text": [
      "Model SVM dilatih.\n",
      "\n",
      "Model saved to svm_model.joblib\n",
      "Scaler saved to scaler.joblib\n",
      "\n"
     ]
    }
   ],
   "source": [
    "# Melatih model SVM\n",
    "svm_model = SVC(kernel='linear')\n",
    "svm_model.fit(X_train, y_train)\n",
    "\n",
    "print(\"Model SVM dilatih.\\n\")\n",
    "\n",
    "# Menyimpan model dan scaler\n",
    "def save_model_and_scaler(model, scaler, model_filename, scaler_filename):\n",
    "    model_dir = os.path.dirname(model_filename)\n",
    "    scaler_dir = os.path.dirname(scaler_filename)\n",
    "    \n",
    "    if model_dir and not os.path.exists(model_dir):\n",
    "        os.makedirs(model_dir)\n",
    "    \n",
    "    if scaler_dir and not os.path.exists(scaler_dir):\n",
    "        os.makedirs(scaler_dir)\n",
    "    \n",
    "    joblib.dump(model, model_filename)\n",
    "    joblib.dump(scaler, scaler_filename)\n",
    "    print(f\"Model saved to {model_filename}\")\n",
    "    print(f\"Scaler saved to {scaler_filename}\\n\")\n",
    "\n",
    "model_filename = 'svm_model.joblib'\n",
    "scaler_filename = 'scaler.joblib'\n",
    "save_model_and_scaler(svm_model, scaler, model_filename, scaler_filename)\n"
   ]
  },
  {
   "cell_type": "code",
   "execution_count": 21,
   "metadata": {},
   "outputs": [
    {
     "name": "stdout",
     "output_type": "stream",
     "text": [
      "Classification Report:\n",
      "               precision    recall  f1-score   support\n",
      "\n",
      "           0       0.75      0.43      0.55        21\n",
      "           1       1.00      1.00      1.00        62\n",
      "           2       0.77      0.93      0.85        44\n",
      "\n",
      "    accuracy                           0.88       127\n",
      "   macro avg       0.84      0.79      0.80       127\n",
      "weighted avg       0.88      0.88      0.87       127\n",
      "\n",
      "Accuracy Score: 0.8818897637795275 \n",
      "\n"
     ]
    }
   ],
   "source": [
    "# Pengujian Model\n",
    "y_pred = svm_model.predict(X_test)\n",
    "\n",
    "# Evaluasi model\n",
    "print(\"Classification Report:\\n\", classification_report(y_test, y_pred))\n",
    "print(\"Accuracy Score:\", accuracy_score(y_test, y_pred), \"\\n\")\n"
   ]
  },
  {
   "cell_type": "code",
   "execution_count": 23,
   "metadata": {},
   "outputs": [
    {
     "name": "stdout",
     "output_type": "stream",
     "text": [
      "Dimensi X_train: (508, 9)\n",
      "Dimensi decision_function: (508,)\n",
      "Data untuk visualisasi:\n"
     ]
    },
    {
     "data": {
      "text/html": [
       "<div>\n",
       "<style scoped>\n",
       "    .dataframe tbody tr th:only-of-type {\n",
       "        vertical-align: middle;\n",
       "    }\n",
       "\n",
       "    .dataframe tbody tr th {\n",
       "        vertical-align: top;\n",
       "    }\n",
       "\n",
       "    .dataframe thead th {\n",
       "        text-align: right;\n",
       "    }\n",
       "</style>\n",
       "<table border=\"1\" class=\"dataframe\">\n",
       "  <thead>\n",
       "    <tr style=\"text-align: right;\">\n",
       "      <th></th>\n",
       "      <th>PCA1</th>\n",
       "      <th>PCA2</th>\n",
       "      <th>Decision Value</th>\n",
       "      <th>Status Kesesuaian</th>\n",
       "      <th>Nama</th>\n",
       "    </tr>\n",
       "  </thead>\n",
       "  <tbody>\n",
       "    <tr>\n",
       "      <th>0</th>\n",
       "      <td>-1.741353</td>\n",
       "      <td>0.829650</td>\n",
       "      <td>2.222279</td>\n",
       "      <td>1</td>\n",
       "      <td>Muhammad Abdi</td>\n",
       "    </tr>\n",
       "    <tr>\n",
       "      <th>1</th>\n",
       "      <td>-0.855161</td>\n",
       "      <td>-0.544401</td>\n",
       "      <td>2.222255</td>\n",
       "      <td>1</td>\n",
       "      <td>Irwan</td>\n",
       "    </tr>\n",
       "    <tr>\n",
       "      <th>2</th>\n",
       "      <td>-1.078206</td>\n",
       "      <td>1.125374</td>\n",
       "      <td>2.222200</td>\n",
       "      <td>1</td>\n",
       "      <td>Darman Syahputra Hasibuan</td>\n",
       "    </tr>\n",
       "    <tr>\n",
       "      <th>3</th>\n",
       "      <td>-1.727427</td>\n",
       "      <td>1.094940</td>\n",
       "      <td>2.222286</td>\n",
       "      <td>1</td>\n",
       "      <td>Dedi Kurniawan</td>\n",
       "    </tr>\n",
       "    <tr>\n",
       "      <th>4</th>\n",
       "      <td>-1.908374</td>\n",
       "      <td>-0.542496</td>\n",
       "      <td>2.222339</td>\n",
       "      <td>1</td>\n",
       "      <td>Muhammad Nadan</td>\n",
       "    </tr>\n",
       "    <tr>\n",
       "      <th>...</th>\n",
       "      <td>...</td>\n",
       "      <td>...</td>\n",
       "      <td>...</td>\n",
       "      <td>...</td>\n",
       "      <td>...</td>\n",
       "    </tr>\n",
       "    <tr>\n",
       "      <th>503</th>\n",
       "      <td>2.282677</td>\n",
       "      <td>0.344620</td>\n",
       "      <td>2.222221</td>\n",
       "      <td>2</td>\n",
       "      <td>Bahari</td>\n",
       "    </tr>\n",
       "    <tr>\n",
       "      <th>504</th>\n",
       "      <td>1.578898</td>\n",
       "      <td>1.057071</td>\n",
       "      <td>2.190524</td>\n",
       "      <td>0</td>\n",
       "      <td>Daryusman</td>\n",
       "    </tr>\n",
       "    <tr>\n",
       "      <th>505</th>\n",
       "      <td>1.354826</td>\n",
       "      <td>-1.556309</td>\n",
       "      <td>2.270830</td>\n",
       "      <td>0</td>\n",
       "      <td>M Suhartono</td>\n",
       "    </tr>\n",
       "    <tr>\n",
       "      <th>506</th>\n",
       "      <td>-1.767860</td>\n",
       "      <td>0.479142</td>\n",
       "      <td>2.222284</td>\n",
       "      <td>1</td>\n",
       "      <td>Sanja Primaja</td>\n",
       "    </tr>\n",
       "    <tr>\n",
       "      <th>507</th>\n",
       "      <td>-2.175395</td>\n",
       "      <td>-1.465347</td>\n",
       "      <td>2.222350</td>\n",
       "      <td>1</td>\n",
       "      <td>Dariono</td>\n",
       "    </tr>\n",
       "  </tbody>\n",
       "</table>\n",
       "<p>508 rows × 5 columns</p>\n",
       "</div>"
      ],
      "text/plain": [
       "         PCA1      PCA2  Decision Value  Status Kesesuaian  \\\n",
       "0   -1.741353  0.829650        2.222279                  1   \n",
       "1   -0.855161 -0.544401        2.222255                  1   \n",
       "2   -1.078206  1.125374        2.222200                  1   \n",
       "3   -1.727427  1.094940        2.222286                  1   \n",
       "4   -1.908374 -0.542496        2.222339                  1   \n",
       "..        ...       ...             ...                ...   \n",
       "503  2.282677  0.344620        2.222221                  2   \n",
       "504  1.578898  1.057071        2.190524                  0   \n",
       "505  1.354826 -1.556309        2.270830                  0   \n",
       "506 -1.767860  0.479142        2.222284                  1   \n",
       "507 -2.175395 -1.465347        2.222350                  1   \n",
       "\n",
       "                          Nama  \n",
       "0                Muhammad Abdi  \n",
       "1                        Irwan  \n",
       "2    Darman Syahputra Hasibuan  \n",
       "3               Dedi Kurniawan  \n",
       "4               Muhammad Nadan  \n",
       "..                         ...  \n",
       "503                     Bahari  \n",
       "504                  Daryusman  \n",
       "505                M Suhartono  \n",
       "506              Sanja Primaja  \n",
       "507                    Dariono  \n",
       "\n",
       "[508 rows x 5 columns]"
      ]
     },
     "metadata": {},
     "output_type": "display_data"
    },
    {
     "data": {
      "application/vnd.plotly.v1+json": {
       "config": {
        "plotlyServerURL": "https://plot.ly"
       },
       "data": [
        {
         "customdata": [
          [
           "Muhammad Abdi",
           2.222279384697179
          ],
          [
           "Irwan",
           2.222254612007875
          ],
          [
           "Darman Syahputra Hasibuan",
           2.2221998576379387
          ],
          [
           "Dedi Kurniawan",
           2.2222859251412297
          ],
          [
           "Muhammad Nadan",
           2.222339327459395
          ],
          [
           "Juwari",
           2.222269972938418
          ],
          [
           "Junaidi Alamsyah",
           2.2222652628679933
          ],
          [
           "Ismail",
           2.222277859027054
          ],
          [
           "Satiman",
           2.190590376988255
          ],
          [
           "Toni Ramanda",
           2.190523814581661
          ],
          [
           "Samsuri Johan",
           2.2222279431241976
          ],
          [
           "Yahya",
           2.27777238735793
          ],
          [
           "Marianto",
           2.256404094422717
          ],
          [
           "Feri Yulianto",
           2.2500024227056867
          ],
          [
           "Eri Widodo",
           2.2222740224584747
          ],
          [
           "Hermansyah",
           2.2333237273664586
          ],
          [
           "Suherman",
           2.222253907111895
          ],
          [
           "Ahmad Yahya",
           2.222228905553247
          ],
          [
           "Bahlian",
           2.2222231405936994
          ],
          [
           "Sutarno",
           2.222223615344524
          ],
          [
           "Armansyah Syam",
           2.249992567029487
          ],
          [
           "Abdul Khair",
           2.166677889950287
          ],
          [
           "Misdar",
           2.2221986001464473
          ],
          [
           "Tengku Sutan Ahmad",
           2.222270061757947
          ],
          [
           "Kamaruddin",
           2.222223615344524
          ],
          [
           "Suparman",
           2.2222306500629725
          ],
          [
           "Ngateman",
           2.266659736399333
          ],
          [
           "Bambang Rianto",
           2.266659736399333
          ],
          [
           "Mai Rizal",
           2.24242351359385
          ],
          [
           "Paino",
           2.2222749239735604
          ],
          [
           "Bambang Hermanto",
           2.2564065095723738
          ],
          [
           "Adi Sumantri",
           2.1905985551979397
          ],
          [
           "Muliadi",
           2.222323182682456
          ],
          [
           "Misman",
           2.2221986001464473
          ],
          [
           "Muhammad Yusuf",
           2.2222860337798696
          ],
          [
           "Saipul Anwar",
           2.2222253600203805
          ],
          [
           "Rudiyanto",
           2.2564065095723738
          ],
          [
           "Jamin",
           2.222289466809861
          ],
          [
           "Elvin",
           2.222246323911866
          ],
          [
           "Turimin",
           2.2222003456079773
          ],
          [
           "Madio",
           2.222238452866714
          ],
          [
           "Marlansyah",
           2.222259194436548
          ],
          [
           "Abdul Hamid Matondang",
           2.24242351359385
          ],
          [
           "Irwansyah",
           2.2221998576379387
          ],
          [
           "M Yusuf",
           2.2222782376586685
          ],
          [
           "Muhammad Ali",
           2.2222223583906215
          ],
          [
           "Yanto",
           2.222271208965353
          ],
          [
           "Sajuki",
           2.222248067874649
          ],
          [
           "Bambang Sugiarto",
           2.2222740224584747
          ],
          [
           "M. Amin",
           2.2222253600203805
          ],
          [
           "Hermanto",
           2.22228418236692
          ],
          [
           "Marwan",
           2.222334534553454
          ],
          [
           "Jul Fadli Syah",
           2.1666687557171285
          ],
          [
           "Lazuardi",
           2.242422409993676
          ],
          [
           "Afriadi Nur",
           2.222266518851366
          ],
          [
           "Sahrizal",
           2.242420140623558
          ],
          [
           "Heriyanto",
           2.2564058799765467
          ],
          [
           "Mulyanto",
           2.2223025445528894
          ],
          [
           "Giot",
           2.2424190369414827
          ],
          [
           "Bambang",
           2.2424190369414827
          ],
          [
           "Budiman",
           2.22228429100897
          ],
          [
           "Muhammad Adil",
           2.22232108600874
          ],
          [
           "Ayub",
           2.222323182682456
          ],
          [
           "Mansur",
           2.2222908308751426
          ],
          [
           "Sudarman",
           2.2666616711859238
          ],
          [
           "Ikhsan Surya",
           2.2223014747909837
          ],
          [
           "Abdul Samad",
           2.2222397788019985
          ],
          [
           "T Jamaluddin At",
           2.22228418236692
          ],
          [
           "Ishak",
           2.2222036516817605
          ],
          [
           "Basri",
           2.2564066701876824
          ],
          [
           "Supriadi",
           2.2223292543991833
          ],
          [
           "Dedi Rahwanto",
           2.2222912094183105
          ],
          [
           "Sanijar",
           2.2222100052712657
          ],
          [
           "Wahyu Purnama",
           2.2666611982652163
          ],
          [
           "Agus Hermawan",
           2.222213444349971
          ],
          [
           "Aam Garot Hs",
           2.2222782376586685
          ],
          [
           "Zaini Yusuf",
           2.2223292543991833
          ],
          [
           "M Faisal Pohan",
           2.222203986871776
          ],
          [
           "Syamsu Rizal",
           2.2333239988318643
          ],
          [
           "P Juliar",
           2.2666598570526384
          ],
          [
           "Surya Candra",
           2.2223019618690616
          ],
          [
           "Sulaiman Pohan",
           2.261901274622229
          ],
          [
           "Adi Saputra",
           2.2222036516817605
          ],
          [
           "Sujoko",
           2.222364765879583
          ],
          [
           "Dedi Rahmat",
           2.2222669172728895
          ],
          [
           "Boimin",
           2.2222306500629725
          ],
          [
           "Hermansyah",
           2.222289575441571
          ],
          [
           "Kemat",
           2.242420140623558
          ],
          [
           "M Isa",
           2.222308499654128
          ],
          [
           "Abu Yamin",
           2.2333226632461334
          ],
          [
           "Legiman",
           2.2222740224584747
          ],
          [
           "Ngadiman",
           2.222306757588319
          ],
          [
           "Fadly Ikhfandy",
           2.1666695096225865
          ],
          [
           "Sugiandi",
           2.2222718049754913
          ],
          [
           "Supriono",
           2.2222609379952467
          ],
          [
           "Syaifullah",
           2.222266993231571
          ],
          [
           "Sunardi",
           2.2223292543991833
          ],
          [
           "M.Yakub",
           2.2222912094183105
          ],
          [
           "Mahmudin",
           2.222266518851366
          ],
          [
           "Puput Ramadani",
           2.22227186858046
          ],
          [
           "Slamet Riadi",
           2.256406040594485
          ],
          [
           "Hendri Ramansyah",
           2.261903899772782
          ],
          [
           "Andri Kurniawan",
           2.222327512984635
          ],
          [
           "Marhalim",
           2.2222722793105416
          ],
          [
           "Alansyah Putra",
           2.2223014747909837
          ],
          [
           "Budiman",
           2.2222960060664425
          ],
          [
           "Sigit Purwono",
           2.266659736399333
          ],
          [
           "Sapri",
           2.2222064074524472
          ],
          [
           "Dedek Sapaat",
           2.2223215729147716
          ],
          [
           "Rusli",
           2.2223032170225747
          ],
          [
           "Indra Syahputra",
           2.2222367086020176
          ],
          [
           "Zulkifli",
           2.222271208965353
          ],
          [
           "Suprapto",
           2.190515627804728
          ],
          [
           "Suherman",
           2.190518762365525
          ],
          [
           "Jumadi",
           2.22224152297029
          ],
          [
           "Syafruddin Tanjung",
           2.2223014747909837
          ],
          [
           "Samsuri",
           2.266659736399333
          ],
          [
           "Abdi Afnizar Nasution",
           2.266659263451176
          ],
          [
           "Zulkarnain Nasution",
           2.2222419975640393
          ],
          [
           "Selamet Riyadi",
           2.2222271914619536
          ],
          [
           "Mardian",
           2.256404094422717
          ],
          [
           "Julianto",
           2.2222526508432683
          ],
          [
           "Muhammad Saman",
           2.222321464345657
          ],
          [
           "Susanto",
           2.2424199162936747
          ],
          [
           "Azhar",
           2.2221986001464473
          ],
          [
           "M Zaini Pane",
           2.2499889933348256
          ],
          [
           "Suandi",
           2.2223577481351144
          ],
          [
           "Wagiran",
           2.190523814581661
          ],
          [
           "Sukirman",
           2.2223630255790625
          ],
          [
           "Madiono",
           2.2223144411230966
          ],
          [
           "Ferry Kurniawansyah",
           2.2222730608109096
          ],
          [
           "Dodi Helpino Pida",
           2.222346424269777
          ],
          [
           "Suhartono",
           2.2666598570526384
          ],
          [
           "Suriyanto",
           2.190590376988255
          ],
          [
           "Hermanto",
           2.166600042465926
          ],
          [
           "Rismat",
           2.270828949898818
          ],
          [
           "Muchlis Saputra",
           2.222344683393908
          ],
          [
           "Zainal Abidin",
           2.2223577481351144
          ],
          [
           "Teguh",
           2.2564065095723738
          ],
          [
           "Fadli",
           2.22228429100897
          ],
          [
           "Ermansyah Putra",
           2.190590376988255
          ],
          [
           "Muchfriyatna Sihombing",
           2.222195052679091
          ],
          [
           "Achmad Fadly Effendi",
           2.222266518851366
          ],
          [
           "Heri Gusliadi Siregar",
           2.2222794933486165
          ],
          [
           "Sumarwan",
           2.2222064074524472
          ],
          [
           "Sumardi",
           2.222304286750909
          ],
          [
           "Adi Syah Putra",
           2.2223630255790625
          ],
          [
           "Salahuddin",
           2.1904560630117555
          ],
          [
           "Sukarman",
           2.2223215729147716
          ],
          [
           "Suparmin",
           2.2222103404229556
          ],
          [
           "Muhammad Alamsyah",
           2.222258232532177
          ],
          [
           "Junaidi S",
           2.222264666787637
          ],
          [
           "Muslim",
           2.2223327933045716
          ],
          [
           "M Syaharuddin",
           2.1904560630117555
          ],
          [
           "Gusmanto",
           2.222259194436548
          ],
          [
           "Dwi Hartono",
           2.22228418236692
          ],
          [
           "Syamsuri",
           2.2564036254153796
          ],
          [
           "Dedi Irawan",
           2.24999201658698
          ],
          [
           "Misman",
           2.222307904037769
          ],
          [
           "Heri Purnama",
           2.2083247540056163
          ],
          [
           "Ardiansyah",
           2.2222687365454408
          ],
          [
           "Ngadiono",
           2.1668995347038065
          ],
          [
           "Jasiman",
           2.2222783463123505
          ],
          [
           "M.Azmi",
           2.2424226343112537
          ],
          [
           "Abdullah",
           2.222276494643055
          ],
          [
           "Muhammad Jauhari",
           2.166677889950287
          ],
          [
           "Katno",
           2.22228418236692
          ],
          [
           "Susanto",
           2.242422409993676
          ],
          [
           "Wagiran",
           2.22222587810145
          ],
          [
           "Indra Irawan",
           2.222308499654128
          ],
          [
           "Mustafa",
           2.190523814581661
          ],
          [
           "Sutrisno",
           2.222334534553454
          ],
          [
           "Sudarto",
           2.222271208965353
          ],
          [
           "Budiman",
           2.1667156680689903
          ],
          [
           "Herman Felani",
           2.222228905553247
          ],
          [
           "Marianto T",
           2.2222306500629725
          ],
          [
           "Sahriadi",
           2.242422409993676
          ],
          [
           "Suprayetno",
           2.1666800909874966
          ],
          [
           "Nurman",
           2.2222253600203805
          ],
          [
           "Muliya Neshan Rumapea",
           2.2222182477186916
          ],
          [
           "Abd Muis",
           2.2222090266640304
          ],
          [
           "Alansyah Putra",
           2.222272952146885
          ],
          [
           "Muhammad  Yusup",
           2.222276603300147
          ],
          [
           "Sugiono",
           2.2222262131573993
          ],
          [
           "Samsuli",
           2.2500016839194594
          ],
          [
           "Abdullah",
           2.2222100052712657
          ],
          [
           "Alpijam Hajannur",
           2.222213444349971
          ],
          [
           "Wan Jaini Abidin",
           2.24999201658698
          ],
          [
           "T M Fahri",
           2.2222367086020176
          ],
          [
           "Abd Kahar",
           2.2222253600203805
          ],
          [
           "Suradi",
           2.1904560630117555
          ],
          [
           "Musiran",
           2.1905985551979397
          ],
          [
           "Misdian Karim",
           2.2666598570526384
          ],
          [
           "Suriyadi",
           2.222283035427515
          ],
          [
           "Rukiyan",
           2.222297748469659
          ],
          [
           "Suhendrik",
           2.2222609379952467
          ],
          [
           "Muhammad Salim",
           2.22222843084763
          ],
          [
           "Joko Yuwono",
           2.2222860337798696
          ],
          [
           "Adi Syahputra",
           2.2222103404229556
          ],
          [
           "Sugiono",
           2.256403464787356
          ],
          [
           "M Anfal",
           2.2223145497059487
          ],
          [
           "Aminan",
           2.208326840692498
          ],
          [
           "Juhairi Lubis",
           2.222296678615332
          ],
          [
           "Ahmad Albar",
           2.222364279352374
          ],
          [
           "Halomoan Purba",
           2.249991828068495
          ],
          [
           "Jumarno",
           2.190458234824476
          ],
          [
           "Wagiran",
           2.190456617071815
          ],
          [
           "Heriadi",
           2.2222279431241976
          ],
          [
           "Supriadi",
           2.222206895364969
          ],
          [
           "Razali",
           2.222246323911866
          ],
          [
           "Indra Syahputra",
           2.266659736399333
          ],
          [
           "Suprianto",
           2.222316291527243
          ],
          [
           "Ngatirin",
           2.2222279431241976
          ],
          [
           "Waluyo",
           2.1667045239719265
          ],
          [
           "Suratman",
           2.2666611982652163
          ],
          [
           "Asrol",
           2.222369556175171
          ],
          [
           "Nasir",
           2.1666771361206423
          ],
          [
           "Hendri Susanto",
           2.2499889933348256
          ],
          [
           "Tedi Asriadi",
           2.266659736399333
          ],
          [
           "Harianto",
           2.190456617071815
          ],
          [
           "Mesnan",
           2.1904671191401293
          ],
          [
           "Indra Saputra",
           2.2222262131573993
          ],
          [
           "Surimran",
           2.2666616711859238
          ],
          [
           "Rudi Hartono",
           2.222204965567775
          ],
          [
           "Ginanjar Putra",
           2.2223145497059487
          ],
          [
           "Nuriadi",
           2.2564042550481105
          ],
          [
           "Ponijan",
           2.2223149280874193
          ],
          [
           "Joni",
           2.2222783463123505
          ],
          [
           "Paijan",
           2.2223215729147716
          ],
          [
           "Suhendro",
           2.222208152668748
          ],
          [
           "Darma",
           2.2499899208740524
          ],
          [
           "Sarwo Edie",
           2.222266993231571
          ],
          [
           "Bahrin",
           2.2223014747909837
          ],
          [
           "Sugio",
           2.190518762365525
          ],
          [
           "Wahyu Purnama Nst",
           2.2223594886011657
          ],
          [
           "Dedi Saputra",
           2.256406040594485
          ],
          [
           "Sarbaini",
           2.222276494643055
          ],
          [
           "Sudarmin",
           2.233326745027693
          ],
          [
           "Tukino",
           2.222220839837621
          ],
          [
           "Irwansyah",
           2.222283035427515
          ],
          [
           "Suhadi",
           2.222193307051293
          ],
          [
           "Riswanto",
           2.250020901806012
          ],
          [
           "Sipto",
           2.222246323911866
          ],
          [
           "Yusuf Hamdani",
           2.222320129944172
          ],
          [
           "Abdul Halim",
           2.1904671191401293
          ],
          [
           "Tarmin",
           2.2500226211505168
          ],
          [
           "Agustiawan",
           2.2222990037184336
          ],
          [
           "Endi Yuliadi",
           2.2223014747909837
          ],
          [
           "Kasri",
           2.2222960060664425
          ],
          [
           "Marwan",
           2.222319831259201
          ],
          [
           "Taulis Yantoro",
           2.222246323911866
          ],
          [
           "Nurdinsyah",
           2.222318235949264
          ],
          [
           "Ariadi",
           2.2223144411230966
          ],
          [
           "Dedi Herdino",
           2.2564036254153796
          ],
          [
           "Rohmat",
           2.2223577481351144
          ],
          [
           "Ruli Handika",
           2.1904587888676934
          ],
          [
           "Saidi",
           2.1905954241388677
          ],
          [
           "Limin",
           2.249992567029487
          ],
          [
           "Supriadi",
           2.222318235949264
          ],
          [
           "Mardi",
           2.2222053007498648
          ],
          [
           "Firman Syah",
           2.2564066701876824
          ],
          [
           "M Jakaria",
           2.2222912094183105
          ],
          [
           "Surya Dani",
           2.222318235949264
          ],
          [
           "Musri",
           2.2223292543991833
          ],
          [
           "Suwarman",
           2.2223327933045716
          ],
          [
           "Ahmad Firdaus",
           2.166677889950287
          ],
          [
           "Suhendra",
           2.2666611982652163
          ],
          [
           "Masuri",
           2.1905954241388677
          ],
          [
           "Irawan Syahputra",
           2.222323182682456
          ],
          [
           "Muliono",
           2.222364765879583
          ],
          [
           "Syah Budi",
           2.2564058799765467
          ],
          [
           "Feri Madona",
           2.250020901806012
          ],
          [
           "Teuku Sulaiman",
           2.22222587810145
          ],
          [
           "Syamsuri",
           2.2424192612757077
          ],
          [
           "Feri Syahputra",
           2.2222912094183105
          ],
          [
           "Syah Putra",
           2.2223594886011657
          ],
          [
           "Mukhlis",
           2.266659263451176
          ],
          [
           "Miswanto",
           2.2223577481351144
          ],
          [
           "Saryanto",
           2.2222279431241976
          ],
          [
           "Dirwan",
           2.222320129944172
          ],
          [
           "Supriadi",
           2.1666695096225865
          ],
          [
           "Bustami",
           2.166680844790419
          ],
          [
           "Fadlun",
           2.2222674806122247
          ],
          [
           "Jumino",
           2.2222253600203805
          ],
          [
           "Ridwan Asmara",
           2.24242351359385
          ],
          [
           "Salman Alfarizi",
           2.222297261354613
          ],
          [
           "Dafid Heriyandi",
           2.222276494643055
          ],
          [
           "Nurrahim",
           2.2222224883956603
          ],
          [
           "Miswanto",
           2.242422409993676
          ],
          [
           "M. Yusuf",
           2.2223577481351144
          ],
          [
           "Maimun Harahap",
           2.222323182682456
          ],
          [
           "Katiman",
           2.2223131862233405
          ],
          [
           "Roni Wahyudi",
           2.2222652628679933
          ],
          [
           "Didi Supriyanto",
           2.2222449981328136
          ],
          [
           "Hermanto",
           2.2083247540056163
          ],
          [
           "Irwan",
           2.222277750372419
          ],
          [
           "Miswadi",
           2.2222990037184336
          ],
          [
           "Junaidi S",
           2.2222687365454408
          ],
          [
           "Sagino",
           2.242422409993676
          ],
          [
           "Wagiman",
           2.2222990037184336
          ],
          [
           "Sugianto",
           2.2223451700929626
          ],
          [
           "Supono",
           2.2223594886011657
          ],
          [
           "Sudarmin",
           2.2222086915044152
          ],
          [
           "Suwardi",
           2.190523814581661
          ],
          [
           "Sujari",
           2.2222103404229556
          ],
          [
           "Dodi Iskandar",
           2.190518762365525
          ],
          [
           "Rudi Armansyah",
           2.2223381498696892
          ],
          [
           "Sunaryo",
           2.190515627804728
          ],
          [
           "Sudarwadi",
           2.1904671191401293
          ],
          [
           "Jenal Manurung",
           2.2333239988318643
          ],
          [
           "Muhammad Sofi",
           2.222248542412479
          ],
          [
           "Andika",
           2.222271317632789
          ],
          [
           "Jaka Saputra",
           2.222253907111895
          ],
          [
           "Edi Susanto",
           2.222323182682456
          ],
          [
           "Syamsul Bahri",
           2.256403464787356
          ],
          [
           "Selamat",
           2.222316291527243
          ],
          [
           "T. Syarif Hamdani",
           2.2223132948086475
          ],
          [
           "Syarifuddin",
           2.2424190369414827
          ],
          [
           "Sariono",
           2.1904671191401293
          ],
          [
           "Sidik Pramono",
           2.222258232532177
          ],
          [
           "Dapit",
           2.2500236877914785
          ],
          [
           "Sriono",
           2.277773975578039
          ],
          [
           "Rakiman",
           2.2564058799765467
          ],
          [
           "Zainuddin",
           2.2222371962484972
          ],
          [
           "Mainullah",
           2.27777238735793
          ],
          [
           "M Johansyah",
           2.2499897323460867
          ],
          [
           "Amran",
           2.222259194436548
          ],
          [
           "Sarudi",
           2.222346424269777
          ],
          [
           "Sudirman",
           2.1904560630117555
          ],
          [
           "Dedi Idris",
           2.22232799983429
          ],
          [
           "Herman",
           2.222351216149004
          ],
          [
           "Sugianto",
           2.2666616711859238
          ],
          [
           "Supangat",
           2.222304286750909
          ],
          [
           "Untung Sumardi",
           2.1904643936020567
          ],
          [
           "Oktian",
           2.2564066701876824
          ],
          [
           "Misdi",
           2.2222599761210744
          ],
          [
           "Sudarmadi",
           2.222315182938909
          ],
          [
           "Fujianto",
           2.2222687365454408
          ],
          [
           "Hendro Miski Wijaya",
           2.2619037612926407
          ],
          [
           "Julianto",
           2.2222912094183105
          ],
          [
           "Marwansyah Lubis",
           2.222265737258927
          ],
          [
           "Suhardi",
           2.2223090822693377
          ],
          [
           "Hendra Sakti Nasution",
           2.222351216149004
          ],
          [
           "Misjatul Aladuni",
           2.222315182938909
          ],
          [
           "Elfiadi",
           2.2223209774386734
          ],
          [
           "Ruri Febrian",
           2.242420140623558
          ],
          [
           "Suyedi",
           2.2222859251412297
          ],
          [
           "Irawan",
           2.2222103404229556
          ],
          [
           "Muslim",
           2.2222051501091764
          ],
          [
           "Lajiman",
           2.222254612007875
          ],
          [
           "Julian Indra Syahputra",
           2.190458234824476
          ],
          [
           "Suparjo Susanto",
           2.190458234824476
          ],
          [
           "Dedi Mustafa",
           2.2083261297212653
          ],
          [
           "Dedi Wahyudi",
           2.222203986871776
          ],
          [
           "Sutrisno",
           2.222344683393908
          ],
          [
           "M.Taslim",
           2.222276494643055
          ],
          [
           "Paiman",
           2.2222221533172464
          ],
          [
           "Rahmad Amin",
           2.190458234824476
          ],
          [
           "Joko Susanto",
           2.2222990037184336
          ],
          [
           "Ucok Sandro",
           2.222318235949264
          ],
          [
           "Sunardi",
           2.242420140623558
          ],
          [
           "Sudiyan",
           2.222364765879583
          ],
          [
           "Mujianto",
           2.222308499654128
          ],
          [
           "Edi Setiawan",
           2.222258232532177
          ],
          [
           "Yuswardi Y",
           2.222246323911866
          ],
          [
           "Sejali",
           2.222213444349971
          ],
          [
           "M.Yusuf",
           2.2499994002084733
          ],
          [
           "Tengku Idris Affandi",
           2.2222224883956603
          ],
          [
           "Ahmad Yani",
           2.222203986871776
          ],
          [
           "Datam",
           2.222289466809861
          ],
          [
           "Suprianto",
           2.242420140623558
          ],
          [
           "Sukidi",
           2.242422409993676
          ],
          [
           "Eko Munir Sajaya",
           2.222223615344524
          ],
          [
           "Sarmin",
           2.24242351359385
          ],
          [
           "Arianto",
           2.190518762365525
          ],
          [
           "Ahyar",
           2.2222221533172464
          ],
          [
           "Hendri Syahputra Nasution",
           2.19046656516152
          ],
          [
           "Armansyah",
           2.2223150366693187
          ],
          [
           "M.Trikurniantoro",
           2.233385667820801
          ],
          [
           "Bambang Sumantri",
           2.222228905553247
          ],
          [
           "Junaidi",
           2.2222749239735604
          ],
          [
           "Herwansyah",
           2.1906036017702504
          ],
          [
           "Miswanto",
           2.256403464787356
          ],
          [
           "Hardi Rianto",
           2.222243741662663
          ],
          [
           "Abdul Kolik",
           2.2222262131573993
          ],
          [
           "Agus Widodo",
           2.2564058799765467
          ],
          [
           "Hendriko Lubis",
           2.2221986001464473
          ],
          [
           "Suprianto Gunawan",
           2.2221986001464473
          ],
          [
           "Supriadi",
           2.2222782376586685
          ],
          [
           "Tukino",
           2.222289466809861
          ],
          [
           "Bunawan",
           2.2564036254153796
          ],
          [
           "Junaidi",
           2.222204965567775
          ],
          [
           "Subroto",
           2.2222253600203805
          ],
          [
           "Sutia Budi",
           2.222323182682456
          ],
          [
           "Irwan Syahputra",
           2.2222090266640304
          ],
          [
           "Rasiman",
           2.222304286750909
          ],
          [
           "Riswandi",
           2.2666611982652163
          ],
          [
           "Supriadi",
           2.222334534553454
          ],
          [
           "Iyon Hendri Wigin Sihombing",
           2.2708306502829267
          ],
          [
           "Abd Manap",
           2.1904560630117555
          ],
          [
           "Tusirin",
           2.1904671191401293
          ],
          [
           "Dafid Heriyandi",
           2.24242351359385
          ],
          [
           "Rudianto",
           2.19051057500931
          ],
          [
           "Sukadi Purnawan",
           2.222283035427515
          ],
          [
           "Alfian",
           2.222272952146885
          ],
          [
           "Agus Darmawan",
           2.2564058799765467
          ],
          [
           "Irfan Masri",
           2.222351216149004
          ],
          [
           "Eko Nofriyadi",
           2.222307904037769
          ],
          [
           "Adriadi",
           2.2424226343112537
          ],
          [
           "Sutrisno",
           2.222323182682456
          ],
          [
           "Jujur Sianipar",
           2.2666615505391827
          ],
          [
           "Suhendra",
           2.2424232892806133
          ],
          [
           "Pariaman",
           2.2222730608109096
          ],
          [
           "Mafluthi",
           2.2223037996932287
          ],
          [
           "Sahuddin",
           2.1904643936020567
          ],
          [
           "Rapudinsyah",
           2.2222319068292817
          ],
          [
           "Suhermanto",
           2.222247362895609
          ],
          [
           "Endang Johari",
           2.2222740224584747
          ],
          [
           "Arianto",
           2.222213444349971
          ],
          [
           "Sudirman",
           2.222321464345657
          ],
          [
           "Edi Suryanto",
           2.2223499620804867
          ],
          [
           "Widodo",
           2.2223215729147716
          ],
          [
           "Suparlan",
           2.22222587810145
          ],
          [
           "Ariyanto",
           2.222271208965353
          ],
          [
           "Abdul Muis",
           2.2222635194450726
          ],
          [
           "Hairul Azmi",
           2.2223096460676013
          ],
          [
           "Ahmad Syafii",
           2.2222275265099807
          ],
          [
           "Suhendra",
           2.222277750372419
          ],
          [
           "Pariatno",
           2.222246323911866
          ],
          [
           "Herwin",
           2.222255650836589
          ],
          [
           "Iwan",
           2.222243741662663
          ],
          [
           "Andi Susanto",
           2.2222253600203805
          ],
          [
           "Muhammad Juli Akbar",
           2.2222349772946624
          ],
          [
           "Makmur Lubis",
           2.2666610776167646
          ],
          [
           "Kamsito",
           2.2222730608109096
          ],
          [
           "Sucipto",
           2.249992567029487
          ],
          [
           "Sohirin",
           2.2083264165626306
          ],
          [
           "Zulkarnain",
           2.2222740224584747
          ],
          [
           "M Rizal",
           2.222229687664146
          ],
          [
           "Irianda",
           2.1904587888676934
          ],
          [
           "Hari Irawan",
           2.190456617071815
          ],
          [
           "Sutrisno",
           2.2222410353617934
          ],
          [
           "Roso",
           2.277773975578039
          ],
          [
           "Sugianto",
           2.222238452866714
          ],
          [
           "Darwin",
           2.222344683393908
          ],
          [
           "Suyono S",
           2.222269972938418
          ],
          [
           "Ramli Situmorang",
           2.222304286750909
          ],
          [
           "Aan Priatna",
           2.2222990037184336
          ],
          [
           "Tono Prayitno Syahputra",
           2.208387268840688
          ],
          [
           "Suwito",
           2.222334534553454
          ],
          [
           "Bambang Irawan",
           2.2222003456079773
          ],
          [
           "Irwan Sanusi Siregar",
           2.2223150366693187
          ],
          [
           "Agus Salim",
           2.222291318046611
          ],
          [
           "Sukur",
           2.19046656516152
          ],
          [
           "Saman",
           2.2666610776167646
          ],
          [
           "Sofyan",
           2.2666593841061946
          ],
          [
           "Ngatino",
           2.1904671191401293
          ],
          [
           "Budi Lubis",
           2.22230021959808
          ],
          [
           "Muhammad Safi'I,St",
           2.222272952146885
          ],
          [
           "Suyitno",
           2.2223025445528894
          ],
          [
           "Muhammad Yusuf",
           2.222229687664146
          ],
          [
           "Junaidi",
           2.2222960060664425
          ],
          [
           "Abdul Muis",
           2.2222990037184336
          ],
          [
           "Misdi",
           2.2222349772946624
          ],
          [
           "Ralim",
           2.222297261354613
          ],
          [
           "M Tri Kurniantoro",
           2.222233232920826
          ],
          [
           "Hendri Dora",
           2.222316182947798
          ],
          [
           "Zoelkifli",
           2.22227186858046
          ],
          [
           "Suhardi",
           2.222255650836589
          ],
          [
           "Yamin Prihatin",
           2.222321464345657
          ],
          [
           "Sukarno",
           2.2222090266640304
          ],
          [
           "Junaidi",
           2.2666616711859238
          ],
          [
           "Syafrizal",
           2.256404094422717
          ],
          [
           "Suyato",
           2.22228418236692
          ],
          [
           "Ilyas",
           2.2222783463123505
          ],
          [
           "Sugianto",
           2.222204965567775
          ],
          [
           "Sumardi",
           2.2222090266640304
          ],
          [
           "Ari Kusmana",
           2.222276494643055
          ],
          [
           "Sugianto",
           2.2222609379952467
          ],
          [
           "Suwito",
           2.222204965567775
          ],
          [
           "Kasim",
           2.2424190369414827
          ],
          [
           "Adi Irwanto",
           2.2564058799765467
          ],
          [
           "Misdi",
           2.256403464787356
          ],
          [
           "Suardi",
           2.1904643936020567
          ],
          [
           "Hardiansyah",
           2.24242351359385
          ],
          [
           "M. Abdul Jailani",
           2.2222064074524472
          ],
          [
           "Indra Irawan",
           2.1666069286551948
          ],
          [
           "Rahmad Syahputra",
           2.222297261354613
          ],
          [
           "Safarun",
           2.2222635194450726
          ],
          [
           "Suhendra",
           2.1666695096225865
          ],
          [
           "Muhammad Widodo",
           2.2564042550481105
          ],
          [
           "Matfiah",
           2.2222275265099807
          ],
          [
           "Edy Haryanto",
           2.222346424269777
          ],
          [
           "Dahli Syaandri",
           2.2223032170225747
          ],
          [
           "Nusa Antari",
           2.2222271914619536
          ],
          [
           "Barmen",
           2.20833279362614
          ],
          [
           "Suardi",
           2.222327512984635
          ],
          [
           "Muhammad  Abdi Prihartono",
           2.2222275265099807
          ],
          [
           "Iswadi",
           2.222289575441571
          ],
          [
           "Sudarso Diatmaja",
           2.2223145497059487
          ],
          [
           "Deni Pebrianto Syahputra",
           2.2222036516817605
          ],
          [
           "Wan Syahrizal",
           2.2666616711859238
          ],
          [
           "Adi Arianto",
           2.2222907222458885
          ],
          [
           "Bahari",
           2.2222211749239626
          ],
          [
           "Daryusman",
           2.190523814581661
          ],
          [
           "M Suhartono",
           2.2708301286249624
          ],
          [
           "Sanja Primaja",
           2.22228418236692
          ],
          [
           "Dariono",
           2.2223499620804867
          ]
         ],
         "hovertemplate": "PCA1=%{x}<br>PCA2=%{y}<br>Nama=%{customdata[0]}<br>Decision Value=%{customdata[1]}<br>Status Kesesuaian=%{marker.color}<extra></extra>",
         "legendgroup": "",
         "marker": {
          "color": [
           1,
           1,
           1,
           1,
           1,
           0,
           1,
           1,
           0,
           0,
           1,
           2,
           2,
           0,
           1,
           2,
           1,
           1,
           1,
           1,
           2,
           2,
           1,
           1,
           1,
           1,
           2,
           2,
           2,
           0,
           2,
           0,
           0,
           1,
           1,
           1,
           2,
           1,
           1,
           1,
           1,
           1,
           2,
           1,
           1,
           1,
           1,
           1,
           1,
           1,
           1,
           1,
           2,
           2,
           1,
           2,
           2,
           1,
           2,
           2,
           1,
           1,
           0,
           1,
           2,
           1,
           1,
           1,
           2,
           2,
           1,
           1,
           2,
           2,
           1,
           1,
           1,
           2,
           2,
           2,
           1,
           0,
           2,
           1,
           0,
           1,
           1,
           2,
           1,
           2,
           1,
           1,
           2,
           1,
           1,
           1,
           1,
           1,
           1,
           0,
           2,
           0,
           1,
           1,
           1,
           1,
           2,
           1,
           1,
           1,
           1,
           1,
           0,
           0,
           1,
           1,
           2,
           2,
           1,
           2,
           2,
           1,
           1,
           2,
           1,
           2,
           1,
           0,
           1,
           1,
           1,
           1,
           2,
           0,
           2,
           0,
           1,
           1,
           2,
           1,
           0,
           1,
           1,
           1,
           1,
           1,
           1,
           0,
           1,
           2,
           1,
           1,
           1,
           0,
           1,
           1,
           2,
           2,
           1,
           2,
           1,
           2,
           1,
           2,
           1,
           2,
           1,
           2,
           2,
           1,
           0,
           1,
           1,
           2,
           1,
           1,
           2,
           2,
           1,
           1,
           2,
           1,
           1,
           2,
           0,
           2,
           1,
           2,
           1,
           1,
           0,
           0,
           2,
           1,
           1,
           1,
           1,
           1,
           2,
           2,
           1,
           2,
           1,
           1,
           2,
           0,
           0,
           1,
           1,
           1,
           2,
           1,
           1,
           2,
           2,
           1,
           2,
           2,
           2,
           0,
           0,
           2,
           2,
           2,
           1,
           2,
           1,
           1,
           1,
           1,
           2,
           1,
           1,
           0,
           1,
           2,
           1,
           2,
           2,
           1,
           1,
           2,
           1,
           0,
           0,
           2,
           1,
           1,
           1,
           1,
           1,
           0,
           1,
           2,
           1,
           0,
           0,
           2,
           0,
           2,
           2,
           1,
           0,
           1,
           1,
           2,
           2,
           0,
           0,
           1,
           2,
           2,
           2,
           2,
           1,
           1,
           2,
           1,
           1,
           0,
           2,
           2,
           1,
           1,
           2,
           1,
           1,
           2,
           2,
           1,
           0,
           1,
           1,
           1,
           2,
           1,
           1,
           1,
           2,
           1,
           1,
           1,
           2,
           0,
           2,
           0,
           1,
           0,
           0,
           2,
           1,
           1,
           1,
           0,
           2,
           1,
           1,
           2,
           0,
           1,
           2,
           2,
           2,
           1,
           2,
           2,
           1,
           1,
           0,
           1,
           1,
           2,
           1,
           0,
           2,
           1,
           0,
           1,
           0,
           1,
           1,
           1,
           1,
           0,
           1,
           2,
           1,
           2,
           1,
           1,
           0,
           0,
           2,
           2,
           1,
           1,
           2,
           0,
           1,
           0,
           2,
           1,
           1,
           1,
           1,
           1,
           0,
           2,
           2,
           1,
           2,
           2,
           1,
           2,
           0,
           2,
           0,
           1,
           2,
           1,
           0,
           0,
           2,
           1,
           2,
           2,
           1,
           1,
           1,
           1,
           2,
           2,
           1,
           0,
           2,
           1,
           2,
           1,
           0,
           0,
           0,
           2,
           0,
           1,
           1,
           2,
           1,
           1,
           2,
           0,
           2,
           2,
           1,
           1,
           0,
           1,
           1,
           1,
           1,
           1,
           1,
           1,
           2,
           1,
           1,
           1,
           2,
           1,
           1,
           1,
           1,
           1,
           1,
           2,
           1,
           2,
           2,
           1,
           1,
           0,
           0,
           1,
           2,
           1,
           1,
           0,
           1,
           1,
           2,
           1,
           1,
           1,
           1,
           0,
           2,
           2,
           0,
           1,
           1,
           1,
           1,
           1,
           1,
           1,
           1,
           1,
           1,
           0,
           1,
           1,
           2,
           2,
           2,
           1,
           1,
           2,
           2,
           1,
           1,
           2,
           2,
           2,
           2,
           0,
           2,
           1,
           2,
           1,
           1,
           2,
           2,
           2,
           1,
           1,
           2,
           2,
           1,
           2,
           1,
           1,
           2,
           2,
           1,
           2,
           0,
           0,
           1,
           1
          ],
          "coloraxis": "coloraxis",
          "symbol": "circle"
         },
         "mode": "markers",
         "name": "",
         "orientation": "v",
         "showlegend": false,
         "type": "scatter",
         "x": [
          -1.7413534800559578,
          -0.8551607059412568,
          -1.0782063504398292,
          -1.7274270753774672,
          -1.9083735370367974,
          1.847089939109742,
          -1.1221823844787229,
          -1.1637861057440073,
          2.168670426778928,
          1.5788976125537901,
          -0.9803228552775113,
          1.6359732104926803,
          1.915575152919958,
          1.8027939362670877,
          -1.4313819394645273,
          1.9295015575984529,
          -1.542617684122287,
          -1.2744253575663371,
          -0.9538161867092053,
          -1.317375219620306,
          1.1978692141721023,
          1.7902136723772764,
          -1.049182893064356,
          -1.148689053047029,
          -1.317375219620306,
          -1.2339922843195363,
          1.6903326884179766,
          1.6903326884179766,
          1.5914778764436017,
          1.8041400770557718,
          1.4091852739955886,
          2.1257205647249604,
          2.310529955980141,
          -1.049182893064356,
          -1.4184268515980891,
          -1.2769421463735051,
          1.4091852739955886,
          -1.7249102865702994,
          -0.9095201838665528,
          -1.008749819817555,
          -1.2490893370165148,
          -1.4996678220683184,
          1.5914778764436017,
          -1.0782063504398298,
          -1.403329798901111,
          -1.2883517622448326,
          -1.48671273420188,
          -0.8690871106197514,
          -1.4313819394645273,
          -1.2769421463735051,
          -1.767860148624268,
          -1.8818668684684898,
          2.379986486602415,
          1.5939946652507688,
          -1.1512058418541964,
          2.0978677553679703,
          1.3687522007487876,
          -1.6970574772133096,
          2.1003845441751383,
          2.1003845441751383,
          -1.4588599248448904,
          -1.6701759846683764,
          2.310529955980141,
          -1.444933520166395,
          1.1409929474396392,
          -1.7119551987038613,
          -0.923446588545048,
          -1.767860148624268,
          1.677752424528166,
          1.3662354119416202,
          -1.9248167305224584,
          -1.684477213323499,
          1.2117956188505974,
          1.1005598741928382,
          -0.9808970104605648,
          -1.403329798901111,
          -1.9248167305224584,
          1.6348025624741973,
          1.886551695544484,
          1.647382826364008,
          -1.642498668081587,
          2.0435082774426743,
          1.677752424528166,
          -2.107109332970471,
          1.8875230123565412,
          -1.2339922843195363,
          -1.4159100627909214,
          2.0978677553679703,
          -1.6285722634030921,
          1.8890684843516516,
          -1.4313819394645273,
          -1.6690053366498931,
          2.3370366245484466,
          -1.108255979800228,
          -1.4592347488215178,
          -1.5147648747652969,
          -1.9248167305224584,
          -1.684477213323499,
          -1.1512058418541964,
          1.8445731503025726,
          1.325802338694819,
          1.5775514717651062,
          -1.9652498037692594,
          -1.471815012711328,
          -1.7119551987038613,
          -1.7109838818918048,
          1.6903326884179766,
          -1.0642799457613343,
          -1.6007194540461018,
          -1.6715221254570607,
          -1.2895224102633154,
          -1.48671273420188,
          1.6218474746077594,
          1.6193306858005916,
          -0.8830135152982468,
          -1.7119551987038613,
          1.6903326884179766,
          1.6498996151711753,
          -1.2465725482093475,
          1.8596702029995513,
          1.915575152919958,
          -1.5135942267468137,
          -1.9097196778254801,
          2.140817617421939,
          -1.049182893064356,
          1.6638260198496708,
          -2.19049226827124,
          1.5788976125537901,
          -2.147542406217272,
          -1.9931026131262497,
          -1.137279437175701,
          -2.177912004381429,
          1.647382826364008,
          2.1686704267789283,
          1.182772161475124,
          1.9016487482414628,
          -2.2183450776282307,
          -2.1904922682712407,
          1.4091852739955886,
          -1.4588599248448904,
          2.1686704267789283,
          -1.0516996818715239,
          -1.1512058418541964,
          -1.4323532562765842,
          -1.0642799457613343,
          -1.6566244039665081,
          -2.147542406217272,
          1.9029948890301467,
          -1.6007194540461018,
          1.168845756796629,
          -1.2055653197794927,
          -1.5006391388803753,
          -1.9222999417152904,
          1.9029948890301467,
          -1.4996678220683184,
          -1.767860148624268,
          1.8321922176191883,
          1.114486278871333,
          -2.0070290178047445,
          2.1143109488536327,
          -1.474331801518496,
          2.3395534133556133,
          -1.0943295751217328,
          1.5510448031968003,
          -1.4437628721479117,
          1.7902136723772764,
          -1.767860148624268,
          1.5939946652507688,
          1.81923712975275,
          -1.6285722634030921,
          1.5788976125537901,
          -1.8818668684684898,
          -1.48671273420188,
          1.6487289671526923,
          -1.2744253575663371,
          -1.2339922843195363,
          1.5939946652507688,
          1.8735966076780466,
          -1.2769421463735051,
          -1.0074036790288707,
          1.1284126835498278,
          -1.4462796609550796,
          -1.1347626483685338,
          1.7762872676987815,
          1.7623608630202863,
          1.2117956188505974,
          -0.9808970104605648,
          1.114486278871333,
          -1.2895224102633154,
          -1.2769421463735051,
          1.9029948890301467,
          2.1257205647249604,
          1.647382826364008,
          -1.4298364674694168,
          -1.6705508086450038,
          -1.4592347488215178,
          -0.910866324655237,
          -1.4184268515980891,
          1.168845756796629,
          1.8751420796731566,
          -1.6841023893468714,
          2.1117941600464656,
          -1.6854485301355557,
          -2.1765658635927454,
          1.1574361409253016,
          1.9434279622769475,
          1.8600450269761786,
          -0.9803228552775113,
          -0.9948234151390603,
          -0.9095201838665528,
          1.6903326884179766,
          -1.6436693161000702,
          -0.9803228552775113,
          1.691678829206661,
          1.1005598741928382,
          -2.133616001538777,
          1.8331635344312451,
          1.6638260198496708,
          1.6903326884179766,
          1.8600450269761786,
          1.3940882212986108,
          1.7762872676987815,
          1.1409929474396392,
          1.7181854977749664,
          -1.6841023893468714,
          1.8726252908659893,
          -1.9236460825039756,
          -1.0943295751217328,
          -1.6007194540461018,
          -1.0238468725145335,
          1.6613092310425033,
          -1.5147648747652969,
          -1.7119551987038613,
          1.6193306858005916,
          -2.1500591950244394,
          1.325802338694819,
          -1.4437628721479117,
          1.3826786054272826,
          2.3256270086771194,
          -1.4298364674694168,
          -1.0921327551183246,
          1.9014494170350362,
          -0.9095201838665528,
          2.350963029226942,
          1.3940882212986108,
          1.861016343788235,
          -1.699574266020477,
          -1.7119551987038613,
          -1.7109838818918048,
          -1.6411525272929028,
          -0.9095201838665528,
          2.353479818034109,
          -1.9931026131262497,
          1.8321922176191883,
          -2.1904922682712407,
          1.9004781002229791,
          2.128237353532128,
          1.1978692141721023,
          2.353479818034109,
          1.675235635720998,
          1.3662354119416202,
          -1.684477213323499,
          2.353479818034109,
          -1.9248167305224584,
          -1.9222999417152904,
          1.7902136723772764,
          1.1005598741928382,
          2.128237353532128,
          2.310529955980141,
          -2.107109332970471,
          1.3687522007487876,
          1.9014494170350362,
          1.81923712975275,
          2.0574346821211695,
          -1.684477213323499,
          -2.1500591950244394,
          1.6498996151711753,
          -2.1904922682712407,
          -0.9803228552775113,
          2.350963029226942,
          2.3370366245484466,
          1.8306467456240776,
          -1.4453083441430223,
          -1.2769421463735051,
          1.5914778764436017,
          -1.7400073392672784,
          -1.4437628721479117,
          2.3231102198699514,
          1.5939946652507688,
          -2.1904922682712407,
          2.310529955980141,
          -1.9640791557507757,
          -1.1221823844787229,
          -1.2351629323380198,
          2.1143109488536327,
          -1.4727863295233858,
          -1.699574266020477,
          -1.474331801518496,
          1.5939946652507688,
          -1.699574266020477,
          -2.1488885470059564,
          -2.1500591950244394,
          1.1713625456037966,
          1.5788976125537901,
          1.168845756796629,
          1.6193306858005916,
          -2.2322714823067256,
          1.6218474746077594,
          1.3940882212986108,
          1.886551695544484,
          -1.2326461435308524,
          -1.1777125104225021,
          -1.542617684122287,
          2.310529955980141,
          1.8751420796731566,
          -1.6436693161000702,
          -1.6550789319713977,
          2.1003845441751383,
          1.3940882212986108,
          -1.2055653197794927,
          1.858499554981068,
          1.1700164048151125,
          1.3687522007487876,
          -1.2200658796410417,
          1.6359732104926803,
          1.7042590930964716,
          -1.4996678220683184,
          -2.177912004381429,
          1.9029948890301467,
          -1.8957932731469849,
          -2.204418672949735,
          1.1409929474396392,
          -1.6566244039665081,
          1.3966050101057776,
          1.3662354119416202,
          -1.1651322465326914,
          2.39391289128091,
          -1.474331801518496,
          1.6205013338190748,
          -1.684477213323499,
          -1.4857414173898233,
          -1.683131072534814,
          -2.204418672949735,
          2.39391289128091,
          -1.9791762084477544,
          2.0978677553679703,
          -1.7274270753774674,
          1.168845756796629,
          -1.035256488385861,
          -0.8551607059412565,
          1.9434279622769475,
          1.9434279622769475,
          1.4080146259771051,
          1.6348025624741973,
          -2.2183450776282307,
          -1.4437628721479117,
          2.3660600819239197,
          1.9434279622769475,
          -1.699574266020477,
          2.353479818034109,
          2.0978677553679703,
          -2.107109332970471,
          -1.6285722634030921,
          -1.2055653197794927,
          -0.9095201838665528,
          -0.9808970104605648,
          2.352133677245425,
          2.3231102198699514,
          1.6348025624741973,
          -1.7249102865702994,
          2.0978677553679703,
          1.5939946652507688,
          -1.317375219620306,
          1.5914778764436017,
          1.6193306858005916,
          2.3660600819239197,
          1.4370380833525789,
          -1.6146458587245966,
          2.142163758210623,
          -1.2744253575663371,
          1.804140077055772,
          2.0852874914781596,
          1.8751420796731566,
          -1.206139474962546,
          1.7762872676987815,
          1.3687522007487876,
          -1.049182893064356,
          -1.049182893064356,
          -1.403329798901111,
          -1.7249102865702994,
          1.8321922176191883,
          1.7181854977749664,
          -1.2769421463735051,
          2.310529955980141,
          1.1284126835498278,
          -1.6566244039665081,
          1.1005598741928382,
          -1.8818668684684898,
          1.352309007263125,
          1.9029948890301467,
          1.3940882212986108,
          1.5914778764436017,
          1.6622805478545601,
          -1.4298364674694168,
          -1.4462796609550796,
          1.3687522007487876,
          -2.204418672949735,
          -2.0070290178047445,
          1.5510448031968003,
          2.310529955980141,
          1.1839428094936075,
          1.6344277384975696,
          -1.137279437175701,
          -1.7260809345887826,
          1.3966050101057776,
          -1.26301574169501,
          -1.5565440888007822,
          -1.4313819394645273,
          -0.9808970104605648,
          -1.9097196778254801,
          -2.175395215574262,
          -1.6007194540461018,
          1.81923712975275,
          -1.48671273420188,
          -1.1626154577255239,
          -1.966595944557944,
          1.816720340945583,
          -1.4727863295233858,
          -0.9095201838665528,
          -1.5021846108754862,
          -1.206139474962546,
          -1.2769421463735051,
          -0.8969399199767415,
          1.1435097362468067,
          -1.137279437175701,
          1.1978692141721023,
          2.154744022100434,
          -1.4313819394645273,
          -0.9398897820307102,
          1.9004781002229791,
          1.8600450269761786,
          -0.9524700459205209,
          1.1700164048151125,
          -1.2490893370165148,
          -2.2183450776282307,
          1.8470899391097406,
          -1.6566244039665081,
          -1.699574266020477,
          1.9144045049014746,
          -1.8818668684684898,
          -1.008749819817555,
          -1.6146458587245966,
          -1.3754769895441206,
          1.4370380833525789,
          1.1435097362468067,
          1.606949753117207,
          1.3940882212986108,
          -1.682931741328388,
          -1.4462796609550796,
          -1.6970574772133096,
          -0.9398897820307102,
          -1.7109838818918048,
          -1.699574266020477,
          -0.8969399199767415,
          -1.7400073392672784,
          -0.9373729932235428,
          -1.9526695398794482,
          1.8445731503025726,
          -1.5021846108754862,
          -1.9097196778254801,
          1.1284126835498278,
          1.1409929474396392,
          1.915575152919958,
          -1.767860148624268,
          -1.0943295751217328,
          1.7181854977749664,
          1.1284126835498278,
          -1.4437628721479117,
          -1.4592347488215178,
          1.7181854977749664,
          2.1003845441751383,
          1.3687522007487876,
          1.8751420796731566,
          1.3966050101057776,
          1.5914778764436017,
          -1.0642799457613343,
          1.1423390882283233,
          -1.7400073392672784,
          -1.1626154577255239,
          2.3370366245484466,
          1.8726252908659893,
          1.816720340945583,
          -2.177912004381429,
          -1.6715221254570607,
          1.8596702029995513,
          1.648354143176065,
          -1.9652498037692594,
          1.816720340945583,
          -1.4159100627909214,
          -1.6841023893468714,
          1.677752424528166,
          1.1409929474396392,
          -1.7539337439457734,
          2.2826771466231506,
          1.5788976125537901,
          1.3548257960702925,
          -1.767860148624268,
          -2.175395215574262
         ],
         "xaxis": "x",
         "y": [
          0.8296499786133933,
          -0.5444009551786781,
          1.1253738910420616,
          1.0949401690067908,
          -0.5424961635818061,
          -0.5064771496778336,
          -1.4672519842982428,
          0.4033493483588721,
          -0.32651108232751597,
          1.0570709960359663,
          -0.265540764881949,
          -1.992140411562703,
          -0.9840719210536846,
          1.0039787249713918,
          0.06197240407978794,
          -0.7187817306602861,
          0.6061227847699139,
          -0.9574253609438859,
          0.08496688690090184,
          0.7331032427092858,
          -0.5369108717130978,
          0.9187612635819394,
          -0.8304449030045141,
          -1.8177596360810937,
          0.7331032427092858,
          -0.3416275187676369,
          -1.1110523789930562,
          -1.1110523789930562,
          1.1422884574254188,
          1.184051453975338,
          -0.6752206041671247,
          1.3640175213256556,
          0.875200137088778,
          -0.8304449030045141,
          1.1896887749676563,
          1.3489010848855347,
          -0.6752206041671247,
          -1.211386276822629,
          -1.4254889877483239,
          -0.21464706082826496,
          1.879481465672331,
          -1.084405818883257,
          1.1422884574254188,
          1.1253738910420557,
          -1.031420209472311,
          -1.2227155513372838,
          0.043310552004611036,
          -0.8096911455720747,
          0.06197240407978794,
          1.3489010848855347,
          0.4791423268305426,
          -0.19198851179895512,
          -0.46482081478154286,
          -1.1640379884040017,
          0.4885668097483269,
          0.8334371405388584,
          -1.2910184463433736,
          -0.6808058960358323,
          -1.4728893052905616,
          -1.4728893052905616,
          0.5738909327914075,
          0.7122006652454338,
          0.875200137088778,
          0.839181123184806,
          0.8883275415466753,
          -0.08366990593476076,
          -1.6907791781417223,
          0.4791423268305426,
          -1.1962698403825078,
          1.0153079994860466,
          1.4985400918542162,
          -0.5955884346463798,
          -0.27162068131969963,
          0.27252969937042626,
          0.31593331995853147,
          -1.031420209472311,
          1.4985400918542162,
          0.4942587632706635,
          0.9717468729928854,
          0.5794762246601153,
          -1.423690857805081,
          -0.04765089203078844,
          -1.1962698403825078,
          -0.3189689697383268,
          0.10932069249841539,
          -0.3416275187676369,
          -1.116637670861764,
          0.8334371405388584,
          -1.1584006674116831,
          -1.3345795728365348,
          0.06197240407978794,
          -1.774198509587932,
          1.2257077888716286,
          -1.2019617939048444,
          -0.46860797670700866,
          1.1367031655567106,
          1.4985400918542162,
          -0.5955884346463798,
          0.4885668097483269,
          1.7998492961515866,
          0.39951015730979805,
          0.87699826703202,
          0.8827422496779675,
          -0.5538254380964608,
          -0.08366990593476076,
          -0.9460960864292305,
          -1.1110523789930562,
          1.3906640814354538,
          -0.6278202866248868,
          0.5321279362414881,
          1.2636836234960824,
          0.043310552004611036,
          -0.6334576076172052,
          1.672868838212215,
          -1.0749813359654736,
          -0.08366990593476076,
          -1.1110523789930562,
          -1.7268502211693053,
          -0.4268449801570888,
          -0.4212596882883813,
          -0.9840719210536846,
          -1.349696009276656,
          -0.7225688925857517,
          -0.857091463114313,
          -0.8304449030045141,
          -1.461560030775907,
          0.7557617917385958,
          1.0570709960359663,
          -0.9347668119145756,
          0.35216186889117074,
          0.7538570001417253,
          0.8409792531280483,
          0.5794762246601153,
          -0.32651108232751624,
          1.6841981127268701,
          -1.2493621114470825,
          0.22518141095179933,
          0.7557617917385958,
          -0.6752206041671247,
          0.5738909327914075,
          -0.32651108232751624,
          1.4758815428249066,
          0.4885668097483269,
          0.9243985845742584,
          1.3906640814354538,
          -0.06500805385958336,
          -0.9347668119145756,
          -1.0692893824431366,
          -0.6278202866248868,
          1.4189079223334724,
          -0.39252122282132057,
          -0.22197963838878762,
          -0.8077863539752038,
          -1.0692893824431366,
          -1.084405818883257,
          0.4791423268305426,
          0.09065884042323828,
          0.5378198897638243,
          0.08687167849777233,
          -1.2075991148971637,
          1.7525010077329595,
          -1.080618656957792,
          -0.9366716035114463,
          0.5264906152491696,
          -1.6472180516485604,
          0.9187612635819394,
          0.4791423268305426,
          -1.1640379884040017,
          -1.0370575304646301,
          -1.1584006674116831,
          1.0570709960359663,
          -0.19198851179895512,
          0.043310552004611036,
          0.7595489536640613,
          -0.9574253609438859,
          -0.3416275187676369,
          -1.1640379884040017,
          -0.1559694978949826,
          1.3489010848855347,
          -0.034574331824319175,
          0.8031100801572228,
          0.6591083941808598,
          -1.552469445687695,
          0.6534710731885411,
          0.38818088279514273,
          -0.27162068131969963,
          0.31593331995853147,
          0.5378198897638243,
          1.2636836234960824,
          1.3489010848855347,
          -1.0692893824431366,
          1.3640175213256556,
          0.5794762246601153,
          -1.381927861255162,
          -0.3302982442529817,
          -0.46860797670700866,
          -1.6055617167522698,
          1.1896887749676563,
          1.4189079223334724,
          -1.5998697632299337,
          0.4469104748520357,
          1.098727330932257,
          0.2668377458480897,
          1.0210519821319946,
          -1.152708713889347,
          -0.4534915402668876,
          0.6212392212100347,
          -0.265540764881949,
          0.050643129565133074,
          -1.4254889877483239,
          -1.1110523789930562,
          1.062708317028285,
          -0.265540764881949,
          -0.9309796499891104,
          0.27252969937042626,
          -0.6694766215211773,
          -0.7717673400712318,
          -1.461560030775907,
          -1.1110523789930562,
          0.6212392212100347,
          1.5458883802728436,
          0.6534710731885411,
          0.8883275415466753,
          -0.5804719982062596,
          0.4469104748520357,
          0.7064566825994869,
          -0.9878590829791499,
          -0.9366716035114463,
          -0.6278202866248868,
          2.006461923611703,
          0.8447664150535138,
          1.1367031655567106,
          -0.08366990593476076,
          1.672868838212215,
          1.371559633914845,
          0.39951015730979805,
          -1.6472180516485604,
          -1.025728255949975,
          -1.3459088473511902,
          -1.381927861255162,
          0.8600837006486575,
          0.37461088289181355,
          -1.4254889877483239,
          1.4909979792650265,
          1.5458883802728436,
          -0.24118695928443556,
          1.6255205497935883,
          -0.08366990593476076,
          -0.9460960864292305,
          -1.2436181288011356,
          -1.4254889877483239,
          -0.8153284665643934,
          0.35216186889117074,
          0.09065884042323828,
          0.7557617917385958,
          1.2370370633862837,
          -0.942308924503765,
          -0.5369108717130978,
          -0.8153284665643934,
          1.1100566054469119,
          1.0153079994860466,
          -0.5955884346463798,
          -0.8153284665643934,
          1.4985400918542162,
          -0.8077863539752038,
          0.9187612635819394,
          0.27252969937042626,
          -0.942308924503765,
          0.875200137088778,
          -0.3189689697383268,
          -1.2910184463433736,
          0.37461088289181355,
          -1.0370575304646301,
          0.21763929836261006,
          -0.5955884346463798,
          1.371559633914845,
          -1.7268502211693053,
          0.7557617917385958,
          -0.265540764881949,
          1.4909979792650265,
          1.2257077888716286,
          1.5345591057581887,
          -0.20331778631361017,
          1.3489010848855347,
          1.1422884574254188,
          1.009722707617339,
          -1.6472180516485604,
          0.9604175984782302,
          -1.1640379884040017,
          0.7557617917385958,
          0.875200137088778,
          -1.6036569251553987,
          -1.4672519842982428,
          2.14477165606573,
          -1.2075991148971637,
          0.3086007423980092,
          1.6255205497935883,
          1.7525010077329595,
          -1.1640379884040017,
          1.6255205497935883,
          -1.1148395409185217,
          1.371559633914845,
          -0.8874185234959484,
          1.0570709960359663,
          1.4189079223334724,
          1.672868838212215,
          -0.040108779441599185,
          -0.6334576076172052,
          1.5458883802728436,
          0.9717468729928854,
          -0.1615547897636908,
          0.13805915796547624,
          0.6061227847699139,
          0.875200137088778,
          -1.5998697632299337,
          1.062708317028285,
          -1.508908319194534,
          -1.4728893052905616,
          1.5458883802728436,
          -0.39252122282132057,
          2.065139486544985,
          -1.0674912524998947,
          -1.2910184463433736,
          -0.07633732837423862,
          -1.992140411562703,
          -0.8457621885996575,
          -1.084405818883257,
          0.8409792531280483,
          -1.0692893824431366,
          -0.45727870219235356,
          0.49047160134519796,
          0.8883275415466753,
          -0.06500805385958336,
          -0.7604380655565769,
          1.0153079994860466,
          0.2232766193549287,
          -0.19953062438814442,
          1.7525010077329595,
          -0.813530336621151,
          -0.5955884346463798,
          -0.8191156284898592,
          -0.4155157056424341,
          0.49047160134519796,
          -0.19953062438814442,
          0.6174520592845694,
          0.8334371405388584,
          1.094940169006791,
          1.4189079223334724,
          -0.5651547126111159,
          -0.5444009551786767,
          -0.4534915402668876,
          -0.4534915402668876,
          1.8111785706662418,
          0.4942587632706635,
          0.22518141095179933,
          -1.6472180516485604,
          -0.7301110051749413,
          -0.4534915402668876,
          1.6255205497935883,
          -0.8153284665643934,
          0.8334371405388584,
          -0.3189689697383268,
          -1.1584006674116831,
          -0.39252122282132057,
          -1.4254889877483239,
          0.31593331995853147,
          -0.995401195568339,
          0.9604175984782302,
          0.4942587632706635,
          -1.211386276822629,
          0.8334371405388584,
          -1.1640379884040017,
          0.7331032427092858,
          1.1422884574254188,
          1.672868838212215,
          -0.7301110051749413,
          -0.14464022338032778,
          -0.8931104770182849,
          -0.6770187341103671,
          -0.9574253609438859,
          1.184051453975338,
          0.7482196791494066,
          -1.5998697632299337,
          0.1889528620191599,
          0.6534710731885411,
          -1.2910184463433736,
          -0.8304449030045141,
          -0.8304449030045141,
          -1.031420209472311,
          -1.211386276822629,
          0.09065884042323828,
          -0.5804719982062596,
          1.3489010848855347,
          0.875200137088778,
          0.8031100801572228,
          -0.06500805385958336,
          0.27252969937042626,
          -0.19198851179895512,
          0.7500178090926486,
          -1.0692893824431366,
          1.5458883802728436,
          1.1422884574254188,
          -0.01765976544095636,
          -1.381927861255162,
          0.6591083941808598,
          -1.2910184463433736,
          0.49047160134519796,
          0.08687167849777233,
          0.5264906152491696,
          0.875200137088778,
          -0.8022010621064962,
          -0.5482401462277529,
          0.7538570001417253,
          1.2750128980107374,
          -0.7604380655565769,
          1.614191275278933,
          0.3408325943765157,
          0.06197240407978794,
          0.31593331995853147,
          -0.7225688925857517,
          -1.4653471927013724,
          -0.6278202866248868,
          -1.0370575304646301,
          0.043310552004611036,
          -2.083049826474492,
          0.7026695206740214,
          1.2692689153647903,
          0.3086007423980092,
          -1.4254889877483239,
          1.221920626946163,
          0.1889528620191599,
          1.3489010848855347,
          -1.3402715263588718,
          -1.417998904282745,
          0.7538570001417253,
          -0.5369108717130978,
          -0.5918012727209145,
          0.06197240407978794,
          0.35025707729429995,
          1.2370370633862837,
          0.6212392212100347,
          0.2650396159048477,
          -1.0674912524998947,
          1.879481465672331,
          0.22518141095179933,
          -0.5064771496778337,
          -0.06500805385958336,
          1.6255205497935883,
          1.502327253779682,
          -0.19198851179895512,
          -0.21464706082826496,
          -0.8931104770182849,
          -0.5008398286855151,
          -0.14464022338032778,
          -1.417998904282745,
          -0.03632161751613345,
          1.5458883802728436,
          -2.03948869998133,
          0.6591083941808598,
          -0.6808058960358323,
          0.35025707729429995,
          -0.9460960864292305,
          1.6255205497935883,
          -1.3402715263588718,
          1.009722707617339,
          -1.9560693685351203,
          0.96795971106742,
          1.7998492961515866,
          1.221920626946163,
          -0.7225688925857517,
          0.8031100801572228,
          0.8883275415466753,
          -0.9840719210536846,
          0.4791423268305426,
          -0.9366716035114463,
          -0.5804719982062596,
          0.8031100801572228,
          -1.6472180516485604,
          -0.46860797670700866,
          -0.5804719982062596,
          -1.4728893052905616,
          -1.2910184463433736,
          -1.5998697632299337,
          -0.7604380655565769,
          1.1422884574254188,
          1.3906640814354538,
          1.068400270550621,
          1.009722707617339,
          -2.083049826474492,
          1.2257077888716286,
          0.7064566825994869,
          1.2692689153647903,
          0.8409792531280483,
          0.5321279362414881,
          -0.4212596882883813,
          -0.2829499558343544,
          0.8827422496779675,
          1.2692689153647903,
          -1.116637670861764,
          0.4469104748520357,
          -1.1962698403825078,
          0.8883275415466753,
          0.7444325172239408,
          0.3446197563019811,
          1.0570709960359663,
          -1.556308636736772,
          0.4791423268305426,
          -1.4653471927013724
         ],
         "yaxis": "y"
        },
        {
         "line": {
          "color": "black",
          "dash": "dash"
         },
         "mode": "lines",
         "name": "Hyperplane",
         "type": "scatter",
         "x": [
          -2.2322714823067256,
          -2.185542347219982,
          -2.138813212133238,
          -2.0920840770464944,
          -2.0453549419597503,
          -1.9986258068730065,
          -1.9518966717862627,
          -1.905167536699519,
          -1.858438401612775,
          -1.8117092665260315,
          -1.7649801314392874,
          -1.7182509963525439,
          -1.6715218612658,
          -1.6247927261790562,
          -1.5780635910923124,
          -1.5313344560055686,
          -1.4846053209188248,
          -1.437876185832081,
          -1.3911470507453372,
          -1.3444179156585934,
          -1.2976887805718496,
          -1.2509596454851057,
          -1.204230510398362,
          -1.1575013753116181,
          -1.1107722402248745,
          -1.0640431051381307,
          -1.017313970051387,
          -0.9705848349646431,
          -0.9238556998778993,
          -0.8771265647911555,
          -0.8303974297044117,
          -0.7836682946176678,
          -0.736939159530924,
          -0.6902100244441802,
          -0.6434808893574364,
          -0.5967517542706926,
          -0.5500226191839488,
          -0.503293484097205,
          -0.45656434901046117,
          -0.40983521392371736,
          -0.36310607883697354,
          -0.31637694375022996,
          -0.26964780866348614,
          -0.22291867357674233,
          -0.1761895384899983,
          -0.1294604034032547,
          -0.08273126831651068,
          -0.036002133229767086,
          0.010727001856976504,
          0.05745613694372054,
          0.10418527203046413,
          0.15091440711720816,
          0.19764354220395175,
          0.24437267729069578,
          0.2911018123774394,
          0.3378309474641834,
          0.384560082550927,
          0.43128921763767103,
          0.4780183527244146,
          0.5247474878111587,
          0.5714766228979022,
          0.6182057579846463,
          0.6649348930713899,
          0.7116640281581339,
          0.7583931632448775,
          0.8051222983316211,
          0.8518514334183651,
          0.8985805685051087,
          0.9453097035918527,
          0.9920388386785963,
          1.0387679737653404,
          1.085497108852084,
          1.132226243938828,
          1.1789553790255716,
          1.2256845141123156,
          1.2724136491990592,
          1.3191427842858032,
          1.3658719193725468,
          1.4126010544592909,
          1.4593301895460344,
          1.5060593246327785,
          1.552788459719522,
          1.5995175948062657,
          1.6462467298930097,
          1.6929758649797533,
          1.7397050000664973,
          1.786434135153241,
          1.8331632702399845,
          1.879892405326729,
          1.9266215404134726,
          1.9733506755002161,
          2.0200798105869597,
          2.066808945673704,
          2.113538080760448,
          2.1602672158471914,
          2.206996350933935,
          2.2537254860206786,
          2.300454621107423,
          2.3471837561941666,
          2.39391289128091
         ],
         "y": [
          -434.2687862914602,
          -434.2687862914602,
          -434.2687862914602,
          -434.2687862914602,
          -434.2687862914602,
          -434.2687862914602,
          -434.2687862914602,
          -434.2687862914602,
          -434.2687862914602,
          -434.2687862914602,
          -434.2687862914602,
          -434.2687862914602,
          -434.2687862914602,
          -434.2687862914602,
          -434.2687862914602,
          -434.2687862914602,
          -434.2687862914602,
          -434.2687862914602,
          -434.2687862914602,
          -434.2687862914602,
          -434.2687862914602,
          -434.2687862914602,
          -434.2687862914602,
          -434.2687862914602,
          -434.2687862914602,
          -434.2687862914602,
          -434.2687862914602,
          -434.2687862914602,
          -434.2687862914602,
          -434.2687862914602,
          -434.2687862914602,
          -434.2687862914602,
          -434.2687862914602,
          -434.2687862914602,
          -434.2687862914602,
          -434.2687862914602,
          -434.2687862914602,
          -434.2687862914602,
          -434.2687862914602,
          -434.2687862914602,
          -434.2687862914602,
          -434.2687862914602,
          -434.2687862914602,
          -434.2687862914602,
          -434.2687862914602,
          -434.2687862914602,
          -434.2687862914602,
          -434.2687862914602,
          -434.2687862914602,
          -434.2687862914602,
          -434.2687862914602,
          -434.2687862914602,
          -434.2687862914602,
          -434.2687862914602,
          -434.2687862914602,
          -434.2687862914602,
          -434.2687862914602,
          -434.2687862914602,
          -434.2687862914602,
          -434.2687862914602,
          -434.2687862914602,
          -434.2687862914602,
          -434.2687862914602,
          -434.2687862914602,
          -434.2687862914602,
          -434.2687862914602,
          -434.2687862914602,
          -434.2687862914602,
          -434.2687862914602,
          -434.2687862914602,
          -434.2687862914602,
          -434.2687862914602,
          -434.2687862914602,
          -434.2687862914602,
          -434.2687862914602,
          -434.2687862914602,
          -434.2687862914602,
          -434.2687862914602,
          -434.2687862914602,
          -434.2687862914602,
          -434.2687862914602,
          -434.2687862914602,
          -434.2687862914602,
          -434.2687862914602,
          -434.2687862914602,
          -434.2687862914602,
          -434.2687862914602,
          -434.2687862914602,
          -434.2687862914602,
          -434.2687862914602,
          -434.2687862914602,
          -434.2687862914602,
          -434.2687862914602,
          -434.2687862914602,
          -434.2687862914602,
          -434.2687862914602,
          -434.2687862914602,
          -434.2687862914602,
          -434.2687862914602,
          -434.2687862914602
         ]
        }
       ],
       "layout": {
        "coloraxis": {
         "colorbar": {
          "title": {
           "text": "Status Kesesuaian"
          }
         },
         "colorscale": [
          [
           0,
           "#0d0887"
          ],
          [
           0.1111111111111111,
           "#46039f"
          ],
          [
           0.2222222222222222,
           "#7201a8"
          ],
          [
           0.3333333333333333,
           "#9c179e"
          ],
          [
           0.4444444444444444,
           "#bd3786"
          ],
          [
           0.5555555555555556,
           "#d8576b"
          ],
          [
           0.6666666666666666,
           "#ed7953"
          ],
          [
           0.7777777777777778,
           "#fb9f3a"
          ],
          [
           0.8888888888888888,
           "#fdca26"
          ],
          [
           1,
           "#f0f921"
          ]
         ]
        },
        "legend": {
         "tracegroupgap": 0
        },
        "template": {
         "data": {
          "bar": [
           {
            "error_x": {
             "color": "#2a3f5f"
            },
            "error_y": {
             "color": "#2a3f5f"
            },
            "marker": {
             "line": {
              "color": "#E5ECF6",
              "width": 0.5
             },
             "pattern": {
              "fillmode": "overlay",
              "size": 10,
              "solidity": 0.2
             }
            },
            "type": "bar"
           }
          ],
          "barpolar": [
           {
            "marker": {
             "line": {
              "color": "#E5ECF6",
              "width": 0.5
             },
             "pattern": {
              "fillmode": "overlay",
              "size": 10,
              "solidity": 0.2
             }
            },
            "type": "barpolar"
           }
          ],
          "carpet": [
           {
            "aaxis": {
             "endlinecolor": "#2a3f5f",
             "gridcolor": "white",
             "linecolor": "white",
             "minorgridcolor": "white",
             "startlinecolor": "#2a3f5f"
            },
            "baxis": {
             "endlinecolor": "#2a3f5f",
             "gridcolor": "white",
             "linecolor": "white",
             "minorgridcolor": "white",
             "startlinecolor": "#2a3f5f"
            },
            "type": "carpet"
           }
          ],
          "choropleth": [
           {
            "colorbar": {
             "outlinewidth": 0,
             "ticks": ""
            },
            "type": "choropleth"
           }
          ],
          "contour": [
           {
            "colorbar": {
             "outlinewidth": 0,
             "ticks": ""
            },
            "colorscale": [
             [
              0,
              "#0d0887"
             ],
             [
              0.1111111111111111,
              "#46039f"
             ],
             [
              0.2222222222222222,
              "#7201a8"
             ],
             [
              0.3333333333333333,
              "#9c179e"
             ],
             [
              0.4444444444444444,
              "#bd3786"
             ],
             [
              0.5555555555555556,
              "#d8576b"
             ],
             [
              0.6666666666666666,
              "#ed7953"
             ],
             [
              0.7777777777777778,
              "#fb9f3a"
             ],
             [
              0.8888888888888888,
              "#fdca26"
             ],
             [
              1,
              "#f0f921"
             ]
            ],
            "type": "contour"
           }
          ],
          "contourcarpet": [
           {
            "colorbar": {
             "outlinewidth": 0,
             "ticks": ""
            },
            "type": "contourcarpet"
           }
          ],
          "heatmap": [
           {
            "colorbar": {
             "outlinewidth": 0,
             "ticks": ""
            },
            "colorscale": [
             [
              0,
              "#0d0887"
             ],
             [
              0.1111111111111111,
              "#46039f"
             ],
             [
              0.2222222222222222,
              "#7201a8"
             ],
             [
              0.3333333333333333,
              "#9c179e"
             ],
             [
              0.4444444444444444,
              "#bd3786"
             ],
             [
              0.5555555555555556,
              "#d8576b"
             ],
             [
              0.6666666666666666,
              "#ed7953"
             ],
             [
              0.7777777777777778,
              "#fb9f3a"
             ],
             [
              0.8888888888888888,
              "#fdca26"
             ],
             [
              1,
              "#f0f921"
             ]
            ],
            "type": "heatmap"
           }
          ],
          "heatmapgl": [
           {
            "colorbar": {
             "outlinewidth": 0,
             "ticks": ""
            },
            "colorscale": [
             [
              0,
              "#0d0887"
             ],
             [
              0.1111111111111111,
              "#46039f"
             ],
             [
              0.2222222222222222,
              "#7201a8"
             ],
             [
              0.3333333333333333,
              "#9c179e"
             ],
             [
              0.4444444444444444,
              "#bd3786"
             ],
             [
              0.5555555555555556,
              "#d8576b"
             ],
             [
              0.6666666666666666,
              "#ed7953"
             ],
             [
              0.7777777777777778,
              "#fb9f3a"
             ],
             [
              0.8888888888888888,
              "#fdca26"
             ],
             [
              1,
              "#f0f921"
             ]
            ],
            "type": "heatmapgl"
           }
          ],
          "histogram": [
           {
            "marker": {
             "pattern": {
              "fillmode": "overlay",
              "size": 10,
              "solidity": 0.2
             }
            },
            "type": "histogram"
           }
          ],
          "histogram2d": [
           {
            "colorbar": {
             "outlinewidth": 0,
             "ticks": ""
            },
            "colorscale": [
             [
              0,
              "#0d0887"
             ],
             [
              0.1111111111111111,
              "#46039f"
             ],
             [
              0.2222222222222222,
              "#7201a8"
             ],
             [
              0.3333333333333333,
              "#9c179e"
             ],
             [
              0.4444444444444444,
              "#bd3786"
             ],
             [
              0.5555555555555556,
              "#d8576b"
             ],
             [
              0.6666666666666666,
              "#ed7953"
             ],
             [
              0.7777777777777778,
              "#fb9f3a"
             ],
             [
              0.8888888888888888,
              "#fdca26"
             ],
             [
              1,
              "#f0f921"
             ]
            ],
            "type": "histogram2d"
           }
          ],
          "histogram2dcontour": [
           {
            "colorbar": {
             "outlinewidth": 0,
             "ticks": ""
            },
            "colorscale": [
             [
              0,
              "#0d0887"
             ],
             [
              0.1111111111111111,
              "#46039f"
             ],
             [
              0.2222222222222222,
              "#7201a8"
             ],
             [
              0.3333333333333333,
              "#9c179e"
             ],
             [
              0.4444444444444444,
              "#bd3786"
             ],
             [
              0.5555555555555556,
              "#d8576b"
             ],
             [
              0.6666666666666666,
              "#ed7953"
             ],
             [
              0.7777777777777778,
              "#fb9f3a"
             ],
             [
              0.8888888888888888,
              "#fdca26"
             ],
             [
              1,
              "#f0f921"
             ]
            ],
            "type": "histogram2dcontour"
           }
          ],
          "mesh3d": [
           {
            "colorbar": {
             "outlinewidth": 0,
             "ticks": ""
            },
            "type": "mesh3d"
           }
          ],
          "parcoords": [
           {
            "line": {
             "colorbar": {
              "outlinewidth": 0,
              "ticks": ""
             }
            },
            "type": "parcoords"
           }
          ],
          "pie": [
           {
            "automargin": true,
            "type": "pie"
           }
          ],
          "scatter": [
           {
            "fillpattern": {
             "fillmode": "overlay",
             "size": 10,
             "solidity": 0.2
            },
            "type": "scatter"
           }
          ],
          "scatter3d": [
           {
            "line": {
             "colorbar": {
              "outlinewidth": 0,
              "ticks": ""
             }
            },
            "marker": {
             "colorbar": {
              "outlinewidth": 0,
              "ticks": ""
             }
            },
            "type": "scatter3d"
           }
          ],
          "scattercarpet": [
           {
            "marker": {
             "colorbar": {
              "outlinewidth": 0,
              "ticks": ""
             }
            },
            "type": "scattercarpet"
           }
          ],
          "scattergeo": [
           {
            "marker": {
             "colorbar": {
              "outlinewidth": 0,
              "ticks": ""
             }
            },
            "type": "scattergeo"
           }
          ],
          "scattergl": [
           {
            "marker": {
             "colorbar": {
              "outlinewidth": 0,
              "ticks": ""
             }
            },
            "type": "scattergl"
           }
          ],
          "scattermapbox": [
           {
            "marker": {
             "colorbar": {
              "outlinewidth": 0,
              "ticks": ""
             }
            },
            "type": "scattermapbox"
           }
          ],
          "scatterpolar": [
           {
            "marker": {
             "colorbar": {
              "outlinewidth": 0,
              "ticks": ""
             }
            },
            "type": "scatterpolar"
           }
          ],
          "scatterpolargl": [
           {
            "marker": {
             "colorbar": {
              "outlinewidth": 0,
              "ticks": ""
             }
            },
            "type": "scatterpolargl"
           }
          ],
          "scatterternary": [
           {
            "marker": {
             "colorbar": {
              "outlinewidth": 0,
              "ticks": ""
             }
            },
            "type": "scatterternary"
           }
          ],
          "surface": [
           {
            "colorbar": {
             "outlinewidth": 0,
             "ticks": ""
            },
            "colorscale": [
             [
              0,
              "#0d0887"
             ],
             [
              0.1111111111111111,
              "#46039f"
             ],
             [
              0.2222222222222222,
              "#7201a8"
             ],
             [
              0.3333333333333333,
              "#9c179e"
             ],
             [
              0.4444444444444444,
              "#bd3786"
             ],
             [
              0.5555555555555556,
              "#d8576b"
             ],
             [
              0.6666666666666666,
              "#ed7953"
             ],
             [
              0.7777777777777778,
              "#fb9f3a"
             ],
             [
              0.8888888888888888,
              "#fdca26"
             ],
             [
              1,
              "#f0f921"
             ]
            ],
            "type": "surface"
           }
          ],
          "table": [
           {
            "cells": {
             "fill": {
              "color": "#EBF0F8"
             },
             "line": {
              "color": "white"
             }
            },
            "header": {
             "fill": {
              "color": "#C8D4E3"
             },
             "line": {
              "color": "white"
             }
            },
            "type": "table"
           }
          ]
         },
         "layout": {
          "annotationdefaults": {
           "arrowcolor": "#2a3f5f",
           "arrowhead": 0,
           "arrowwidth": 1
          },
          "autotypenumbers": "strict",
          "coloraxis": {
           "colorbar": {
            "outlinewidth": 0,
            "ticks": ""
           }
          },
          "colorscale": {
           "diverging": [
            [
             0,
             "#8e0152"
            ],
            [
             0.1,
             "#c51b7d"
            ],
            [
             0.2,
             "#de77ae"
            ],
            [
             0.3,
             "#f1b6da"
            ],
            [
             0.4,
             "#fde0ef"
            ],
            [
             0.5,
             "#f7f7f7"
            ],
            [
             0.6,
             "#e6f5d0"
            ],
            [
             0.7,
             "#b8e186"
            ],
            [
             0.8,
             "#7fbc41"
            ],
            [
             0.9,
             "#4d9221"
            ],
            [
             1,
             "#276419"
            ]
           ],
           "sequential": [
            [
             0,
             "#0d0887"
            ],
            [
             0.1111111111111111,
             "#46039f"
            ],
            [
             0.2222222222222222,
             "#7201a8"
            ],
            [
             0.3333333333333333,
             "#9c179e"
            ],
            [
             0.4444444444444444,
             "#bd3786"
            ],
            [
             0.5555555555555556,
             "#d8576b"
            ],
            [
             0.6666666666666666,
             "#ed7953"
            ],
            [
             0.7777777777777778,
             "#fb9f3a"
            ],
            [
             0.8888888888888888,
             "#fdca26"
            ],
            [
             1,
             "#f0f921"
            ]
           ],
           "sequentialminus": [
            [
             0,
             "#0d0887"
            ],
            [
             0.1111111111111111,
             "#46039f"
            ],
            [
             0.2222222222222222,
             "#7201a8"
            ],
            [
             0.3333333333333333,
             "#9c179e"
            ],
            [
             0.4444444444444444,
             "#bd3786"
            ],
            [
             0.5555555555555556,
             "#d8576b"
            ],
            [
             0.6666666666666666,
             "#ed7953"
            ],
            [
             0.7777777777777778,
             "#fb9f3a"
            ],
            [
             0.8888888888888888,
             "#fdca26"
            ],
            [
             1,
             "#f0f921"
            ]
           ]
          },
          "colorway": [
           "#636efa",
           "#EF553B",
           "#00cc96",
           "#ab63fa",
           "#FFA15A",
           "#19d3f3",
           "#FF6692",
           "#B6E880",
           "#FF97FF",
           "#FECB52"
          ],
          "font": {
           "color": "#2a3f5f"
          },
          "geo": {
           "bgcolor": "white",
           "lakecolor": "white",
           "landcolor": "#E5ECF6",
           "showlakes": true,
           "showland": true,
           "subunitcolor": "white"
          },
          "hoverlabel": {
           "align": "left"
          },
          "hovermode": "closest",
          "mapbox": {
           "style": "light"
          },
          "paper_bgcolor": "white",
          "plot_bgcolor": "#E5ECF6",
          "polar": {
           "angularaxis": {
            "gridcolor": "white",
            "linecolor": "white",
            "ticks": ""
           },
           "bgcolor": "#E5ECF6",
           "radialaxis": {
            "gridcolor": "white",
            "linecolor": "white",
            "ticks": ""
           }
          },
          "scene": {
           "xaxis": {
            "backgroundcolor": "#E5ECF6",
            "gridcolor": "white",
            "gridwidth": 2,
            "linecolor": "white",
            "showbackground": true,
            "ticks": "",
            "zerolinecolor": "white"
           },
           "yaxis": {
            "backgroundcolor": "#E5ECF6",
            "gridcolor": "white",
            "gridwidth": 2,
            "linecolor": "white",
            "showbackground": true,
            "ticks": "",
            "zerolinecolor": "white"
           },
           "zaxis": {
            "backgroundcolor": "#E5ECF6",
            "gridcolor": "white",
            "gridwidth": 2,
            "linecolor": "white",
            "showbackground": true,
            "ticks": "",
            "zerolinecolor": "white"
           }
          },
          "shapedefaults": {
           "line": {
            "color": "#2a3f5f"
           }
          },
          "ternary": {
           "aaxis": {
            "gridcolor": "white",
            "linecolor": "white",
            "ticks": ""
           },
           "baxis": {
            "gridcolor": "white",
            "linecolor": "white",
            "ticks": ""
           },
           "bgcolor": "#E5ECF6",
           "caxis": {
            "gridcolor": "white",
            "linecolor": "white",
            "ticks": ""
           }
          },
          "title": {
           "x": 0.05
          },
          "xaxis": {
           "automargin": true,
           "gridcolor": "white",
           "linecolor": "white",
           "ticks": "",
           "title": {
            "standoff": 15
           },
           "zerolinecolor": "white",
           "zerolinewidth": 2
          },
          "yaxis": {
           "automargin": true,
           "gridcolor": "white",
           "linecolor": "white",
           "ticks": "",
           "title": {
            "standoff": 15
           },
           "zerolinecolor": "white",
           "zerolinewidth": 2
          }
         }
        },
        "title": {
         "text": "Visualisasi Hasil Pelatihan SVM"
        },
        "xaxis": {
         "anchor": "y",
         "domain": [
          0,
          1
         ],
         "title": {
          "text": "PCA1"
         }
        },
        "yaxis": {
         "anchor": "x",
         "domain": [
          0,
          1
         ],
         "title": {
          "text": "PCA2"
         }
        }
       }
      }
     },
     "metadata": {},
     "output_type": "display_data"
    }
   ],
   "source": [
    "import plotly.express as px\n",
    "import plotly.graph_objects as go\n",
    "from sklearn.decomposition import PCA\n",
    "\n",
    "# Fungsi untuk mendapatkan nilai decision function\n",
    "decision_function = svm_model.decision_function(X_train)\n",
    "\n",
    "# Memilih nilai decision function dari kelas yang paling positif\n",
    "decision_function = np.max(decision_function, axis=1)\n",
    "\n",
    "# Menambahkan kolom 'Decision Value' dan 'Nama' ke data training\n",
    "train_data = pd.DataFrame(X_train, columns=X.columns)\n",
    "print(\"Dimensi X_train:\", X_train.shape)\n",
    "print(\"Dimensi decision_function:\", decision_function.shape)\n",
    "\n",
    "train_data['Decision Value'] = decision_function\n",
    "train_data['Status Kesesuaian'] = y_train.values\n",
    "train_data['Nama'] = data.iloc[y_train.index]['Nama'].values  # Menggunakan indeks y_train\n",
    "\n",
    "# PCA untuk mengurangi dimensi data menjadi 2D\n",
    "pca = PCA(n_components=2)\n",
    "principal_components = pca.fit_transform(X_train)\n",
    "\n",
    "train_data['PCA1'] = principal_components[:, 0]\n",
    "train_data['PCA2'] = principal_components[:, 1]\n",
    "\n",
    "print(\"Data untuk visualisasi:\")\n",
    "display(train_data[['PCA1', 'PCA2', 'Decision Value', 'Status Kesesuaian', 'Nama']])\n",
    "\n",
    "# Plot dengan Plotly\n",
    "fig = px.scatter(\n",
    "    train_data, x='PCA1', y='PCA2', color='Status Kesesuaian', hover_data=['Nama', 'Decision Value'],\n",
    "    title='Visualisasi Hasil Pelatihan SVM'\n",
    ")\n",
    "\n",
    "# Menambahkan hyperplane\n",
    "x_vals = np.linspace(train_data['PCA1'].min(), train_data['PCA1'].max(), 100)\n",
    "y_vals = -(svm_model.coef_[0][0] * x_vals + svm_model.intercept_[0]) / svm_model.coef_[0][1]\n",
    "\n",
    "fig.add_trace(go.Scatter(x=x_vals, y=y_vals, mode='lines', name='Hyperplane', line=dict(color='black', dash='dash')))\n",
    "\n",
    "# Menampilkan plot\n",
    "fig.show()\n"
   ]
  }
 ],
 "metadata": {
  "kernelspec": {
   "display_name": "base",
   "language": "python",
   "name": "python3"
  },
  "language_info": {
   "codemirror_mode": {
    "name": "ipython",
    "version": 3
   },
   "file_extension": ".py",
   "mimetype": "text/x-python",
   "name": "python",
   "nbconvert_exporter": "python",
   "pygments_lexer": "ipython3",
   "version": "3.11.7"
  }
 },
 "nbformat": 4,
 "nbformat_minor": 2
}
